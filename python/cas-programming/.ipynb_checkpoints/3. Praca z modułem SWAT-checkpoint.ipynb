{
 "cells": [
  {
   "cell_type": "markdown",
   "metadata": {},
   "source": [
    "# Praca z modułem SWAT"
   ]
  },
  {
   "cell_type": "code",
   "execution_count": 1,
   "metadata": {
    "collapsed": true
   },
   "outputs": [],
   "source": [
    "import swat"
   ]
  },
  {
   "cell_type": "code",
   "execution_count": 2,
   "metadata": {
    "collapsed": true
   },
   "outputs": [],
   "source": [
    "conn = swat.CAS('cas-controller', 5570)"
   ]
  },
  {
   "cell_type": "code",
   "execution_count": 3,
   "metadata": {},
   "outputs": [
    {
     "data": {
      "text/plain": [
       "CAS('cas-controller', 5570, 'splpif', protocol='cas', name='py-session-1', session='16517741-6608-a345-aa86-acfb22517c18')"
      ]
     },
     "execution_count": 3,
     "metadata": {},
     "output_type": "execute_result"
    }
   ],
   "source": [
    "conn"
   ]
  },
  {
   "cell_type": "markdown",
   "metadata": {},
   "source": [
    "## Uruchamianie CAS Actions"
   ]
  },
  {
   "cell_type": "markdown",
   "metadata": {},
   "source": [
    "**help**"
   ]
  },
  {
   "cell_type": "code",
   "execution_count": 4,
   "metadata": {},
   "outputs": [
    {
     "name": "stdout",
     "output_type": "stream",
     "text": [
      "NOTE: Available Action Sets and Actions:\n",
      "NOTE:    accessControl\n",
      "NOTE:       assumeRole - Assumes a role\n",
      "NOTE:       dropRole - Relinquishes a role\n",
      "NOTE:       showRolesIn - Shows the currently active role\n",
      "NOTE:       showRolesAllowed - Shows the roles that a user is a member of\n",
      "NOTE:       isInRole - Shows whether a role is assumed\n",
      "NOTE:       isAuthorized - Shows whether access is authorized\n",
      "NOTE:       isAuthorizedActions - Shows whether access is authorized to actions\n",
      "NOTE:       isAuthorizedTables - Shows whether access is authorized to tables\n",
      "NOTE:       isAuthorizedColumns - Shows whether access is authorized to columns\n",
      "NOTE:       listAllPrincipals - Lists all principals that have explicit access controls\n",
      "NOTE:       whatIsEffective - Lists effective access and explanations (Origins)\n",
      "NOTE:       listAcsData - Lists access controls for caslibs, tables, and columns\n",
      "NOTE:       listAcsActionSet - Lists access controls for an action or action set\n",
      "NOTE:       repAllAcsCaslib - Replaces all access controls for a caslib\n",
      "NOTE:       repAllAcsTable - Replaces all access controls for a table\n",
      "NOTE:       repAllAcsColumn - Replaces all access controls for a column\n",
      "NOTE:       repAllAcsActionSet - Replaces all access controls for an action set\n",
      "NOTE:       repAllAcsAction - Replaces all access controls for an action\n",
      "NOTE:       updSomeAcsCaslib - Adds, deletes, and modifies some access controls for a caslib\n",
      "NOTE:       updSomeAcsTable - Adds, deletes, and modifies some access controls for a table\n",
      "NOTE:       updSomeAcsColumn - Adds, deletes, and modifies some access controls for a column\n",
      "NOTE:       updSomeAcsActionSet - Adds, deletes, and modifies some access controls for an action set\n",
      "NOTE:       updSomeAcsAction - Adds, deletes, and modifies some access controls for an action\n",
      "NOTE:       remAllAcsData - Removes all access controls for a caslib, table, or column\n",
      "NOTE:       remAllAcsActionSet - Removes all access controls for an action set or action\n",
      "NOTE:       operTableMd - Adds, deletes, and modifies table metadata\n",
      "NOTE:       operColumnMd - Adds, deletes, and modifies column metadata\n",
      "NOTE:       operActionSetMd - Adds, deletes, and modifies action set metadata\n",
      "NOTE:       operActionMd - Adds, deletes, and modifies action metadata\n",
      "NOTE:       operAdminMd - Assigns users and groups to roles and modifies administrator metadata\n",
      "NOTE:       listMetadata - Lists the metadata for caslibs, tables, columns, action sets, actions, or administrators\n",
      "NOTE:       persistMetadata - Persists the access control metadata\n",
      "NOTE:       createBackup - Creates a backup if one is not in progress\n",
      "NOTE:       completeBackup - Flags a backup as complete\n",
      "NOTE:       operBWPaths - Configures a blacklist or whitelist of paths\n",
      "NOTE:       deleteBWList - Deletes a blacklist or a whitelist\n",
      "NOTE:    builtins\n",
      "NOTE:       addNode - Adds a machine to the server\n",
      "NOTE:       removeNode - Remove one or more machines from the server\n",
      "NOTE:       help - Shows the parameters for an action or lists all available actions\n",
      "NOTE:       listNodes - Shows the host names used by the server\n",
      "NOTE:       loadActionSet - Loads an action set for use in this session\n",
      "NOTE:       installActionSet - Loads an action set in new sessions automatically\n",
      "NOTE:       log - Shows and modifies logging levels\n",
      "NOTE:       queryActionSet - Shows whether an action set is loaded\n",
      "NOTE:       queryName - Checks whether a name is an action or action set name\n",
      "NOTE:       reflect - Shows detailed parameter information for an action or all actions in an action set\n",
      "NOTE:       serverStatus - Shows the status of the server\n",
      "NOTE:       about - Shows the status of the server\n",
      "NOTE:       shutdown - Shuts down the server\n",
      "NOTE:       userInfo - Shows the user information for your connection\n",
      "NOTE:       actionSetInfo - Shows the build information from loaded action sets\n",
      "NOTE:       history - Shows the actions that were run in this session\n",
      "NOTE:       casCommon - Provides parameters that are common to many actions\n",
      "NOTE:       ping - Sends a single request to the server to confirm that the connection is working\n",
      "NOTE:       echo - Prints the supplied parameters to the client log\n",
      "NOTE:       modifyQueue - Modifies the action response queue settings\n",
      "NOTE:       getLicenseInfo - Shows the license information for a SAS product\n",
      "NOTE:       refreshLicense - Refresh SAS license information from a file\n",
      "NOTE:       httpAddress - Shows the HTTP address for the server monitor\n",
      "NOTE:    configuration\n",
      "NOTE:       getServOpt - displays the value of a server option\n",
      "NOTE:       listServOpts - Displays the server options and server values\n",
      "NOTE:    dataPreprocess\n",
      "NOTE:       rustats - Computes robust univariate statistics, centralized moments, quantiles, and frequency distribution statistics\n",
      "NOTE:       impute - Performs data matrix (variable) imputation\n",
      "NOTE:       outlier - Performs outlier detection and treatment\n",
      "NOTE:       binning - Performs unsupervised variable discretization\n",
      "NOTE:       discretize - Performs supervised and unsupervised variable discretization\n",
      "NOTE:       catTrans - Groups and encodes categorical variables using unsupervised and supervised grouping techniques\n",
      "NOTE:       histogram - Generates histogram bins and simple bin-based statistics for numeric variables\n",
      "NOTE:       transform - Performs pipelined variable imputation, outlier detection and treatment, functional transformation, binning, and robust univariate statistics to evaluate the quality of the transformation\n",
      "NOTE:       kde - Computes kernel density estimation\n",
      "NOTE:    dataStep\n",
      "NOTE:       runCode - Runs DATA step code\n",
      "NOTE:    percentile\n",
      "NOTE:       percentile - Calculate quantiles and percentiles\n",
      "NOTE:       boxPlot - Calculate quantiles, high and low whiskers, and outliers\n",
      "NOTE:       assess - Assess and compare models\n",
      "NOTE:    search\n",
      "NOTE:       searchIndex - Searches for a query against an index and retrieves records, documents, and tuples that are relevant to that query\n",
      "NOTE:       searchAggregate - Aggregates certain fields in a table that is usually generated by searchIndex\n",
      "NOTE:       valueCount - value count for multiple fields\n",
      "NOTE:       buildIndex - Creates an empty index using a schema (the first step of Search)\n",
      "NOTE:       getSchema - Gets the schema of an index\n",
      "NOTE:       appendIndex - Loads data to an index after the buildIndex action is performed\n",
      "NOTE:       deleteDocuments - Delete a portion of documents from index\n",
      "NOTE:    session\n",
      "NOTE:       listSessions - Displays a list of the sessions on the server\n",
      "NOTE:       addNodeStatus - Lists details about machines currently being added to the server\n",
      "NOTE:       timeout - Changes the time-out for a session\n",
      "NOTE:       endSession - Ends the current session\n",
      "NOTE:       sessionId - Displays the name and UUID of the current session\n",
      "NOTE:       sessionName - Changes the name of the current session\n",
      "NOTE:       sessionStatus - Displays the status of the current session\n",
      "NOTE:       listresults - Lists the saved results for a session\n",
      "NOTE:       batchresults - Change current action to batch results\n",
      "NOTE:       fetchresult - Fetch the specified saved result for a session\n",
      "NOTE:       flushresult - Flush the saved result for this session\n",
      "NOTE:       setLocale - Changes the locale for the current session\n",
      "NOTE:       metrics - Displays the metrics for each action after it executes\n",
      "NOTE:    sessionProp\n",
      "NOTE:       setSessOpt - Sets a session option\n",
      "NOTE:       getSessOpt - Displays the value of a session option\n",
      "NOTE:       listSessOpts - Displays the session options and session values\n",
      "NOTE:       addFmtLib - Adds a format library\n",
      "NOTE:       listFmtLibs - Lists the format libraries that are associated with the session\n",
      "NOTE:       setFmtSearch - Sets the format libraries to search\n",
      "NOTE:       listFmtSearch - Shows the format library search order\n",
      "NOTE:       dropFmtLib - Drops a format library from global scope for all sessions\n",
      "NOTE:       deleteFormat - Deletes a format from a format library\n",
      "NOTE:       addFormat - Adds a format to a format library\n",
      "NOTE:       listFmtValues - Shows the values for a format\n",
      "NOTE:       saveFmtLib - Saves a format library\n",
      "NOTE:       promoteFmtLib - Promotes a format library to global scope for all sessions\n",
      "NOTE:       listFmtRanges - Displays the range information for a format\n",
      "NOTE:    simple\n",
      "NOTE:       mdSummary - Calculates multidimensional summaries of numeric variables\n",
      "NOTE:       numRows - Shows the number of rows in a Cloud Analytic Services table\n",
      "NOTE:       summary - Generates descriptive statistics of numeric variables such as the sample mean, sample variance, sample size, sum of squares, and so on\n",
      "NOTE:       correlation - Generates a matrix of Pearson product-moment correlation coefficients\n",
      "NOTE:       regression - Performs a linear regression up to 3rd-order polynomials\n",
      "NOTE:       crossTab - Performs one-way or two-way tabulations\n",
      "NOTE:       distinct - Computes the distinct number of values of the variables in the variable list\n",
      "NOTE:       topK - Returns the top-K and bottom-K distinct values of each variable included in the variable list based on a user-specified ranking order\n",
      "NOTE:       groupBy - Builds BY groups in terms of the variable value combinations given the variables in the variable list\n",
      "NOTE:       freq - Generates a frequency distribution for one or more variables\n",
      "NOTE:       paraCoord - Generates a parallel coordinates plot of the variables in the variable list\n",
      "NOTE:    table\n",
      "NOTE:       view - Creates a view from files or tables\n",
      "NOTE:       attribute - Manages extended table attributes\n",
      "NOTE:       upload - Transfers binary data to the server to create objects like tables\n",
      "NOTE:       loadTable - Loads a table from a caslib's data source\n",
      "NOTE:       tableExists - Checks whether a table has been loaded\n",
      "NOTE:       columnInfo - Shows column information\n",
      "NOTE:       fetch - Fetches rows from a table or view\n",
      "NOTE:       save - Saves a table to a caslib's data source\n",
      "NOTE:       addTable - Add a table by sending it from the client to the server\n",
      "NOTE:       tableInfo - Shows information about a table\n",
      "NOTE:       tableDetails - Get detailed information about a table\n",
      "NOTE:       dropTable - Drops a table\n",
      "NOTE:       deleteSource - Delete a table or file from a caslib's data source\n",
      "NOTE:       fileInfo - Lists the files in a caslib's data source\n",
      "NOTE:       promote - Promote a table to global scope\n",
      "NOTE:       addCaslib - Adds a new caslib to enable access to a data source\n",
      "NOTE:       dropCaslib - Drops a caslib\n",
      "NOTE:       caslibInfo - Shows caslib information\n",
      "NOTE:       queryCaslib - Checks whether a caslib exists\n",
      "NOTE:       partition - Partitions a table\n",
      "NOTE:       recordCount - Shows the number of rows in a Cloud Analytic Services table\n",
      "NOTE:       loadDataSource - Loads one or more data source interfaces\n",
      "NOTE:       update - Updates rows in a table\n"
     ]
    }
   ],
   "source": [
    "out = conn.help()"
   ]
  },
  {
   "cell_type": "markdown",
   "metadata": {},
   "source": [
    "**help** - action set **builtins**"
   ]
  },
  {
   "cell_type": "code",
   "execution_count": 4,
   "metadata": {},
   "outputs": [
    {
     "name": "stdout",
     "output_type": "stream",
     "text": [
      "NOTE: Information for action set 'builtins':\n",
      "NOTE:    builtins\n",
      "NOTE:       addNode - Adds a machine to the server\n",
      "NOTE:       removeNode - Remove one or more machines from the server\n",
      "NOTE:       help - Shows the parameters for an action or lists all available actions\n",
      "NOTE:       listNodes - Shows the host names used by the server\n",
      "NOTE:       loadActionSet - Loads an action set for use in this session\n",
      "NOTE:       installActionSet - Loads an action set in new sessions automatically\n",
      "NOTE:       log - Shows and modifies logging levels\n",
      "NOTE:       queryActionSet - Shows whether an action set is loaded\n",
      "NOTE:       queryName - Checks whether a name is an action or action set name\n",
      "NOTE:       reflect - Shows detailed parameter information for an action or all actions in an action set\n",
      "NOTE:       serverStatus - Shows the status of the server\n",
      "NOTE:       about - Shows the status of the server\n",
      "NOTE:       shutdown - Shuts down the server\n",
      "NOTE:       userInfo - Shows the user information for your connection\n",
      "NOTE:       actionSetInfo - Shows the build information from loaded action sets\n",
      "NOTE:       history - Shows the actions that were run in this session\n",
      "NOTE:       casCommon - Provides parameters that are common to many actions\n",
      "NOTE:       ping - Sends a single request to the server to confirm that the connection is working\n",
      "NOTE:       echo - Prints the supplied parameters to the client log\n",
      "NOTE:       modifyQueue - Modifies the action response queue settings\n",
      "NOTE:       getLicenseInfo - Shows the license information for a SAS product\n",
      "NOTE:       refreshLicense - Refresh SAS license information from a file\n",
      "NOTE:       httpAddress - Shows the HTTP address for the server monitor\n"
     ]
    }
   ],
   "source": [
    "out = conn.help(actionset='builtins')"
   ]
  },
  {
   "cell_type": "markdown",
   "metadata": {},
   "source": [
    "pomoc dla akcji **help**"
   ]
  },
  {
   "cell_type": "code",
   "execution_count": 6,
   "metadata": {},
   "outputs": [
    {
     "name": "stdout",
     "output_type": "stream",
     "text": [
      "NOTE: Information for action 'builtins.help':\n",
      "NOTE: The following parameters are accepted.  Default values are shown.\n",
      "NOTE:    string action=NULL,\n",
      "NOTE:       specifies the name of the action for which you want help. The name can be in the form 'actionSetName.actionName' or just 'actionName.\n",
      "NOTE:    string actionSet=NULL,\n",
      "NOTE:       specifies the name of the action set for which you want help. This parameter is ignored if the action parameter is specified.\n",
      "NOTE:    boolean verbose=true\n",
      "NOTE:       when set to True, provides more detail for each parameter.\n"
     ]
    }
   ],
   "source": [
    "out = conn.help(action='help')"
   ]
  },
  {
   "cell_type": "markdown",
   "metadata": {},
   "source": [
    "skrócona pomoc dla akcji **help**"
   ]
  },
  {
   "cell_type": "code",
   "execution_count": 7,
   "metadata": {},
   "outputs": [
    {
     "name": "stdout",
     "output_type": "stream",
     "text": [
      "NOTE: Information for action 'builtins.help':\n",
      "NOTE: The following parameters are accepted.  Default values are shown.\n",
      "NOTE:    string action=NULL,\n",
      "NOTE:    string actionSet=NULL,\n",
      "NOTE:    boolean verbose=true\n"
     ]
    }
   ],
   "source": [
    "out = conn.help(action='help', verbose=False)"
   ]
  },
  {
   "cell_type": "markdown",
   "metadata": {},
   "source": [
    "Można też użyć akcji **help** bezpośrednio jako funckji"
   ]
  },
  {
   "cell_type": "code",
   "execution_count": 5,
   "metadata": {},
   "outputs": [
    {
     "name": "stdout",
     "output_type": "stream",
     "text": [
      "Help on builtins.Help in module swat.cas.actions object:\n",
      "\n",
      "class builtins.Help(CASAction)\n",
      " |  Shows the parameters for an action or lists all available actions\n",
      " |  \n",
      " |  Parameters\n",
      " |  ----------\n",
      " |  action : string, optional\n",
      " |      specifies the name of the action for which you want help. The name\n",
      " |      can be in the form 'actionSetName.actionName' or just 'actionName.\n",
      " |  \n",
      " |  actionset : string, optional\n",
      " |      specifies the name of the action set for which you want help. This\n",
      " |      parameter is ignored if the action parameter is specified.\n",
      " |  \n",
      " |  verbose : boolean, optional\n",
      " |      when set to True, provides more detail for each parameter.\n",
      " |      Default: True\n",
      " |  \n",
      " |  Returns\n",
      " |  -------\n",
      " |  Help object\n",
      " |  \n",
      " |  Method resolution order:\n",
      " |      builtins.Help\n",
      " |      CASAction\n",
      " |      swat.cas.utils.params.ParamManager\n",
      " |      builtins.object\n",
      " |  \n",
      " |  Methods defined here:\n",
      " |  \n",
      " |  __call__(_self_, action=None, actionset=None, verbose=None, **kwargs)\n",
      " |      Shows the parameters for an action or lists all available actions\n",
      " |      \n",
      " |      Parameters\n",
      " |      ----------\n",
      " |      action : string, optional\n",
      " |          specifies the name of the action for which you want help. The name\n",
      " |          can be in the form 'actionSetName.actionName' or just 'actionName.\n",
      " |      \n",
      " |      actionset : string, optional\n",
      " |          specifies the name of the action set for which you want help. This\n",
      " |          parameter is ignored if the action parameter is specified.\n",
      " |      \n",
      " |      verbose : boolean, optional\n",
      " |          when set to True, provides more detail for each parameter.\n",
      " |          Default: True\n",
      " |      \n",
      " |      Returns\n",
      " |      -------\n",
      " |      CASResults object\n",
      " |  \n",
      " |  __init__(_self_, action=None, actionset=None, verbose=None, **kwargs)\n",
      " |      Shows the parameters for an action or lists all available actions\n",
      " |      \n",
      " |      Parameters\n",
      " |      ----------\n",
      " |      action : string, optional\n",
      " |          specifies the name of the action for which you want help. The name\n",
      " |          can be in the form 'actionSetName.actionName' or just 'actionName.\n",
      " |      \n",
      " |      actionset : string, optional\n",
      " |          specifies the name of the action set for which you want help. This\n",
      " |          parameter is ignored if the action parameter is specified.\n",
      " |      \n",
      " |      verbose : boolean, optional\n",
      " |          when set to True, provides more detail for each parameter.\n",
      " |          Default: True\n",
      " |      \n",
      " |      Returns\n",
      " |      -------\n",
      " |      Help object\n",
      " |  \n",
      " |  get_param(_self_, key)\n",
      " |      Get the value of an action parameter\n",
      " |      \n",
      " |      Parameters\n",
      " |      ----------\n",
      " |      key : string\n",
      " |          The fully-qualified name (e.g., table.name) of the parameter to retrieve.\n",
      " |      \n",
      " |      Valid Parameters\n",
      " |      ----------------\n",
      " |      action : string, optional\n",
      " |          specifies the name of the action for which you want help. The name\n",
      " |          can be in the form 'actionSetName.actionName' or just 'actionName.\n",
      " |      \n",
      " |      actionset : string, optional\n",
      " |          specifies the name of the action set for which you want help. This\n",
      " |          parameter is ignored if the action parameter is specified.\n",
      " |      \n",
      " |      verbose : boolean, optional\n",
      " |          when set to True, provides more detail for each parameter.\n",
      " |          Default: True\n",
      " |      \n",
      " |      Returns\n",
      " |      -------\n",
      " |      any\n",
      " |          The value of the speciifed parameter.\n",
      " |  \n",
      " |  get_params(_self_, *keys)\n",
      " |      Get the value of one or more action parameters\n",
      " |      \n",
      " |      Parameters\n",
      " |      ----------\n",
      " |      *keys : one or more strings\n",
      " |          The fully-qualified names (e.g., table.name) of the parameters to retrieve.\n",
      " |      \n",
      " |      Valid Parameters\n",
      " |      ----------------\n",
      " |      action : string, optional\n",
      " |          specifies the name of the action for which you want help. The name\n",
      " |          can be in the form 'actionSetName.actionName' or just 'actionName.\n",
      " |      \n",
      " |      actionset : string, optional\n",
      " |          specifies the name of the action set for which you want help. This\n",
      " |          parameter is ignored if the action parameter is specified.\n",
      " |      \n",
      " |      verbose : boolean, optional\n",
      " |          when set to True, provides more detail for each parameter.\n",
      " |          Default: True\n",
      " |      \n",
      " |      Returns\n",
      " |      -------\n",
      " |      dict\n",
      " |          A dictionary of key value pairs containing the requested parameters.\n",
      " |  \n",
      " |  set_param(_self_, *args, **kwargs)\n",
      " |      Set one or more action parameters\n",
      " |      \n",
      " |      Parameters\n",
      " |      ----------\n",
      " |      *args : string / any pairs, optional\n",
      " |          Parameters can be specified as fully-qualified names (e.g, table.name)\n",
      " |          and values as subsequent arguments.  Any number of name / any pairs\n",
      " |          can be specified.\n",
      " |      **kwargs : any, optional\n",
      " |          Parameters can be specified as any number of keyword arguments.\n",
      " |      \n",
      " |      Examples\n",
      " |      --------\n",
      " |      #\n",
      " |      # String / any pairs\n",
      " |      #\n",
      " |      > summ = s.simple.Sumamry()\n",
      " |      > summ.set_param('table.name', 'iris',\n",
      " |                       'table.singlepass', True,\n",
      " |                       'casout.name', 'iris_summary')\n",
      " |      > print(summ)\n",
      " |      ?.simple.Summary(table={'name': 'iris', 'singlepass': True},\n",
      " |                       casout={'name': 'iris_summary'})\n",
      " |      \n",
      " |      #\n",
      " |      # Keywords\n",
      " |      #\n",
      " |      > summ.set_param(casout=dict(name='iris_out'))\n",
      " |      > print(summ)\n",
      " |      ?.simple.Summary(table={'name': 'iris', 'singlepass': True},\n",
      " |                       casout={'name': 'iris_out'})\n",
      " |      \n",
      " |      Valid Parameters\n",
      " |      ----------------\n",
      " |      action : string, optional\n",
      " |          specifies the name of the action for which you want help. The name\n",
      " |          can be in the form 'actionSetName.actionName' or just 'actionName.\n",
      " |      \n",
      " |      actionset : string, optional\n",
      " |          specifies the name of the action set for which you want help. This\n",
      " |          parameter is ignored if the action parameter is specified.\n",
      " |      \n",
      " |      verbose : boolean, optional\n",
      " |          when set to True, provides more detail for each parameter.\n",
      " |          Default: True\n",
      " |      \n",
      " |      Returns\n",
      " |      -------\n",
      " |      None\n",
      " |  \n",
      " |  set_params(_self_, *args, **kwargs)\n",
      " |      Set one or more action parameters\n",
      " |      \n",
      " |      Parameters\n",
      " |      ----------\n",
      " |      *args : string / any pairs, optional\n",
      " |          Parameters can be specified as fully-qualified names (e.g, table.name)\n",
      " |          and values as subsequent arguments.  Any number of name / any pairs\n",
      " |          can be specified.\n",
      " |      **kwargs : any, optional\n",
      " |          Parameters can be specified as any number of keyword arguments.\n",
      " |      \n",
      " |      Examples\n",
      " |      --------\n",
      " |      #\n",
      " |      # String / any pairs\n",
      " |      #\n",
      " |      > summ = s.simple.Sumamry()\n",
      " |      > summ.set_param('table.name', 'iris',\n",
      " |                       'table.singlepass', True,\n",
      " |                       'casout.name', 'iris_summary')\n",
      " |      > print(summ)\n",
      " |      ?.simple.Summary(table={'name': 'iris', 'singlepass': True},\n",
      " |                       casout={'name': 'iris_summary'})\n",
      " |      \n",
      " |      #\n",
      " |      # Keywords\n",
      " |      #\n",
      " |      > summ.set_param(casout=dict(name='iris_out'))\n",
      " |      > print(summ)\n",
      " |      ?.simple.Summary(table={'name': 'iris', 'singlepass': True},\n",
      " |                       casout={'name': 'iris_out'})\n",
      " |      \n",
      " |      Valid Parameters\n",
      " |      ----------------\n",
      " |      action : string, optional\n",
      " |          specifies the name of the action for which you want help. The name\n",
      " |          can be in the form 'actionSetName.actionName' or just 'actionName.\n",
      " |      \n",
      " |      actionset : string, optional\n",
      " |          specifies the name of the action set for which you want help. This\n",
      " |          parameter is ignored if the action parameter is specified.\n",
      " |      \n",
      " |      verbose : boolean, optional\n",
      " |          when set to True, provides more detail for each parameter.\n",
      " |          Default: True\n",
      " |      \n",
      " |      Returns\n",
      " |      -------\n",
      " |      None\n",
      " |  \n",
      " |  ----------------------------------------------------------------------\n",
      " |  Data and other attributes defined here:\n",
      " |  \n",
      " |  all_params = set(['action', 'actionset', 'verbose'])\n",
      " |  \n",
      " |  param_names = ['action', 'actionset', 'verbose']\n",
      " |  \n",
      " |  ----------------------------------------------------------------------\n",
      " |  Methods inherited from CASAction:\n",
      " |  \n",
      " |  __iter__(self)\n",
      " |      Call the action and iterate over the results\n",
      " |  \n",
      " |  invoke(self, **kwargs)\n",
      " |      Invoke the action\n",
      " |      \n",
      " |      Parameters\n",
      " |      ----------\n",
      " |      **kwargs : any, optional\n",
      " |          Arbitrary key/value pairs to add to the arguments sent to the\n",
      " |          action.  These key/value pairs are not added to the collection\n",
      " |          of parameters set on the action object.  They are only used in\n",
      " |          this call.\n",
      " |      \n",
      " |      Returns\n",
      " |      -------\n",
      " |      self\n",
      " |          Returns the CASAction object itself\n",
      " |  \n",
      " |  retrieve = __call__(self, **kwargs)\n",
      " |      Call the action\n",
      " |      \n",
      " |      Parameters\n",
      " |      ----------\n",
      " |      **kwargs : any, optional\n",
      " |          Arbitrary key/value pairs to add to the arguments sent to the\n",
      " |          action.  These key/value pairs are not added to the collection\n",
      " |          of parameters set on the action object.  They are only used in\n",
      " |          this call.\n",
      " |      \n",
      " |      Returns\n",
      " |      -------\n",
      " |      CASResults object\n",
      " |          Collection of results from the action call\n",
      " |  \n",
      " |  ----------------------------------------------------------------------\n",
      " |  Class methods inherited from CASAction:\n",
      " |  \n",
      " |  from_reflection(asname, actinfo, connection) from builtins.type\n",
      " |      Construct a CASAction class from reflection information\n",
      " |      \n",
      " |      Parameters\n",
      " |      ----------\n",
      " |      asname : string\n",
      " |          The action set name\n",
      " |      actinfo : dict\n",
      " |          The reflection information for the action\n",
      " |      connection : CAS object\n",
      " |          The connection to associate with the CASAction\n",
      " |      defaults : dict\n",
      " |          Default parameters for the action\n",
      " |      \n",
      " |      Returns\n",
      " |      -------\n",
      " |      CASAction class\n",
      " |  \n",
      " |  get_connection() from builtins.type\n",
      " |      Return the registered connection\n",
      " |      \n",
      " |      The connection is only held by a weak reference.  If the\n",
      " |      connection no longer exists, a SWATError is raised.\n",
      " |      \n",
      " |      Raises\n",
      " |      ------\n",
      " |      SWATError\n",
      " |          If the registered connection no longer exists\n",
      " |  \n",
      " |  ----------------------------------------------------------------------\n",
      " |  Data and other attributes inherited from CASAction:\n",
      " |  \n",
      " |  trait_names = None\n",
      " |  \n",
      " |  ----------------------------------------------------------------------\n",
      " |  Methods inherited from swat.cas.utils.params.ParamManager:\n",
      " |  \n",
      " |  __delattr__(self, name)\n",
      " |      Delete an attribute\n",
      " |  \n",
      " |  __enter__(self)\n",
      " |  \n",
      " |  __exit__(self, type, value, traceback)\n",
      " |  \n",
      " |  __getattr__(self, name)\n",
      " |      Get named attribute\n",
      " |  \n",
      " |  __repr__(self)\n",
      " |  \n",
      " |  __setattr__(self, name, value)\n",
      " |      Set an attribute\n",
      " |  \n",
      " |  __str__(self)\n",
      " |  \n",
      " |  del_param = del_params(self, *keys)\n",
      " |      Delete parameters\n",
      " |      \n",
      " |      Parameters\n",
      " |      ----------\n",
      " |      *keys : strings\n",
      " |         Names of parameters to delete\n",
      " |      \n",
      " |      Returns\n",
      " |      -------\n",
      " |      None\n",
      " |  \n",
      " |  del_params(self, *keys)\n",
      " |      Delete parameters\n",
      " |      \n",
      " |      Parameters\n",
      " |      ----------\n",
      " |      *keys : strings\n",
      " |         Names of parameters to delete\n",
      " |      \n",
      " |      Returns\n",
      " |      -------\n",
      " |      None\n",
      " |  \n",
      " |  has_param = has_params(self, *keys)\n",
      " |      Return a boolean indicating whether or not the parameters exist\n",
      " |      \n",
      " |      Parameters\n",
      " |      ----------\n",
      " |      *keys : one or more strings\n",
      " |          Names of parameters\n",
      " |      \n",
      " |      Returns\n",
      " |      -------\n",
      " |      True or False\n",
      " |  \n",
      " |  has_params(self, *keys)\n",
      " |      Return a boolean indicating whether or not the parameters exist\n",
      " |      \n",
      " |      Parameters\n",
      " |      ----------\n",
      " |      *keys : one or more strings\n",
      " |          Names of parameters\n",
      " |      \n",
      " |      Returns\n",
      " |      -------\n",
      " |      True or False\n",
      " |  \n",
      " |  to_dict(self)\n",
      " |      Return the parameters as a dictionary\n",
      " |  \n",
      " |  to_json(self, *args, **kwargs)\n",
      " |      Convert parameters to JSON\n",
      " |      \n",
      " |      Parameters\n",
      " |      ----------\n",
      " |      *args : any, optional\n",
      " |          Additional arguments to json.dumps\n",
      " |      **kwargs : any, optional\n",
      " |          Additional arguments to json.dumps\n",
      " |      \n",
      " |      Returns\n",
      " |      -------\n",
      " |      string\n",
      " |  \n",
      " |  to_params = to_dict(self)\n",
      " |      Return the parameters as a dictionary\n",
      " |  \n",
      " |  ----------------------------------------------------------------------\n",
      " |  Data descriptors inherited from swat.cas.utils.params.ParamManager:\n",
      " |  \n",
      " |  __dict__\n",
      " |      dictionary for instance variables (if defined)\n",
      " |  \n",
      " |  __weakref__\n",
      " |      list of weak references to the object (if defined)\n",
      "\n"
     ]
    }
   ],
   "source": [
    "help(conn.help)"
   ]
  },
  {
   "cell_type": "markdown",
   "metadata": {},
   "source": [
    "pomoc z uchwytu **?**"
   ]
  },
  {
   "cell_type": "code",
   "execution_count": 6,
   "metadata": {
    "collapsed": true
   },
   "outputs": [],
   "source": [
    "conn.help?"
   ]
  },
  {
   "cell_type": "markdown",
   "metadata": {},
   "source": [
    "pomoc dla **builtins**"
   ]
  },
  {
   "cell_type": "code",
   "execution_count": 7,
   "metadata": {
    "collapsed": true
   },
   "outputs": [],
   "source": [
    "conn.builtins?"
   ]
  },
  {
   "cell_type": "markdown",
   "metadata": {},
   "source": [
    "spróbuj użyć TAB do wyświetlenia podpowiedzi"
   ]
  },
  {
   "cell_type": "code",
   "execution_count": 8,
   "metadata": {},
   "outputs": [
    {
     "ename": "SyntaxError",
     "evalue": "invalid syntax (<ipython-input-8-8005ccba3f24>, line 1)",
     "output_type": "error",
     "traceback": [
      "\u001b[0;36m  File \u001b[0;32m\"<ipython-input-8-8005ccba3f24>\"\u001b[0;36m, line \u001b[0;32m1\u001b[0m\n\u001b[0;31m    conn.builtins.\u001b[0m\n\u001b[0m                  ^\u001b[0m\n\u001b[0;31mSyntaxError\u001b[0m\u001b[0;31m:\u001b[0m invalid syntax\n"
     ]
    }
   ],
   "source": [
    "conn.builtins."
   ]
  },
  {
   "cell_type": "markdown",
   "metadata": {},
   "source": [
    "## Specyfikacja paremetrów dla akcji"
   ]
  },
  {
   "cell_type": "markdown",
   "metadata": {},
   "source": [
    "Akcje **echo** do ćwiczenia przekazywania parametrów"
   ]
  },
  {
   "cell_type": "code",
   "execution_count": 9,
   "metadata": {},
   "outputs": [
    {
     "name": "stdout",
     "output_type": "stream",
     "text": [
      "NOTE: builtin.echo called with 8 parameters.\n",
      "NOTE:    parameter 1: double = 3.14159\n",
      "NOTE:    parameter 2: boolean_false = false\n",
      "NOTE:    parameter 3: int32 = 1776\n",
      "NOTE:    parameter 4: dict = {key1 = 'value1', key2 = 'value2', key3 = 3}\n",
      "NOTE:    parameter 5: list = {'item1', 'item2', 'item3'}\n",
      "NOTE:    parameter 6: int64 = 1152921504606846976\n",
      "NOTE:    parameter 7: boolean_true = true\n",
      "NOTE:    parameter 8: string = 'I like snowmen! \u0003'\n"
     ]
    }
   ],
   "source": [
    "out = conn.echo(boolean_true = True,\n",
    "                boolean_false = False,\n",
    "                double = 3.14159,\n",
    "                int32 = 1776,\n",
    "                int64 = 2**60,\n",
    "                string = u'I like snowmen! \\u2603',\n",
    "                list = [u'item1', u'item2', u'item3'],\n",
    "                dict = {'key1': 'value1', \n",
    "                        'key2': 'value2', \n",
    "                        'key3': 3}\n",
    "                )"
   ]
  },
  {
   "cell_type": "markdown",
   "metadata": {},
   "source": [
    "Zagnieżdźone struktury parametrów."
   ]
  },
  {
   "cell_type": "code",
   "execution_count": 15,
   "metadata": {},
   "outputs": [
    {
     "name": "stdout",
     "output_type": "stream",
     "text": [
      "NOTE: builtin.echo called with 1 parameters.\n",
      "NOTE:    parameter 1: list = {'item1', 'item2', {key1 = 'value1', key2 = {value2 = {0, 1, 1, 2, 3}}}}\n"
     ]
    }
   ],
   "source": [
    "out = conn.echo(\n",
    "                list = ['item1', \n",
    "                        'item2',\n",
    "                        {\n",
    "                         'key1': 'value1',\n",
    "                         'key2': {\n",
    "                                  'value2': [0, 1, 1, 2, 3]\n",
    "                                 }\n",
    "                        }\n",
    "                       ])"
   ]
  },
  {
   "cell_type": "markdown",
   "metadata": {},
   "source": [
    "### Konstruowanie zagnieżdzonych parametrów dla akcji"
   ]
  },
  {
   "cell_type": "code",
   "execution_count": 17,
   "metadata": {},
   "outputs": [
    {
     "name": "stdout",
     "output_type": "stream",
     "text": [
      "NOTE: builtin.echo called with 1 parameters.\n",
      "NOTE:    parameter 1: list = {'item1', 'item2', {key1 = 'value1', key2 = {value2 = {0, 1, 1, 2, 3}}}}\n"
     ]
    }
   ],
   "source": [
    "out = conn.echo(\n",
    "                list = ['item1', \n",
    "                        'item2',\n",
    "                        dict(\n",
    "                            key1 = 'value1',\n",
    "                            key2 = dict(\n",
    "                                       value2 = [0, 1, 1, 2, 3]\n",
    "                                   )\n",
    "                        )\n",
    "                    ])"
   ]
  },
  {
   "cell_type": "markdown",
   "metadata": {},
   "source": [
    "Funckja **vl** (value list) pozwala na konstruowanie zagnieżdźonych parametrów w sposób fragmentaryczy. Klucze dodawane są automatycznie podczas próby dostępu do nich."
   ]
  },
  {
   "cell_type": "code",
   "execution_count": 18,
   "metadata": {},
   "outputs": [
    {
     "data": {
      "text/plain": [
       "{'list': {0: 'item1',\n",
       "  1: 'item2',\n",
       "  2: {'key1': 'value1', 'key2': {'value2': [0, 1, 1, 2, 3]}}}}"
      ]
     },
     "execution_count": 18,
     "metadata": {},
     "output_type": "execute_result"
    }
   ],
   "source": [
    "params = swat.vl()\n",
    "params.list[0] = 'item1'\n",
    "params.list[1] = 'item2'\n",
    "params.list[2].key1 = 'value1'\n",
    "params.list[2].key2.value2 = [0, 1, 1, 2, 3]\n",
    "params"
   ]
  },
  {
   "cell_type": "markdown",
   "metadata": {},
   "source": [
    "Ponieważ **vl** jest podklasą słownika to można wyodrębnić jej zawartość do postaci parametrów-kluczy \n",
    "dla funkcji Python za pomocą operatora **\\*\\***"
   ]
  },
  {
   "cell_type": "code",
   "execution_count": 19,
   "metadata": {},
   "outputs": [
    {
     "name": "stdout",
     "output_type": "stream",
     "text": [
      "NOTE: builtin.echo called with 1 parameters.\n",
      "NOTE:    parameter 1: list = {'item1', 'item2', {key1 = 'value1', key2 = {value2 = {0, 1, 1, 2, 3}}}}\n"
     ]
    }
   ],
   "source": [
    "out = conn.echo(**params)"
   ]
  },
  {
   "cell_type": "markdown",
   "metadata": {},
   "source": [
    "Aby usunąć parametr z listy użyj wyrażenia **del**"
   ]
  },
  {
   "cell_type": "code",
   "execution_count": 20,
   "metadata": {},
   "outputs": [
    {
     "data": {
      "text/plain": [
       "{'list': {0: 'item1', 1: 'item2', 2: {'key1': 'value1', 'key2': {}}}}"
      ]
     },
     "execution_count": 20,
     "metadata": {},
     "output_type": "execute_result"
    }
   ],
   "source": [
    "del params.list[2].key2.value2\n",
    "params"
   ]
  },
  {
   "cell_type": "markdown",
   "metadata": {},
   "source": [
    "### Automatyczna konwersja typów"
   ]
  },
  {
   "cell_type": "markdown",
   "metadata": {},
   "source": [
    "Historia wywołanych akcji"
   ]
  },
  {
   "cell_type": "code",
   "execution_count": 23,
   "metadata": {},
   "outputs": [
    {
     "name": "stdout",
     "output_type": "stream",
     "text": [
      "NOTE: 18: action builtins.queryname / name='_repr_html_', _apptag='UI', _messageLevel='error'; /* (SUCCESS) */\n",
      "NOTE: 19: action builtins.queryactionset / actionSet='_ipython_canary_method_should_not_exist_', _apptag='UI', _messageLevel='error'; /* (SUCCESS) */\n",
      "NOTE: 20: action builtins.queryname / name='_ipython_canary_method_should_not_exist_', _apptag='UI', _messageLevel='error'; /* (SUCCESS) */\n"
     ]
    }
   ],
   "source": [
    "out = conn.history(first=18, last=20)"
   ]
  },
  {
   "cell_type": "markdown",
   "metadata": {},
   "source": [
    "Jeżeli wartości numeryczne podamy jako tekst to serwer postara się przekonwertować je do liczb."
   ]
  },
  {
   "cell_type": "code",
   "execution_count": 24,
   "metadata": {},
   "outputs": [
    {
     "name": "stdout",
     "output_type": "stream",
     "text": [
      "NOTE: 18: action builtins.queryname / name='_repr_html_', _apptag='UI', _messageLevel='error'; /* (SUCCESS) */\n",
      "NOTE: 19: action builtins.queryactionset / actionSet='_ipython_canary_method_should_not_exist_', _apptag='UI', _messageLevel='error'; /* (SUCCESS) */\n",
      "NOTE: 20: action builtins.queryname / name='_ipython_canary_method_should_not_exist_', _apptag='UI', _messageLevel='error'; /* (SUCCESS) */\n"
     ]
    }
   ],
   "source": [
    "out = conn.history(first='18', last='20')"
   ]
  },
  {
   "cell_type": "markdown",
   "metadata": {},
   "source": [
    "### Konwersja skalarów do słownika\n",
    "\n",
    "Jeżeli parametr akcji może przyjąć słownik z wieloma kluczami ale wymaga tylko jednego to nie trzeba definiować słownika. Pojedyncza wartość zostanie automatycznie przekonwertowana do słownika po stronie serwera."
   ]
  },
  {
   "cell_type": "code",
   "execution_count": 28,
   "metadata": {
    "collapsed": true
   },
   "outputs": [],
   "source": [
    "conn.history?"
   ]
  },
  {
   "cell_type": "code",
   "execution_count": 25,
   "metadata": {},
   "outputs": [
    {
     "name": "stdout",
     "output_type": "stream",
     "text": [
      "NOTE: 3 records were written to table 'hist\n",
      "NOTE: 18: action builtins.queryname / name='_repr_html_', _apptag='UI', _messageLevel='error'; /* (SUCCESS) */\n",
      "NOTE: 19: action builtins.queryactionset / actionSet='_ipython_canary_method_should_not_exist_', _apptag='UI', _messageLevel='error'; /* (SUCCESS) */\n",
      "NOTE: 20: action builtins.queryname / name='_ipython_canary_method_should_not_exist_', _apptag='UI', _messageLevel='error'; /* (SUCCESS) */\n"
     ]
    }
   ],
   "source": [
    "out = conn.history(casout=dict(name='hist'), first=18, last=20)"
   ]
  },
  {
   "cell_type": "markdown",
   "metadata": {},
   "source": [
    "Here we are specifying **casout** as a string.  This parameter gets converted to a \n",
    "value list in the server as `name='hist2'`."
   ]
  },
  {
   "cell_type": "code",
   "execution_count": 26,
   "metadata": {},
   "outputs": [
    {
     "name": "stdout",
     "output_type": "stream",
     "text": [
      "NOTE: 3 records were written to table 'hist2\n",
      "NOTE: 18: action builtins.queryname / name='_repr_html_', _apptag='UI', _messageLevel='error'; /* (SUCCESS) */\n",
      "NOTE: 19: action builtins.queryactionset / actionSet='_ipython_canary_method_should_not_exist_', _apptag='UI', _messageLevel='error'; /* (SUCCESS) */\n",
      "NOTE: 20: action builtins.queryname / name='_ipython_canary_method_should_not_exist_', _apptag='UI', _messageLevel='error'; /* (SUCCESS) */\n"
     ]
    }
   ],
   "source": [
    "out = conn.history(casout='hist2', first=18, last=20)"
   ]
  },
  {
   "cell_type": "markdown",
   "metadata": {},
   "source": [
    "## Ćwiczenie"
   ]
  },
  {
   "cell_type": "markdown",
   "metadata": {},
   "source": [
    "Stwórz parametr zagnieżdźony dla akcji **history** a następnie wywołaj akcję **history** z utworzonym parametrem."
   ]
  },
  {
   "cell_type": "code",
   "execution_count": 29,
   "metadata": {
    "collapsed": true
   },
   "outputs": [],
   "source": [
    "# miejsce na rozwiązanie"
   ]
  },
  {
   "cell_type": "markdown",
   "metadata": {},
   "source": [
    "## Rezultaty akcji CAS"
   ]
  },
  {
   "cell_type": "code",
   "execution_count": 36,
   "metadata": {},
   "outputs": [
    {
     "name": "stdout",
     "output_type": "stream",
     "text": [
      "NOTE: builtin.echo called with 8 parameters.\n",
      "NOTE:    parameter 1: double = 3.14159\n",
      "NOTE:    parameter 2: boolean_false = false\n",
      "NOTE:    parameter 3: int32 = 1776\n",
      "NOTE:    parameter 4: dict = {key1 = 'value1', key2 = 'value2', key3 = 3}\n",
      "NOTE:    parameter 5: list = {'item1', 'item2', 'item3'}\n",
      "NOTE:    parameter 6: int64 = 1152921504606846976\n",
      "NOTE:    parameter 7: boolean_true = true\n",
      "NOTE:    parameter 8: string = 'I like snowmen! \u0003'\n"
     ]
    }
   ],
   "source": [
    "out = conn.echo(\n",
    "                boolean_true = True,\n",
    "                boolean_false = False,\n",
    "                double = 3.14159,\n",
    "                int32 = 1776,\n",
    "                int64 = 2**60,\n",
    "                string = u'I like snowmen! \\u2603',\n",
    "                list = [u'item1', u'item2', u'item3'],\n",
    "                dict = {'key1': 'value1', \n",
    "                        'key2': 'value2', \n",
    "                        'key3': 3}\n",
    "                )"
   ]
  },
  {
   "cell_type": "code",
   "execution_count": 37,
   "metadata": {},
   "outputs": [
    {
     "data": {
      "text/html": [
       "<div class=\"cas-results-key\"><b>&#167; double</b></div>\n",
       "<div class=\"cas-results-body\">\n",
       "<div>3.14159</div>\n",
       "</div>\n",
       "<div class=\"cas-results-key\"><hr/><b>&#167; boolean_false</b></div>\n",
       "<div class=\"cas-results-body\">\n",
       "<div>False</div>\n",
       "</div>\n",
       "<div class=\"cas-results-key\"><hr/><b>&#167; int32</b></div>\n",
       "<div class=\"cas-results-body\">\n",
       "<div>1776</div>\n",
       "</div>\n",
       "<div class=\"cas-results-key\"><hr/><b>&#167; dict</b></div>\n",
       "<div class=\"cas-results-body\">\n",
       "<div>{'key1': 'value1', 'key3': 3, 'key2': 'value2'}</div>\n",
       "</div>\n",
       "<div class=\"cas-results-key\"><hr/><b>&#167; list</b></div>\n",
       "<div class=\"cas-results-body\">\n",
       "<div>['item1', 'item2', 'item3']</div>\n",
       "</div>\n",
       "<div class=\"cas-results-key\"><hr/><b>&#167; int64</b></div>\n",
       "<div class=\"cas-results-body\">\n",
       "<div>1152921504606846976</div>\n",
       "</div>\n",
       "<div class=\"cas-results-key\"><hr/><b>&#167; boolean_true</b></div>\n",
       "<div class=\"cas-results-body\">\n",
       "<div>True</div>\n",
       "</div>\n",
       "<div class=\"cas-results-key\"><hr/><b>&#167; string</b></div>\n",
       "<div class=\"cas-results-body\">\n",
       "<div>I like snowmen! ☃</div>\n",
       "</div>\n",
       "<div class=\"cas-output-area\"></div>\n",
       "<p class=\"cas-results-performance\"><small><span class=\"cas-elapsed\">elapsed 0.00847s</span> &#183; <span class=\"cas-user\">user 0.00741s</span> &#183; <span class=\"cas-sys\">sys 0.00433s</span> &#183; <span class=\"cas-memory\">mem 0.12MB</span></small></p>"
      ],
      "text/plain": [
       "[double]\n",
       "\n",
       " 3.14159\n",
       "\n",
       "[boolean_false]\n",
       "\n",
       " False\n",
       "\n",
       "[int32]\n",
       "\n",
       " 1776\n",
       "\n",
       "[dict]\n",
       "\n",
       " {'key1': 'value1', 'key2': 'value2', 'key3': 3}\n",
       "\n",
       "[list]\n",
       "\n",
       " ['item1', 'item2', 'item3']\n",
       "\n",
       "[int64]\n",
       "\n",
       " 1152921504606846976\n",
       "\n",
       "[boolean_true]\n",
       "\n",
       " True\n",
       "\n",
       "[string]\n",
       "\n",
       " 'I like snowmen! ☃'\n",
       "\n",
       "+ Elapsed: 0.00847s, user: 0.00741s, sys: 0.00433s, mem: 0.12mb"
      ]
     },
     "execution_count": 37,
     "metadata": {},
     "output_type": "execute_result"
    }
   ],
   "source": [
    "out"
   ]
  },
  {
   "cell_type": "markdown",
   "metadata": {},
   "source": [
    "Rezultaty akcji to obiekt **CASResults** - jest podklasą obiektu Python **OrderedDict**."
   ]
  },
  {
   "cell_type": "code",
   "execution_count": 38,
   "metadata": {},
   "outputs": [
    {
     "data": {
      "text/plain": [
       "swat.cas.results.CASResults"
      ]
     },
     "execution_count": 38,
     "metadata": {},
     "output_type": "execute_result"
    }
   ],
   "source": [
    "type(out)"
   ]
  },
  {
   "cell_type": "code",
   "execution_count": 39,
   "metadata": {},
   "outputs": [
    {
     "data": {
      "text/plain": [
       "{'boolean_false': False,\n",
       " 'boolean_true': True,\n",
       " 'dict': {'key1': 'value1', 'key2': 'value2', 'key3': 3},\n",
       " 'double': 3.14159,\n",
       " 'int32': 1776,\n",
       " 'int64': 1152921504606846976,\n",
       " 'list': ['item1', 'item2', 'item3'],\n",
       " 'string': 'I like snowmen! ☃'}"
      ]
     },
     "execution_count": 39,
     "metadata": {},
     "output_type": "execute_result"
    }
   ],
   "source": [
    "dict(out)"
   ]
  },
  {
   "cell_type": "markdown",
   "metadata": {},
   "source": [
    "Iterowanie poprzez rezultaty"
   ]
  },
  {
   "cell_type": "code",
   "execution_count": 40,
   "metadata": {},
   "outputs": [
    {
     "name": "stdout",
     "output_type": "stream",
     "text": [
      "double\n",
      "3.14159\n",
      "\n",
      "boolean_false\n",
      "False\n",
      "\n",
      "int32\n",
      "1776\n",
      "\n",
      "dict\n",
      "{'key1': 'value1', 'key3': 3, 'key2': 'value2'}\n",
      "\n",
      "list\n",
      "['item1', 'item2', 'item3']\n",
      "\n",
      "int64\n",
      "1152921504606846976\n",
      "\n",
      "boolean_true\n",
      "True\n",
      "\n",
      "string\n",
      "I like snowmen! ☃\n",
      "\n"
     ]
    }
   ],
   "source": [
    "for key, value in out.items():\n",
    "    print(key)\n",
    "    print(value)\n",
    "    print('')"
   ]
  },
  {
   "cell_type": "markdown",
   "metadata": {},
   "source": [
    "### DataFrames\n",
    "\n",
    "Rezultaty wielu akcji z wykonywanych akcji będą zawierać **DataFrames** a dokładnie **SASDataFrames**. Są one podklasą obiektów **DataFrame** pakiety Pandas i można się nimi posługiwać w taki sam sposób. Jedyna różnica jest taka, że zawierają dodatkowe metadane SAS tj. format danych SAS, rozszerzone atrybuty, długości pól itp., które nie są wspierane przez Pandas.\n",
    "\n",
    "Akcja **help** zwraca **DataFrames** zestawów akcji z akcjami i informacjami o akcjach."
   ]
  },
  {
   "cell_type": "code",
   "execution_count": 42,
   "metadata": {},
   "outputs": [
    {
     "name": "stdout",
     "output_type": "stream",
     "text": [
      "NOTE: Available Action Sets and Actions:\n",
      "NOTE:    accessControl\n",
      "NOTE:       assumeRole - Assumes a role\n",
      "NOTE:       dropRole - Relinquishes a role\n",
      "NOTE:       showRolesIn - Shows the currently active role\n",
      "NOTE:       showRolesAllowed - Shows the roles that a user is a member of\n",
      "NOTE:       isInRole - Shows whether a role is assumed\n",
      "NOTE:       isAuthorized - Shows whether access is authorized\n",
      "NOTE:       isAuthorizedActions - Shows whether access is authorized to actions\n",
      "NOTE:       isAuthorizedTables - Shows whether access is authorized to tables\n",
      "NOTE:       isAuthorizedColumns - Shows whether access is authorized to columns\n",
      "NOTE:       listAllPrincipals - Lists all principals that have explicit access controls\n",
      "NOTE:       whatIsEffective - Lists effective access and explanations (Origins)\n",
      "NOTE:       listAcsData - Lists access controls for caslibs, tables, and columns\n",
      "NOTE:       listAcsActionSet - Lists access controls for an action or action set\n",
      "NOTE:       repAllAcsCaslib - Replaces all access controls for a caslib\n",
      "NOTE:       repAllAcsTable - Replaces all access controls for a table\n",
      "NOTE:       repAllAcsColumn - Replaces all access controls for a column\n",
      "NOTE:       repAllAcsActionSet - Replaces all access controls for an action set\n",
      "NOTE:       repAllAcsAction - Replaces all access controls for an action\n",
      "NOTE:       updSomeAcsCaslib - Adds, deletes, and modifies some access controls for a caslib\n",
      "NOTE:       updSomeAcsTable - Adds, deletes, and modifies some access controls for a table\n",
      "NOTE:       updSomeAcsColumn - Adds, deletes, and modifies some access controls for a column\n",
      "NOTE:       updSomeAcsActionSet - Adds, deletes, and modifies some access controls for an action set\n",
      "NOTE:       updSomeAcsAction - Adds, deletes, and modifies some access controls for an action\n",
      "NOTE:       remAllAcsData - Removes all access controls for a caslib, table, or column\n",
      "NOTE:       remAllAcsActionSet - Removes all access controls for an action set or action\n",
      "NOTE:       operTableMd - Adds, deletes, and modifies table metadata\n",
      "NOTE:       operColumnMd - Adds, deletes, and modifies column metadata\n",
      "NOTE:       operActionSetMd - Adds, deletes, and modifies action set metadata\n",
      "NOTE:       operActionMd - Adds, deletes, and modifies action metadata\n",
      "NOTE:       operAdminMd - Assigns users and groups to roles and modifies administrator metadata\n",
      "NOTE:       listMetadata - Lists the metadata for caslibs, tables, columns, action sets, actions, or administrators\n",
      "NOTE:       createBackup - Creates a backup if one is not in progress\n",
      "NOTE:       completeBackup - Flags a backup as complete\n",
      "NOTE:       operBWPaths - Configures a blacklist or whitelist of paths\n",
      "NOTE:       deleteBWList - Deletes a blacklist or a whitelist\n",
      "NOTE:    builtins\n",
      "NOTE:       addNode - Adds a machine to the server\n",
      "NOTE:       removeNode - Remove one or more machines from the server\n",
      "NOTE:       help - Shows the parameters for an action or lists all available actions\n",
      "NOTE:       listNodes - Shows the host names used by the server\n",
      "NOTE:       loadActionSet - Loads an action set for use in this session\n",
      "NOTE:       installActionSet - Loads an action set in new sessions automatically\n",
      "NOTE:       log - Shows and modifies logging levels\n",
      "NOTE:       queryActionSet - Shows whether an action set is loaded\n",
      "NOTE:       queryName - Checks whether a name is an action or action set name\n",
      "NOTE:       reflect - Shows detailed parameter information for an action or all actions in an action set\n",
      "NOTE:       serverStatus - Shows the status of the server\n",
      "NOTE:       about - Shows the status of the server\n",
      "NOTE:       shutdown - Shuts down the server\n",
      "NOTE:       userInfo - Shows the user information for your connection\n",
      "NOTE:       actionSetInfo - Shows the build information from loaded action sets\n",
      "NOTE:       history - Shows the actions that were run in this session\n",
      "NOTE:       casCommon - Provides parameters that are common to many actions\n",
      "NOTE:       ping - Sends a single request to the server to confirm that the connection is working\n",
      "NOTE:       echo - Prints the supplied parameters to the client log\n",
      "NOTE:       modifyQueue - Modifies the action response queue settings\n",
      "NOTE:       getLicenseInfo - Shows the license information for a SAS product\n",
      "NOTE:       refreshLicense - Refresh SAS license information from a file\n",
      "NOTE:       httpAddress - Shows the HTTP address for the server monitor\n",
      "NOTE:    configuration\n",
      "NOTE:       getServOpt - displays the value of a server option\n",
      "NOTE:       listServOpts - Displays the server options and server values\n",
      "NOTE:    dataPreprocess\n",
      "NOTE:       rustats - Computes robust univariate statistics, centralized moments, quantiles, and frequency distribution statistics\n",
      "NOTE:       impute - Performs data matrix (variable) imputation\n",
      "NOTE:       outlier - Performs outlier detection and treatment\n",
      "NOTE:       binning - Performs unsupervised variable discretization\n",
      "NOTE:       discretize - Performs supervised and unsupervised variable discretization\n",
      "NOTE:       catTrans - Groups and encodes categorical variables using unsupervised and supervised grouping techniques\n",
      "NOTE:       histogram - Generates histogram bins and simple bin-based statistics for numeric variables\n",
      "NOTE:       transform - Performs pipelined variable imputation, outlier detection and treatment, functional transformation, binning, and robust univariate statistics to evaluate the quality of the transformation\n",
      "NOTE:       kde - Computes kernel density estimation\n",
      "NOTE:       highCardinality - Performs randomized cardinality estimation\n",
      "NOTE:    dataStep\n",
      "NOTE:       runCode - Runs DATA step code\n",
      "NOTE:    percentile\n",
      "NOTE:       percentile - Calculate quantiles and percentiles\n",
      "NOTE:       boxPlot - Calculate quantiles, high and low whiskers, and outliers\n",
      "NOTE:       assess - Assess and compare models\n",
      "NOTE:    search\n",
      "NOTE:       searchIndex - Searches for a query against an index and retrieves records, documents, and tuples that are relevant to that query\n",
      "NOTE:       searchAggregate - Aggregates certain fields in a table that is usually generated by searchIndex\n",
      "NOTE:       valueCount - value count for multiple fields\n",
      "NOTE:       buildIndex - Creates an empty index using a schema (the first step of Search)\n",
      "NOTE:       getSchema - Gets the schema of an index\n",
      "NOTE:       appendIndex - Loads data to an index after the buildIndex action is performed\n",
      "NOTE:       deleteDocuments - Delete a portion of documents from index\n",
      "NOTE:    session\n",
      "NOTE:       listSessions - Displays a list of the sessions on the server\n",
      "NOTE:       addNodeStatus - Lists details about machines currently being added to the server\n",
      "NOTE:       timeout - Changes the time-out for a session\n",
      "NOTE:       endSession - Ends the current session\n",
      "NOTE:       sessionId - Displays the name and UUID of the current session\n",
      "NOTE:       sessionName - Changes the name of the current session\n",
      "NOTE:       sessionStatus - Displays the status of the current session\n",
      "NOTE:       listresults - Lists the saved results for a session\n",
      "NOTE:       batchresults - Change current action to batch results\n",
      "NOTE:       fetchresult - Fetch the specified saved result for a session\n",
      "NOTE:       flushresult - Flush the saved result for this session\n",
      "NOTE:       setLocale - Changes the locale for the current session\n",
      "NOTE:       metrics - Displays the metrics for each action after it executes\n",
      "NOTE:    sessionProp\n",
      "NOTE:       setSessOpt - Sets a session option\n",
      "NOTE:       getSessOpt - Displays the value of a session option\n",
      "NOTE:       listSessOpts - Displays the session options and session values\n",
      "NOTE:       addFmtLib - Adds a format library\n",
      "NOTE:       listFmtLibs - Lists the format libraries that are associated with the session\n",
      "NOTE:       setFmtSearch - Sets the format libraries to search\n",
      "NOTE:       listFmtSearch - Shows the format library search order\n",
      "NOTE:       dropFmtLib - Drops a format library from global scope for all sessions\n",
      "NOTE:       deleteFormat - Deletes a format from a format library\n",
      "NOTE:       addFormat - Adds a format to a format library\n",
      "NOTE:       listFmtValues - Shows the values for a format\n",
      "NOTE:       saveFmtLib - Saves a format library\n",
      "NOTE:       promoteFmtLib - Promotes a format library to global scope for all sessions\n",
      "NOTE:       listFmtRanges - Displays the range information for a format\n",
      "NOTE:    simple\n",
      "NOTE:       mdSummary - Calculates multidimensional summaries of numeric variables\n",
      "NOTE:       numRows - Shows the number of rows in a Cloud Analytic Services table\n",
      "NOTE:       summary - Generates descriptive statistics of numeric variables such as the sample mean, sample variance, sample size, sum of squares, and so on\n",
      "NOTE:       correlation - Generates a matrix of Pearson product-moment correlation coefficients\n",
      "NOTE:       regression - Performs a linear regression up to 3rd-order polynomials\n",
      "NOTE:       crossTab - Performs one-way or two-way tabulations\n",
      "NOTE:       distinct - Computes the distinct number of values of the variables in the variable list\n",
      "NOTE:       topK - Returns the top-K and bottom-K distinct values of each variable included in the variable list based on a user-specified ranking order\n",
      "NOTE:       groupBy - Builds BY groups in terms of the variable value combinations given the variables in the variable list\n",
      "NOTE:       freq - Generates a frequency distribution for one or more variables\n",
      "NOTE:       paraCoord - Generates a parallel coordinates plot of the variables in the variable list\n",
      "NOTE:    table\n",
      "NOTE:       view - Creates a view from files or tables\n",
      "NOTE:       attribute - Manages extended table attributes\n",
      "NOTE:       upload - Transfers binary data to the server to create objects like tables\n",
      "NOTE:       loadTable - Loads a table from a caslib's data source\n",
      "NOTE:       tableExists - Checks whether a table has been loaded\n",
      "NOTE:       columnInfo - Shows column information\n",
      "NOTE:       fetch - Fetches rows from a table or view\n",
      "NOTE:       save - Saves a table to a caslib's data source\n",
      "NOTE:       addTable - Add a table by sending it from the client to the server\n",
      "NOTE:       tableInfo - Shows information about a table\n",
      "NOTE:       tableDetails - Get detailed information about a table\n",
      "NOTE:       dropTable - Drops a table\n",
      "NOTE:       deleteSource - Delete a table or file from a caslib's data source\n",
      "NOTE:       fileInfo - Lists the files in a caslib's data source\n",
      "NOTE:       promote - Promote a table to global scope\n",
      "NOTE:       addCaslib - Adds a new caslib to enable access to a data source\n",
      "NOTE:       dropCaslib - Drops a caslib\n",
      "NOTE:       caslibInfo - Shows caslib information\n",
      "NOTE:       queryCaslib - Checks whether a caslib exists\n",
      "NOTE:       partition - Partitions a table\n",
      "NOTE:       shuffle - Randomly shuffles a table\n",
      "NOTE:       recordCount - Shows the number of rows in a Cloud Analytic Services table\n",
      "NOTE:       loadDataSource - Loads one or more data source interfaces\n",
      "NOTE:       update - Updates rows in a table\n"
     ]
    }
   ],
   "source": [
    "out = conn.help()"
   ]
  },
  {
   "cell_type": "markdown",
   "metadata": {},
   "source": [
    "KLucze rezultatów result."
   ]
  },
  {
   "cell_type": "code",
   "execution_count": 43,
   "metadata": {},
   "outputs": [
    {
     "data": {
      "text/plain": [
       "['accessControl',\n",
       " 'builtins',\n",
       " 'configuration',\n",
       " 'dataPreprocess',\n",
       " 'dataStep',\n",
       " 'percentile',\n",
       " 'search',\n",
       " 'session',\n",
       " 'sessionProp',\n",
       " 'simple',\n",
       " 'table']"
      ]
     },
     "execution_count": 43,
     "metadata": {},
     "output_type": "execute_result"
    }
   ],
   "source": [
    "list(out.keys())"
   ]
  },
  {
   "cell_type": "markdown",
   "metadata": {},
   "source": [
    "Typ obiektu pod kluczem `builtins`"
   ]
  },
  {
   "cell_type": "code",
   "execution_count": 44,
   "metadata": {},
   "outputs": [
    {
     "data": {
      "text/plain": [
       "swat.dataframe.SASDataFrame"
      ]
     },
     "execution_count": 44,
     "metadata": {},
     "output_type": "execute_result"
    }
   ],
   "source": [
    "type(out['builtins'])"
   ]
  },
  {
   "cell_type": "code",
   "execution_count": 37,
   "metadata": {},
   "outputs": [
    {
     "data": {
      "text/html": [
       "<div>\n",
       "<table border=\"1\" class=\"dataframe\">\n",
       "  <thead>\n",
       "    <tr style=\"text-align: right;\">\n",
       "      <th title=\"\"></th>\n",
       "      <th title=\"Name\">name</th>\n",
       "      <th title=\"Description\">description</th>\n",
       "    </tr>\n",
       "  </thead>\n",
       "  <tbody>\n",
       "    <tr>\n",
       "      <th>0</th>\n",
       "      <td>addNode</td>\n",
       "      <td>Adds a machine to the server</td>\n",
       "    </tr>\n",
       "    <tr>\n",
       "      <th>1</th>\n",
       "      <td>removeNode</td>\n",
       "      <td>Remove one or more machines from the server</td>\n",
       "    </tr>\n",
       "    <tr>\n",
       "      <th>2</th>\n",
       "      <td>help</td>\n",
       "      <td>Shows the parameters for an action or lists al...</td>\n",
       "    </tr>\n",
       "    <tr>\n",
       "      <th>3</th>\n",
       "      <td>listNodes</td>\n",
       "      <td>Shows the host names used by the server</td>\n",
       "    </tr>\n",
       "    <tr>\n",
       "      <th>4</th>\n",
       "      <td>loadActionSet</td>\n",
       "      <td>Loads an action set for use in this session</td>\n",
       "    </tr>\n",
       "    <tr>\n",
       "      <th>5</th>\n",
       "      <td>installActionSet</td>\n",
       "      <td>Loads an action set in new sessions automatically</td>\n",
       "    </tr>\n",
       "    <tr>\n",
       "      <th>6</th>\n",
       "      <td>log</td>\n",
       "      <td>Shows and modifies logging levels</td>\n",
       "    </tr>\n",
       "    <tr>\n",
       "      <th>7</th>\n",
       "      <td>queryActionSet</td>\n",
       "      <td>Shows whether an action set is loaded</td>\n",
       "    </tr>\n",
       "    <tr>\n",
       "      <th>8</th>\n",
       "      <td>queryName</td>\n",
       "      <td>Checks whether a name is an action or action s...</td>\n",
       "    </tr>\n",
       "    <tr>\n",
       "      <th>9</th>\n",
       "      <td>reflect</td>\n",
       "      <td>Shows detailed parameter information for an ac...</td>\n",
       "    </tr>\n",
       "    <tr>\n",
       "      <th>10</th>\n",
       "      <td>serverStatus</td>\n",
       "      <td>Shows the status of the server</td>\n",
       "    </tr>\n",
       "    <tr>\n",
       "      <th>11</th>\n",
       "      <td>about</td>\n",
       "      <td>Shows the status of the server</td>\n",
       "    </tr>\n",
       "    <tr>\n",
       "      <th>12</th>\n",
       "      <td>shutdown</td>\n",
       "      <td>Shuts down the server</td>\n",
       "    </tr>\n",
       "    <tr>\n",
       "      <th>13</th>\n",
       "      <td>userInfo</td>\n",
       "      <td>Shows the user information for your connection</td>\n",
       "    </tr>\n",
       "    <tr>\n",
       "      <th>14</th>\n",
       "      <td>actionSetInfo</td>\n",
       "      <td>Shows the build information from loaded action...</td>\n",
       "    </tr>\n",
       "    <tr>\n",
       "      <th>15</th>\n",
       "      <td>history</td>\n",
       "      <td>Shows the actions that were run in this session</td>\n",
       "    </tr>\n",
       "    <tr>\n",
       "      <th>16</th>\n",
       "      <td>casCommon</td>\n",
       "      <td>Provides parameters that are common to many ac...</td>\n",
       "    </tr>\n",
       "    <tr>\n",
       "      <th>17</th>\n",
       "      <td>ping</td>\n",
       "      <td>Sends a single request to the server to confir...</td>\n",
       "    </tr>\n",
       "    <tr>\n",
       "      <th>18</th>\n",
       "      <td>echo</td>\n",
       "      <td>Prints the supplied parameters to the client log</td>\n",
       "    </tr>\n",
       "    <tr>\n",
       "      <th>19</th>\n",
       "      <td>modifyQueue</td>\n",
       "      <td>Modifies the action response queue settings</td>\n",
       "    </tr>\n",
       "    <tr>\n",
       "      <th>20</th>\n",
       "      <td>getLicenseInfo</td>\n",
       "      <td>Shows the license information for a SAS product</td>\n",
       "    </tr>\n",
       "    <tr>\n",
       "      <th>21</th>\n",
       "      <td>refreshLicense</td>\n",
       "      <td>Refresh SAS license information from a file</td>\n",
       "    </tr>\n",
       "    <tr>\n",
       "      <th>22</th>\n",
       "      <td>httpAddress</td>\n",
       "      <td>Shows the HTTP address for the server monitor</td>\n",
       "    </tr>\n",
       "  </tbody>\n",
       "</table>\n",
       "</div>"
      ],
      "text/plain": [
       "                name  \\\n",
       "0            addNode   \n",
       "1         removeNode   \n",
       "2               help   \n",
       "3          listNodes   \n",
       "4      loadActionSet   \n",
       "5   installActionSet   \n",
       "6                log   \n",
       "7     queryActionSet   \n",
       "8          queryName   \n",
       "9            reflect   \n",
       "10      serverStatus   \n",
       "11             about   \n",
       "12          shutdown   \n",
       "13          userInfo   \n",
       "14     actionSetInfo   \n",
       "15           history   \n",
       "16         casCommon   \n",
       "17              ping   \n",
       "18              echo   \n",
       "19       modifyQueue   \n",
       "20    getLicenseInfo   \n",
       "21    refreshLicense   \n",
       "22       httpAddress   \n",
       "\n",
       "                                          description  \n",
       "0                        Adds a machine to the server  \n",
       "1         Remove one or more machines from the server  \n",
       "2   Shows the parameters for an action or lists al...  \n",
       "3             Shows the host names used by the server  \n",
       "4         Loads an action set for use in this session  \n",
       "5   Loads an action set in new sessions automatically  \n",
       "6                   Shows and modifies logging levels  \n",
       "7               Shows whether an action set is loaded  \n",
       "8   Checks whether a name is an action or action s...  \n",
       "9   Shows detailed parameter information for an ac...  \n",
       "10                     Shows the status of the server  \n",
       "11                     Shows the status of the server  \n",
       "12                              Shuts down the server  \n",
       "13     Shows the user information for your connection  \n",
       "14  Shows the build information from loaded action...  \n",
       "15    Shows the actions that were run in this session  \n",
       "16  Provides parameters that are common to many ac...  \n",
       "17  Sends a single request to the server to confir...  \n",
       "18   Prints the supplied parameters to the client log  \n",
       "19        Modifies the action response queue settings  \n",
       "20    Shows the license information for a SAS product  \n",
       "21        Refresh SAS license information from a file  \n",
       "22      Shows the HTTP address for the server monitor  "
      ]
     },
     "execution_count": 37,
     "metadata": {},
     "output_type": "execute_result"
    }
   ],
   "source": [
    "out['builtins']"
   ]
  },
  {
   "cell_type": "code",
   "execution_count": 46,
   "metadata": {
    "collapsed": true
   },
   "outputs": [],
   "source": [
    "blt = out['builtins']"
   ]
  },
  {
   "cell_type": "markdown",
   "metadata": {},
   "source": [
    "Podstawowe operacje na **DataFrame** z rezultatów."
   ]
  },
  {
   "cell_type": "code",
   "execution_count": 47,
   "metadata": {},
   "outputs": [
    {
     "data": {
      "text/html": [
       "<div>\n",
       "<style>\n",
       "    .dataframe thead tr:only-child th {\n",
       "        text-align: right;\n",
       "    }\n",
       "\n",
       "    .dataframe thead th {\n",
       "        text-align: left;\n",
       "    }\n",
       "\n",
       "    .dataframe tbody tr th {\n",
       "        vertical-align: top;\n",
       "    }\n",
       "</style>\n",
       "<table border=\"1\" class=\"dataframe\">\n",
       "  <thead>\n",
       "    <tr style=\"text-align: right;\">\n",
       "      <th title=\"\"></th>\n",
       "      <th title=\"Name\">name</th>\n",
       "      <th title=\"Description\">description</th>\n",
       "    </tr>\n",
       "  </thead>\n",
       "  <tbody>\n",
       "    <tr>\n",
       "      <th>11</th>\n",
       "      <td>about</td>\n",
       "      <td>Shows the status of the server</td>\n",
       "    </tr>\n",
       "    <tr>\n",
       "      <th>14</th>\n",
       "      <td>actionSetInfo</td>\n",
       "      <td>Shows the build information from loaded action...</td>\n",
       "    </tr>\n",
       "    <tr>\n",
       "      <th>0</th>\n",
       "      <td>addNode</td>\n",
       "      <td>Adds a machine to the server</td>\n",
       "    </tr>\n",
       "    <tr>\n",
       "      <th>16</th>\n",
       "      <td>casCommon</td>\n",
       "      <td>Provides parameters that are common to many ac...</td>\n",
       "    </tr>\n",
       "    <tr>\n",
       "      <th>18</th>\n",
       "      <td>echo</td>\n",
       "      <td>Prints the supplied parameters to the client log</td>\n",
       "    </tr>\n",
       "    <tr>\n",
       "      <th>20</th>\n",
       "      <td>getLicenseInfo</td>\n",
       "      <td>Shows the license information for a SAS product</td>\n",
       "    </tr>\n",
       "    <tr>\n",
       "      <th>2</th>\n",
       "      <td>help</td>\n",
       "      <td>Shows the parameters for an action or lists al...</td>\n",
       "    </tr>\n",
       "    <tr>\n",
       "      <th>15</th>\n",
       "      <td>history</td>\n",
       "      <td>Shows the actions that were run in this session</td>\n",
       "    </tr>\n",
       "    <tr>\n",
       "      <th>22</th>\n",
       "      <td>httpAddress</td>\n",
       "      <td>Shows the HTTP address for the server monitor</td>\n",
       "    </tr>\n",
       "    <tr>\n",
       "      <th>5</th>\n",
       "      <td>installActionSet</td>\n",
       "      <td>Loads an action set in new sessions automatically</td>\n",
       "    </tr>\n",
       "    <tr>\n",
       "      <th>3</th>\n",
       "      <td>listNodes</td>\n",
       "      <td>Shows the host names used by the server</td>\n",
       "    </tr>\n",
       "    <tr>\n",
       "      <th>4</th>\n",
       "      <td>loadActionSet</td>\n",
       "      <td>Loads an action set for use in this session</td>\n",
       "    </tr>\n",
       "    <tr>\n",
       "      <th>6</th>\n",
       "      <td>log</td>\n",
       "      <td>Shows and modifies logging levels</td>\n",
       "    </tr>\n",
       "    <tr>\n",
       "      <th>19</th>\n",
       "      <td>modifyQueue</td>\n",
       "      <td>Modifies the action response queue settings</td>\n",
       "    </tr>\n",
       "    <tr>\n",
       "      <th>17</th>\n",
       "      <td>ping</td>\n",
       "      <td>Sends a single request to the server to confir...</td>\n",
       "    </tr>\n",
       "    <tr>\n",
       "      <th>7</th>\n",
       "      <td>queryActionSet</td>\n",
       "      <td>Shows whether an action set is loaded</td>\n",
       "    </tr>\n",
       "    <tr>\n",
       "      <th>8</th>\n",
       "      <td>queryName</td>\n",
       "      <td>Checks whether a name is an action or action s...</td>\n",
       "    </tr>\n",
       "    <tr>\n",
       "      <th>9</th>\n",
       "      <td>reflect</td>\n",
       "      <td>Shows detailed parameter information for an ac...</td>\n",
       "    </tr>\n",
       "    <tr>\n",
       "      <th>21</th>\n",
       "      <td>refreshLicense</td>\n",
       "      <td>Refresh SAS license information from a file</td>\n",
       "    </tr>\n",
       "    <tr>\n",
       "      <th>1</th>\n",
       "      <td>removeNode</td>\n",
       "      <td>Remove one or more machines from the server</td>\n",
       "    </tr>\n",
       "    <tr>\n",
       "      <th>10</th>\n",
       "      <td>serverStatus</td>\n",
       "      <td>Shows the status of the server</td>\n",
       "    </tr>\n",
       "    <tr>\n",
       "      <th>12</th>\n",
       "      <td>shutdown</td>\n",
       "      <td>Shuts down the server</td>\n",
       "    </tr>\n",
       "    <tr>\n",
       "      <th>13</th>\n",
       "      <td>userInfo</td>\n",
       "      <td>Shows the user information for your connection</td>\n",
       "    </tr>\n",
       "  </tbody>\n",
       "</table>\n",
       "</div>"
      ],
      "text/plain": [
       "                name                                        description\n",
       "11             about                     Shows the status of the server\n",
       "14     actionSetInfo  Shows the build information from loaded action...\n",
       "0            addNode                       Adds a machine to the server\n",
       "16         casCommon  Provides parameters that are common to many ac...\n",
       "18              echo   Prints the supplied parameters to the client log\n",
       "20    getLicenseInfo    Shows the license information for a SAS product\n",
       "2               help  Shows the parameters for an action or lists al...\n",
       "15           history    Shows the actions that were run in this session\n",
       "22       httpAddress      Shows the HTTP address for the server monitor\n",
       "5   installActionSet  Loads an action set in new sessions automatically\n",
       "3          listNodes            Shows the host names used by the server\n",
       "4      loadActionSet        Loads an action set for use in this session\n",
       "6                log                  Shows and modifies logging levels\n",
       "19       modifyQueue        Modifies the action response queue settings\n",
       "17              ping  Sends a single request to the server to confir...\n",
       "7     queryActionSet              Shows whether an action set is loaded\n",
       "8          queryName  Checks whether a name is an action or action s...\n",
       "9            reflect  Shows detailed parameter information for an ac...\n",
       "21    refreshLicense        Refresh SAS license information from a file\n",
       "1         removeNode        Remove one or more machines from the server\n",
       "10      serverStatus                     Shows the status of the server\n",
       "12          shutdown                              Shuts down the server\n",
       "13          userInfo     Shows the user information for your connection"
      ]
     },
     "execution_count": 47,
     "metadata": {},
     "output_type": "execute_result"
    }
   ],
   "source": [
    "blt.sort_values('name')"
   ]
  },
  {
   "cell_type": "markdown",
   "metadata": {},
   "source": [
    "Konkatenacja **DataFrames**"
   ]
  },
  {
   "cell_type": "code",
   "execution_count": 48,
   "metadata": {},
   "outputs": [
    {
     "data": {
      "text/html": [
       "<div>\n",
       "<style>\n",
       "    .dataframe thead tr:only-child th {\n",
       "        text-align: right;\n",
       "    }\n",
       "\n",
       "    .dataframe thead th {\n",
       "        text-align: left;\n",
       "    }\n",
       "\n",
       "    .dataframe tbody tr th {\n",
       "        vertical-align: top;\n",
       "    }\n",
       "</style>\n",
       "<table border=\"1\" class=\"dataframe\">\n",
       "  <thead>\n",
       "    <tr style=\"text-align: right;\">\n",
       "      <th title=\"\"></th>\n",
       "      <th title=\"name\">name</th>\n",
       "      <th title=\"description\">description</th>\n",
       "    </tr>\n",
       "  </thead>\n",
       "  <tbody>\n",
       "    <tr>\n",
       "      <th>0</th>\n",
       "      <td>assumeRole</td>\n",
       "      <td>Assumes a role</td>\n",
       "    </tr>\n",
       "    <tr>\n",
       "      <th>1</th>\n",
       "      <td>dropRole</td>\n",
       "      <td>Relinquishes a role</td>\n",
       "    </tr>\n",
       "    <tr>\n",
       "      <th>2</th>\n",
       "      <td>showRolesIn</td>\n",
       "      <td>Shows the currently active role</td>\n",
       "    </tr>\n",
       "    <tr>\n",
       "      <th>3</th>\n",
       "      <td>showRolesAllowed</td>\n",
       "      <td>Shows the roles that a user is a member of</td>\n",
       "    </tr>\n",
       "    <tr>\n",
       "      <th>4</th>\n",
       "      <td>isInRole</td>\n",
       "      <td>Shows whether a role is assumed</td>\n",
       "    </tr>\n",
       "    <tr>\n",
       "      <th>5</th>\n",
       "      <td>isAuthorized</td>\n",
       "      <td>Shows whether access is authorized</td>\n",
       "    </tr>\n",
       "    <tr>\n",
       "      <th>6</th>\n",
       "      <td>isAuthorizedActions</td>\n",
       "      <td>Shows whether access is authorized to actions</td>\n",
       "    </tr>\n",
       "    <tr>\n",
       "      <th>7</th>\n",
       "      <td>isAuthorizedTables</td>\n",
       "      <td>Shows whether access is authorized to tables</td>\n",
       "    </tr>\n",
       "    <tr>\n",
       "      <th>8</th>\n",
       "      <td>isAuthorizedColumns</td>\n",
       "      <td>Shows whether access is authorized to columns</td>\n",
       "    </tr>\n",
       "    <tr>\n",
       "      <th>9</th>\n",
       "      <td>listAllPrincipals</td>\n",
       "      <td>Lists all principals that have explicit access...</td>\n",
       "    </tr>\n",
       "    <tr>\n",
       "      <th>10</th>\n",
       "      <td>whatIsEffective</td>\n",
       "      <td>Lists effective access and explanations (Origins)</td>\n",
       "    </tr>\n",
       "    <tr>\n",
       "      <th>11</th>\n",
       "      <td>listAcsData</td>\n",
       "      <td>Lists access controls for caslibs, tables, and...</td>\n",
       "    </tr>\n",
       "    <tr>\n",
       "      <th>12</th>\n",
       "      <td>listAcsActionSet</td>\n",
       "      <td>Lists access controls for an action or action set</td>\n",
       "    </tr>\n",
       "    <tr>\n",
       "      <th>13</th>\n",
       "      <td>repAllAcsCaslib</td>\n",
       "      <td>Replaces all access controls for a caslib</td>\n",
       "    </tr>\n",
       "    <tr>\n",
       "      <th>14</th>\n",
       "      <td>repAllAcsTable</td>\n",
       "      <td>Replaces all access controls for a table</td>\n",
       "    </tr>\n",
       "    <tr>\n",
       "      <th>15</th>\n",
       "      <td>repAllAcsColumn</td>\n",
       "      <td>Replaces all access controls for a column</td>\n",
       "    </tr>\n",
       "    <tr>\n",
       "      <th>16</th>\n",
       "      <td>repAllAcsActionSet</td>\n",
       "      <td>Replaces all access controls for an action set</td>\n",
       "    </tr>\n",
       "    <tr>\n",
       "      <th>17</th>\n",
       "      <td>repAllAcsAction</td>\n",
       "      <td>Replaces all access controls for an action</td>\n",
       "    </tr>\n",
       "    <tr>\n",
       "      <th>18</th>\n",
       "      <td>updSomeAcsCaslib</td>\n",
       "      <td>Adds, deletes, and modifies some access contro...</td>\n",
       "    </tr>\n",
       "    <tr>\n",
       "      <th>19</th>\n",
       "      <td>updSomeAcsTable</td>\n",
       "      <td>Adds, deletes, and modifies some access contro...</td>\n",
       "    </tr>\n",
       "    <tr>\n",
       "      <th>20</th>\n",
       "      <td>updSomeAcsColumn</td>\n",
       "      <td>Adds, deletes, and modifies some access contro...</td>\n",
       "    </tr>\n",
       "    <tr>\n",
       "      <th>21</th>\n",
       "      <td>updSomeAcsActionSet</td>\n",
       "      <td>Adds, deletes, and modifies some access contro...</td>\n",
       "    </tr>\n",
       "    <tr>\n",
       "      <th>22</th>\n",
       "      <td>updSomeAcsAction</td>\n",
       "      <td>Adds, deletes, and modifies some access contro...</td>\n",
       "    </tr>\n",
       "    <tr>\n",
       "      <th>23</th>\n",
       "      <td>remAllAcsData</td>\n",
       "      <td>Removes all access controls for a caslib, tabl...</td>\n",
       "    </tr>\n",
       "    <tr>\n",
       "      <th>24</th>\n",
       "      <td>remAllAcsActionSet</td>\n",
       "      <td>Removes all access controls for an action set ...</td>\n",
       "    </tr>\n",
       "    <tr>\n",
       "      <th>25</th>\n",
       "      <td>operTableMd</td>\n",
       "      <td>Adds, deletes, and modifies table metadata</td>\n",
       "    </tr>\n",
       "    <tr>\n",
       "      <th>26</th>\n",
       "      <td>operColumnMd</td>\n",
       "      <td>Adds, deletes, and modifies column metadata</td>\n",
       "    </tr>\n",
       "    <tr>\n",
       "      <th>27</th>\n",
       "      <td>operActionSetMd</td>\n",
       "      <td>Adds, deletes, and modifies action set metadata</td>\n",
       "    </tr>\n",
       "    <tr>\n",
       "      <th>28</th>\n",
       "      <td>operActionMd</td>\n",
       "      <td>Adds, deletes, and modifies action metadata</td>\n",
       "    </tr>\n",
       "    <tr>\n",
       "      <th>29</th>\n",
       "      <td>operAdminMd</td>\n",
       "      <td>Assigns users and groups to roles and modifies...</td>\n",
       "    </tr>\n",
       "    <tr>\n",
       "      <th>...</th>\n",
       "      <td>...</td>\n",
       "      <td>...</td>\n",
       "    </tr>\n",
       "    <tr>\n",
       "      <th>113</th>\n",
       "      <td>crossTab</td>\n",
       "      <td>Performs one-way or two-way tabulations</td>\n",
       "    </tr>\n",
       "    <tr>\n",
       "      <th>114</th>\n",
       "      <td>distinct</td>\n",
       "      <td>Computes the distinct number of values of the ...</td>\n",
       "    </tr>\n",
       "    <tr>\n",
       "      <th>115</th>\n",
       "      <td>topK</td>\n",
       "      <td>Returns the top-K and bottom-K distinct values...</td>\n",
       "    </tr>\n",
       "    <tr>\n",
       "      <th>116</th>\n",
       "      <td>groupBy</td>\n",
       "      <td>Builds BY groups in terms of the variable valu...</td>\n",
       "    </tr>\n",
       "    <tr>\n",
       "      <th>117</th>\n",
       "      <td>freq</td>\n",
       "      <td>Generates a frequency distribution for one or ...</td>\n",
       "    </tr>\n",
       "    <tr>\n",
       "      <th>118</th>\n",
       "      <td>paraCoord</td>\n",
       "      <td>Generates a parallel coordinates plot of the v...</td>\n",
       "    </tr>\n",
       "    <tr>\n",
       "      <th>119</th>\n",
       "      <td>view</td>\n",
       "      <td>Creates a view from files or tables</td>\n",
       "    </tr>\n",
       "    <tr>\n",
       "      <th>120</th>\n",
       "      <td>attribute</td>\n",
       "      <td>Manages extended table attributes</td>\n",
       "    </tr>\n",
       "    <tr>\n",
       "      <th>121</th>\n",
       "      <td>upload</td>\n",
       "      <td>Transfers binary data to the server to create ...</td>\n",
       "    </tr>\n",
       "    <tr>\n",
       "      <th>122</th>\n",
       "      <td>loadTable</td>\n",
       "      <td>Loads a table from a caslib's data source</td>\n",
       "    </tr>\n",
       "    <tr>\n",
       "      <th>123</th>\n",
       "      <td>tableExists</td>\n",
       "      <td>Checks whether a table has been loaded</td>\n",
       "    </tr>\n",
       "    <tr>\n",
       "      <th>124</th>\n",
       "      <td>columnInfo</td>\n",
       "      <td>Shows column information</td>\n",
       "    </tr>\n",
       "    <tr>\n",
       "      <th>125</th>\n",
       "      <td>fetch</td>\n",
       "      <td>Fetches rows from a table or view</td>\n",
       "    </tr>\n",
       "    <tr>\n",
       "      <th>126</th>\n",
       "      <td>save</td>\n",
       "      <td>Saves a table to a caslib's data source</td>\n",
       "    </tr>\n",
       "    <tr>\n",
       "      <th>127</th>\n",
       "      <td>addTable</td>\n",
       "      <td>Add a table by sending it from the client to t...</td>\n",
       "    </tr>\n",
       "    <tr>\n",
       "      <th>128</th>\n",
       "      <td>tableInfo</td>\n",
       "      <td>Shows information about a table</td>\n",
       "    </tr>\n",
       "    <tr>\n",
       "      <th>129</th>\n",
       "      <td>tableDetails</td>\n",
       "      <td>Get detailed information about a table</td>\n",
       "    </tr>\n",
       "    <tr>\n",
       "      <th>130</th>\n",
       "      <td>dropTable</td>\n",
       "      <td>Drops a table</td>\n",
       "    </tr>\n",
       "    <tr>\n",
       "      <th>131</th>\n",
       "      <td>deleteSource</td>\n",
       "      <td>Delete a table or file from a caslib's data so...</td>\n",
       "    </tr>\n",
       "    <tr>\n",
       "      <th>132</th>\n",
       "      <td>fileInfo</td>\n",
       "      <td>Lists the files in a caslib's data source</td>\n",
       "    </tr>\n",
       "    <tr>\n",
       "      <th>133</th>\n",
       "      <td>promote</td>\n",
       "      <td>Promote a table to global scope</td>\n",
       "    </tr>\n",
       "    <tr>\n",
       "      <th>134</th>\n",
       "      <td>addCaslib</td>\n",
       "      <td>Adds a new caslib to enable access to a data s...</td>\n",
       "    </tr>\n",
       "    <tr>\n",
       "      <th>135</th>\n",
       "      <td>dropCaslib</td>\n",
       "      <td>Drops a caslib</td>\n",
       "    </tr>\n",
       "    <tr>\n",
       "      <th>136</th>\n",
       "      <td>caslibInfo</td>\n",
       "      <td>Shows caslib information</td>\n",
       "    </tr>\n",
       "    <tr>\n",
       "      <th>137</th>\n",
       "      <td>queryCaslib</td>\n",
       "      <td>Checks whether a caslib exists</td>\n",
       "    </tr>\n",
       "    <tr>\n",
       "      <th>138</th>\n",
       "      <td>partition</td>\n",
       "      <td>Partitions a table</td>\n",
       "    </tr>\n",
       "    <tr>\n",
       "      <th>139</th>\n",
       "      <td>shuffle</td>\n",
       "      <td>Randomly shuffles a table</td>\n",
       "    </tr>\n",
       "    <tr>\n",
       "      <th>140</th>\n",
       "      <td>recordCount</td>\n",
       "      <td>Shows the number of rows in a Cloud Analytic S...</td>\n",
       "    </tr>\n",
       "    <tr>\n",
       "      <th>141</th>\n",
       "      <td>loadDataSource</td>\n",
       "      <td>Loads one or more data source interfaces</td>\n",
       "    </tr>\n",
       "    <tr>\n",
       "      <th>142</th>\n",
       "      <td>update</td>\n",
       "      <td>Updates rows in a table</td>\n",
       "    </tr>\n",
       "  </tbody>\n",
       "</table>\n",
       "<p>143 rows × 2 columns</p>\n",
       "</div>"
      ],
      "text/plain": [
       "                    name                                        description\n",
       "0             assumeRole                                     Assumes a role\n",
       "1               dropRole                                Relinquishes a role\n",
       "2            showRolesIn                    Shows the currently active role\n",
       "3       showRolesAllowed         Shows the roles that a user is a member of\n",
       "4               isInRole                    Shows whether a role is assumed\n",
       "5           isAuthorized                 Shows whether access is authorized\n",
       "6    isAuthorizedActions      Shows whether access is authorized to actions\n",
       "7     isAuthorizedTables       Shows whether access is authorized to tables\n",
       "8    isAuthorizedColumns      Shows whether access is authorized to columns\n",
       "9      listAllPrincipals  Lists all principals that have explicit access...\n",
       "10       whatIsEffective  Lists effective access and explanations (Origins)\n",
       "11           listAcsData  Lists access controls for caslibs, tables, and...\n",
       "12      listAcsActionSet  Lists access controls for an action or action set\n",
       "13       repAllAcsCaslib          Replaces all access controls for a caslib\n",
       "14        repAllAcsTable           Replaces all access controls for a table\n",
       "15       repAllAcsColumn          Replaces all access controls for a column\n",
       "16    repAllAcsActionSet     Replaces all access controls for an action set\n",
       "17       repAllAcsAction         Replaces all access controls for an action\n",
       "18      updSomeAcsCaslib  Adds, deletes, and modifies some access contro...\n",
       "19       updSomeAcsTable  Adds, deletes, and modifies some access contro...\n",
       "20      updSomeAcsColumn  Adds, deletes, and modifies some access contro...\n",
       "21   updSomeAcsActionSet  Adds, deletes, and modifies some access contro...\n",
       "22      updSomeAcsAction  Adds, deletes, and modifies some access contro...\n",
       "23         remAllAcsData  Removes all access controls for a caslib, tabl...\n",
       "24    remAllAcsActionSet  Removes all access controls for an action set ...\n",
       "25           operTableMd         Adds, deletes, and modifies table metadata\n",
       "26          operColumnMd        Adds, deletes, and modifies column metadata\n",
       "27       operActionSetMd    Adds, deletes, and modifies action set metadata\n",
       "28          operActionMd        Adds, deletes, and modifies action metadata\n",
       "29           operAdminMd  Assigns users and groups to roles and modifies...\n",
       "..                   ...                                                ...\n",
       "113             crossTab            Performs one-way or two-way tabulations\n",
       "114             distinct  Computes the distinct number of values of the ...\n",
       "115                 topK  Returns the top-K and bottom-K distinct values...\n",
       "116              groupBy  Builds BY groups in terms of the variable valu...\n",
       "117                 freq  Generates a frequency distribution for one or ...\n",
       "118            paraCoord  Generates a parallel coordinates plot of the v...\n",
       "119                 view                Creates a view from files or tables\n",
       "120            attribute                  Manages extended table attributes\n",
       "121               upload  Transfers binary data to the server to create ...\n",
       "122            loadTable          Loads a table from a caslib's data source\n",
       "123          tableExists             Checks whether a table has been loaded\n",
       "124           columnInfo                           Shows column information\n",
       "125                fetch                  Fetches rows from a table or view\n",
       "126                 save            Saves a table to a caslib's data source\n",
       "127             addTable  Add a table by sending it from the client to t...\n",
       "128            tableInfo                    Shows information about a table\n",
       "129         tableDetails             Get detailed information about a table\n",
       "130            dropTable                                      Drops a table\n",
       "131         deleteSource  Delete a table or file from a caslib's data so...\n",
       "132             fileInfo          Lists the files in a caslib's data source\n",
       "133              promote                    Promote a table to global scope\n",
       "134            addCaslib  Adds a new caslib to enable access to a data s...\n",
       "135           dropCaslib                                     Drops a caslib\n",
       "136           caslibInfo                           Shows caslib information\n",
       "137          queryCaslib                     Checks whether a caslib exists\n",
       "138            partition                                 Partitions a table\n",
       "139              shuffle                          Randomly shuffles a table\n",
       "140          recordCount  Shows the number of rows in a Cloud Analytic S...\n",
       "141       loadDataSource           Loads one or more data source interfaces\n",
       "142               update                            Updates rows in a table\n",
       "\n",
       "[143 rows x 2 columns]"
      ]
     },
     "execution_count": 48,
     "metadata": {},
     "output_type": "execute_result"
    }
   ],
   "source": [
    "import pandas as pd\n",
    "\n",
    "pd.concat(out.values(), ignore_index=True)"
   ]
  },
  {
   "cell_type": "markdown",
   "metadata": {},
   "source": [
    "### Sprawdzanie statusu akcji CAS"
   ]
  },
  {
   "cell_type": "code",
   "execution_count": 49,
   "metadata": {},
   "outputs": [
    {
     "name": "stdout",
     "output_type": "stream",
     "text": [
      "NOTE: Information for action 'builtins.help':\n",
      "NOTE: The following parameters are accepted.  Default values are shown.\n",
      "NOTE:    string action=NULL,\n",
      "NOTE:       specifies the name of the action for which you want help. The name can be in the form 'actionSetName.actionName' or just 'actionName.\n",
      "NOTE:    string actionSet=NULL,\n",
      "NOTE:       specifies the name of the action set for which you want help. This parameter is ignored if the action parameter is specified.\n",
      "NOTE:    boolean verbose=true\n",
      "NOTE:       when set to True, provides more detail for each parameter.\n"
     ]
    }
   ],
   "source": [
    "out = conn.help(action='help')"
   ]
  },
  {
   "cell_type": "code",
   "execution_count": 50,
   "metadata": {},
   "outputs": [
    {
     "name": "stdout",
     "output_type": "stream",
     "text": [
      "None\n"
     ]
    }
   ],
   "source": [
    "print(out.status)"
   ]
  },
  {
   "cell_type": "code",
   "execution_count": 51,
   "metadata": {},
   "outputs": [
    {
     "name": "stdout",
     "output_type": "stream",
     "text": [
      "0\n"
     ]
    }
   ],
   "source": [
    "print(out.status_code)"
   ]
  },
  {
   "cell_type": "code",
   "execution_count": 52,
   "metadata": {},
   "outputs": [
    {
     "name": "stdout",
     "output_type": "stream",
     "text": [
      "None\n"
     ]
    }
   ],
   "source": [
    "print(out.reason)"
   ]
  },
  {
   "cell_type": "code",
   "execution_count": 53,
   "metadata": {},
   "outputs": [
    {
     "name": "stdout",
     "output_type": "stream",
     "text": [
      "0\n"
     ]
    }
   ],
   "source": [
    "print(out.severity)"
   ]
  },
  {
   "cell_type": "code",
   "execution_count": 54,
   "metadata": {},
   "outputs": [
    {
     "name": "stdout",
     "output_type": "stream",
     "text": [
      "[\"NOTE: Information for action 'builtins.help':\",\n",
      " 'NOTE: The following parameters are accepted.  Default values are shown.',\n",
      " 'NOTE:    string action=NULL,',\n",
      " 'NOTE:       specifies the name of the action for which you want help. The '\n",
      " \"name can be in the form 'actionSetName.actionName' or just 'actionName.\",\n",
      " 'NOTE:    string actionSet=NULL,',\n",
      " 'NOTE:       specifies the name of the action set for which you want help. '\n",
      " 'This parameter is ignored if the action parameter is specified.',\n",
      " 'NOTE:    boolean verbose=true',\n",
      " 'NOTE:       when set to True, provides more detail for each parameter.']\n"
     ]
    }
   ],
   "source": [
    "from pprint import pprint\n",
    "\n",
    "pprint(out.messages)"
   ]
  },
  {
   "cell_type": "markdown",
   "metadata": {},
   "source": [
    "Próba pobrania pomocy dla nieistniejącej akcji"
   ]
  },
  {
   "cell_type": "code",
   "execution_count": 55,
   "metadata": {},
   "outputs": [
    {
     "name": "stderr",
     "output_type": "stream",
     "text": [
      "ERROR: Action 'nonexistent' was not found.\n",
      "ERROR: The action stopped due to errors.\n"
     ]
    }
   ],
   "source": [
    "out = conn.help(action='nonexistent')"
   ]
  },
  {
   "cell_type": "code",
   "execution_count": 56,
   "metadata": {},
   "outputs": [
    {
     "data": {
      "text/plain": [
       "'The specified action was not found.'"
      ]
     },
     "execution_count": 56,
     "metadata": {},
     "output_type": "execute_result"
    }
   ],
   "source": [
    "out.status"
   ]
  },
  {
   "cell_type": "code",
   "execution_count": 57,
   "metadata": {},
   "outputs": [
    {
     "data": {
      "text/plain": [
       "2720406"
      ]
     },
     "execution_count": 57,
     "metadata": {},
     "output_type": "execute_result"
    }
   ],
   "source": [
    "out.status_code"
   ]
  },
  {
   "cell_type": "code",
   "execution_count": 58,
   "metadata": {},
   "outputs": [
    {
     "data": {
      "text/plain": [
       "'abort'"
      ]
     },
     "execution_count": 58,
     "metadata": {},
     "output_type": "execute_result"
    }
   ],
   "source": [
    "out.reason"
   ]
  },
  {
   "cell_type": "code",
   "execution_count": 59,
   "metadata": {},
   "outputs": [
    {
     "data": {
      "text/plain": [
       "2"
      ]
     },
     "execution_count": 59,
     "metadata": {},
     "output_type": "execute_result"
    }
   ],
   "source": [
    "out.severity"
   ]
  },
  {
   "cell_type": "code",
   "execution_count": 60,
   "metadata": {},
   "outputs": [
    {
     "name": "stdout",
     "output_type": "stream",
     "text": [
      "[\"ERROR: Action 'nonexistent' was not found.\",\n",
      " 'ERROR: The action stopped due to errors.']\n"
     ]
    }
   ],
   "source": [
    "pprint(out.messages)"
   ]
  },
  {
   "cell_type": "markdown",
   "metadata": {},
   "source": [
    "SWAT można skonfigurować by rzucał wyjątek przy napotkani błędu."
   ]
  },
  {
   "cell_type": "code",
   "execution_count": 61,
   "metadata": {
    "collapsed": true
   },
   "outputs": [],
   "source": [
    "swat.set_option('cas.exception_on_severity', 2)"
   ]
  },
  {
   "cell_type": "code",
   "execution_count": 62,
   "metadata": {},
   "outputs": [
    {
     "name": "stdout",
     "output_type": "stream",
     "text": [
      "CASResponse(messages=[], disposition=CASDisposition(debug=0x88bfc196:TKCASA_GEN_ACTION_NOT_FOUND, reason=abort, severity=2, status=The specified action was not found., status_code=2720406), performance=CASPerformance(cpu_system_time=0.00611, cpu_user_time=0.0039369999999999995, data_movement_bytes=0, data_movement_time=0.0, elapsed_time=0.009077, memory=137696, memory_os=35393536, memory_quota=43814912, system_cores=20, system_nodes=5, system_total_memory=41013276672))\n",
      "\n",
      "CAS('cas-controller', 5570, 'splpif', protocol='cas', name='py-session-1', session='16517741-6608-a345-aa86-acfb22517c18')\n",
      "\n",
      "\n"
     ]
    },
    {
     "name": "stderr",
     "output_type": "stream",
     "text": [
      "ERROR: Action 'nonexistent' was not found.\n",
      "ERROR: The action stopped due to errors.\n"
     ]
    }
   ],
   "source": [
    "try:\n",
    "    out = conn.help(action='nonexistent')\n",
    "except swat.SWATCASActionError as err:\n",
    "    print(err.response)\n",
    "    print('')\n",
    "    print(err.connection)\n",
    "    print('')\n",
    "    print(err.results)"
   ]
  },
  {
   "cell_type": "code",
   "execution_count": 63,
   "metadata": {
    "collapsed": true
   },
   "outputs": [],
   "source": [
    "swat.reset_option('cas.exception_on_severity')"
   ]
  },
  {
   "cell_type": "markdown",
   "metadata": {},
   "source": [
    "## Praca z CAS Action Sets"
   ]
  },
  {
   "cell_type": "markdown",
   "metadata": {},
   "source": [
    "Pobrani informacji i wszystkich dostępnych CAS Action Sets"
   ]
  },
  {
   "cell_type": "code",
   "execution_count": 64,
   "metadata": {
    "collapsed": true
   },
   "outputs": [],
   "source": [
    "asinfo = conn.actionsetinfo(all=True)"
   ]
  },
  {
   "cell_type": "code",
   "execution_count": 65,
   "metadata": {},
   "outputs": [
    {
     "data": {
      "text/html": [
       "<div class=\"cas-results-key\"><b>&#167; setinfo</b></div>\n",
       "<div class=\"cas-results-body\">\n",
       "<div>\n",
       "<style>\n",
       "    .dataframe thead tr:only-child th {\n",
       "        text-align: right;\n",
       "    }\n",
       "\n",
       "    .dataframe thead th {\n",
       "        text-align: left;\n",
       "    }\n",
       "\n",
       "    .dataframe tbody tr th {\n",
       "        vertical-align: top;\n",
       "    }\n",
       "</style>\n",
       "<table border=\"1\" class=\"dataframe\"><caption>Action set information</caption>\n",
       "  <thead>\n",
       "    <tr style=\"text-align: right;\">\n",
       "      <th title=\"\"></th>\n",
       "      <th title=\"actionset\">actionset</th>\n",
       "      <th title=\"label\">label</th>\n",
       "      <th title=\"loaded\">loaded</th>\n",
       "      <th title=\"extension\">extension</th>\n",
       "      <th title=\"build_time\">build_time</th>\n",
       "      <th title=\"portdate\">portdate</th>\n",
       "      <th title=\"product_name\">product_name</th>\n",
       "    </tr>\n",
       "  </thead>\n",
       "  <tbody>\n",
       "    <tr>\n",
       "      <th>0</th>\n",
       "      <td>access</td>\n",
       "      <td></td>\n",
       "      <td>0</td>\n",
       "      <td>tkacon</td>\n",
       "      <td>2017-03-09 02:02:47</td>\n",
       "      <td>V.03.02M0P03082017</td>\n",
       "      <td>tkcas</td>\n",
       "    </tr>\n",
       "    <tr>\n",
       "      <th>1</th>\n",
       "      <td>accessControl</td>\n",
       "      <td>Access Controls</td>\n",
       "      <td>1</td>\n",
       "      <td>casmeta</td>\n",
       "      <td>2017-03-09 02:02:47</td>\n",
       "      <td>V.03.02M0P03082017</td>\n",
       "      <td>tkcas</td>\n",
       "    </tr>\n",
       "    <tr>\n",
       "      <th>2</th>\n",
       "      <td>aggregation</td>\n",
       "      <td></td>\n",
       "      <td>0</td>\n",
       "      <td>tkcasagg</td>\n",
       "      <td>2017-03-09 02:02:42</td>\n",
       "      <td>V.03.02M0P03082017</td>\n",
       "      <td>crsaggregate</td>\n",
       "    </tr>\n",
       "    <tr>\n",
       "      <th>3</th>\n",
       "      <td>astore</td>\n",
       "      <td></td>\n",
       "      <td>0</td>\n",
       "      <td>astore</td>\n",
       "      <td>2017-03-09 01:05:39</td>\n",
       "      <td>V.03.02M0P03082017</td>\n",
       "      <td>crsastore</td>\n",
       "    </tr>\n",
       "    <tr>\n",
       "      <th>4</th>\n",
       "      <td>autotune</td>\n",
       "      <td></td>\n",
       "      <td>0</td>\n",
       "      <td>optminer</td>\n",
       "      <td>2017-03-09 03:15:51</td>\n",
       "      <td>V.03.02M0P03082017</td>\n",
       "      <td>crsoptminer</td>\n",
       "    </tr>\n",
       "    <tr>\n",
       "      <th>5</th>\n",
       "      <td>boolRule</td>\n",
       "      <td></td>\n",
       "      <td>0</td>\n",
       "      <td>casblr</td>\n",
       "      <td>2017-03-09 02:30:05</td>\n",
       "      <td>V.03.02M0P03082017</td>\n",
       "      <td>crsboolrule</td>\n",
       "    </tr>\n",
       "    <tr>\n",
       "      <th>6</th>\n",
       "      <td>builtins</td>\n",
       "      <td>Builtins</td>\n",
       "      <td>1</td>\n",
       "      <td>tkcasablt</td>\n",
       "      <td>2017-03-09 02:02:47</td>\n",
       "      <td>V.03.02M0P03082017</td>\n",
       "      <td>tkcas</td>\n",
       "    </tr>\n",
       "    <tr>\n",
       "      <th>7</th>\n",
       "      <td>cardinality</td>\n",
       "      <td></td>\n",
       "      <td>0</td>\n",
       "      <td>cardinality</td>\n",
       "      <td>2017-03-09 01:05:40</td>\n",
       "      <td>V.03.02M0P03082017</td>\n",
       "      <td>crscardinal</td>\n",
       "    </tr>\n",
       "    <tr>\n",
       "      <th>8</th>\n",
       "      <td>clustering</td>\n",
       "      <td></td>\n",
       "      <td>0</td>\n",
       "      <td>tkcaskclus</td>\n",
       "      <td>2017-03-09 01:05:42</td>\n",
       "      <td>V.03.02M0P03082017</td>\n",
       "      <td>crskmeans</td>\n",
       "    </tr>\n",
       "    <tr>\n",
       "      <th>9</th>\n",
       "      <td>configuration</td>\n",
       "      <td>Server Properties</td>\n",
       "      <td>1</td>\n",
       "      <td>tkcascfg</td>\n",
       "      <td>2017-03-09 02:02:41</td>\n",
       "      <td>V.03.02M0P03082017</td>\n",
       "      <td>tkcas</td>\n",
       "    </tr>\n",
       "    <tr>\n",
       "      <th>10</th>\n",
       "      <td>copula</td>\n",
       "      <td></td>\n",
       "      <td>0</td>\n",
       "      <td>copula</td>\n",
       "      <td>2017-03-09 01:05:36</td>\n",
       "      <td>V.03.02M0P03082017</td>\n",
       "      <td>crscopula</td>\n",
       "    </tr>\n",
       "    <tr>\n",
       "      <th>11</th>\n",
       "      <td>countreg</td>\n",
       "      <td></td>\n",
       "      <td>0</td>\n",
       "      <td>countreg</td>\n",
       "      <td>2017-03-09 01:05:38</td>\n",
       "      <td>V.03.02M0P03082017</td>\n",
       "      <td>crscountreg</td>\n",
       "    </tr>\n",
       "    <tr>\n",
       "      <th>12</th>\n",
       "      <td>dataPreprocess</td>\n",
       "      <td>Data Preprocess</td>\n",
       "      <td>1</td>\n",
       "      <td>tktrans</td>\n",
       "      <td>2017-03-09 02:02:46</td>\n",
       "      <td>V.03.02M0P03082017</td>\n",
       "      <td>crsstat</td>\n",
       "    </tr>\n",
       "    <tr>\n",
       "      <th>13</th>\n",
       "      <td>dataStep</td>\n",
       "      <td>DATA Step</td>\n",
       "      <td>1</td>\n",
       "      <td>datastep</td>\n",
       "      <td>2017-03-09 02:02:20</td>\n",
       "      <td>V.03.02M0P03082017</td>\n",
       "      <td>tkcas</td>\n",
       "    </tr>\n",
       "    <tr>\n",
       "      <th>14</th>\n",
       "      <td>decisionTree</td>\n",
       "      <td></td>\n",
       "      <td>0</td>\n",
       "      <td>tkcasdt</td>\n",
       "      <td>2017-03-09 02:02:46</td>\n",
       "      <td>V.03.02M0P03082017</td>\n",
       "      <td>crsdtree</td>\n",
       "    </tr>\n",
       "    <tr>\n",
       "      <th>15</th>\n",
       "      <td>ds2</td>\n",
       "      <td></td>\n",
       "      <td>0</td>\n",
       "      <td>casds2</td>\n",
       "      <td>2017-03-09 03:08:17</td>\n",
       "      <td>V.03.02M0P03082017</td>\n",
       "      <td>crsds2</td>\n",
       "    </tr>\n",
       "    <tr>\n",
       "      <th>16</th>\n",
       "      <td>factmac</td>\n",
       "      <td></td>\n",
       "      <td>0</td>\n",
       "      <td>tkfactmac</td>\n",
       "      <td>2017-03-09 01:05:40</td>\n",
       "      <td>V.03.02M0P03082017</td>\n",
       "      <td>crstkfactmac</td>\n",
       "    </tr>\n",
       "    <tr>\n",
       "      <th>17</th>\n",
       "      <td>fcmpact</td>\n",
       "      <td></td>\n",
       "      <td>0</td>\n",
       "      <td>fcmpact</td>\n",
       "      <td>2017-03-09 02:09:28</td>\n",
       "      <td>V.03.02M0P03082017</td>\n",
       "      <td>crsfcmpact</td>\n",
       "    </tr>\n",
       "    <tr>\n",
       "      <th>18</th>\n",
       "      <td>fedSql</td>\n",
       "      <td></td>\n",
       "      <td>0</td>\n",
       "      <td>casfedsql</td>\n",
       "      <td>2017-03-09 03:08:17</td>\n",
       "      <td>V.03.02M0P03082017</td>\n",
       "      <td>crsfedsql</td>\n",
       "    </tr>\n",
       "    <tr>\n",
       "      <th>19</th>\n",
       "      <td>hyperGroup</td>\n",
       "      <td></td>\n",
       "      <td>0</td>\n",
       "      <td>tkhypgrp</td>\n",
       "      <td>2017-03-09 02:02:42</td>\n",
       "      <td>V.03.02M0P03082017</td>\n",
       "      <td>crsmlrning</td>\n",
       "    </tr>\n",
       "    <tr>\n",
       "      <th>20</th>\n",
       "      <td>image</td>\n",
       "      <td></td>\n",
       "      <td>0</td>\n",
       "      <td>tkimage</td>\n",
       "      <td>2017-03-09 01:05:30</td>\n",
       "      <td>V.03.02M0P03082017</td>\n",
       "      <td>crscmptrvsn</td>\n",
       "    </tr>\n",
       "    <tr>\n",
       "      <th>21</th>\n",
       "      <td>loadStreams</td>\n",
       "      <td></td>\n",
       "      <td>0</td>\n",
       "      <td>espact</td>\n",
       "      <td>2017-03-09 02:02:45</td>\n",
       "      <td>V.03.02M0P03082017</td>\n",
       "      <td>crsloadstrms</td>\n",
       "    </tr>\n",
       "    <tr>\n",
       "      <th>22</th>\n",
       "      <td>midTierServices</td>\n",
       "      <td></td>\n",
       "      <td>0</td>\n",
       "      <td>mtpsrvc</td>\n",
       "      <td>2017-03-09 01:34:36</td>\n",
       "      <td>V.03.02M0P03082017</td>\n",
       "      <td>crsmtpsrvc</td>\n",
       "    </tr>\n",
       "    <tr>\n",
       "      <th>23</th>\n",
       "      <td>network</td>\n",
       "      <td>Network</td>\n",
       "      <td>0</td>\n",
       "      <td>networkcommon</td>\n",
       "      <td>2017-03-09 03:08:12</td>\n",
       "      <td>V.03.02M0P03082017</td>\n",
       "      <td>crsnetcommon</td>\n",
       "    </tr>\n",
       "    <tr>\n",
       "      <th>24</th>\n",
       "      <td>network</td>\n",
       "      <td>Network</td>\n",
       "      <td>0</td>\n",
       "      <td>networksocial</td>\n",
       "      <td>2017-03-09 03:08:12</td>\n",
       "      <td>V.03.02M0P03082017</td>\n",
       "      <td>crsnetsoc</td>\n",
       "    </tr>\n",
       "    <tr>\n",
       "      <th>25</th>\n",
       "      <td>networkOptimization</td>\n",
       "      <td></td>\n",
       "      <td>0</td>\n",
       "      <td>networkoptimization</td>\n",
       "      <td>2017-03-09 03:08:12</td>\n",
       "      <td>V.03.02M0P03082017</td>\n",
       "      <td>crsnetopt</td>\n",
       "    </tr>\n",
       "    <tr>\n",
       "      <th>26</th>\n",
       "      <td>neuralNet</td>\n",
       "      <td></td>\n",
       "      <td>0</td>\n",
       "      <td>tkcasann</td>\n",
       "      <td>2017-03-09 02:02:46</td>\n",
       "      <td>V.03.02M0P03082017</td>\n",
       "      <td>crsneuralnet</td>\n",
       "    </tr>\n",
       "    <tr>\n",
       "      <th>27</th>\n",
       "      <td>nonlinear</td>\n",
       "      <td></td>\n",
       "      <td>0</td>\n",
       "      <td>nlmcas</td>\n",
       "      <td>2017-03-09 01:05:40</td>\n",
       "      <td>V.03.02M0P03082017</td>\n",
       "      <td>crsnlm</td>\n",
       "    </tr>\n",
       "    <tr>\n",
       "      <th>28</th>\n",
       "      <td>optimization</td>\n",
       "      <td></td>\n",
       "      <td>0</td>\n",
       "      <td>optimization</td>\n",
       "      <td>2017-03-09 03:15:51</td>\n",
       "      <td>V.03.02M0P03082017</td>\n",
       "      <td>crsoptimztn</td>\n",
       "    </tr>\n",
       "    <tr>\n",
       "      <th>29</th>\n",
       "      <td>panel</td>\n",
       "      <td></td>\n",
       "      <td>0</td>\n",
       "      <td>panel</td>\n",
       "      <td>2017-03-09 01:05:37</td>\n",
       "      <td>V.03.02M0P03082017</td>\n",
       "      <td>crspanel</td>\n",
       "    </tr>\n",
       "    <tr>\n",
       "      <th>30</th>\n",
       "      <td>pca</td>\n",
       "      <td></td>\n",
       "      <td>0</td>\n",
       "      <td>tkpca</td>\n",
       "      <td>2017-03-09 01:05:43</td>\n",
       "      <td>V.03.02M0P03082017</td>\n",
       "      <td>crspca</td>\n",
       "    </tr>\n",
       "    <tr>\n",
       "      <th>31</th>\n",
       "      <td>percentile</td>\n",
       "      <td>Percentile</td>\n",
       "      <td>1</td>\n",
       "      <td>tkcasptl</td>\n",
       "      <td>2017-03-09 02:02:46</td>\n",
       "      <td>V.03.02M0P03082017</td>\n",
       "      <td>crsstat</td>\n",
       "    </tr>\n",
       "    <tr>\n",
       "      <th>32</th>\n",
       "      <td>pls</td>\n",
       "      <td></td>\n",
       "      <td>0</td>\n",
       "      <td>pls</td>\n",
       "      <td>2017-03-09 01:05:36</td>\n",
       "      <td>V.03.02M0P03082017</td>\n",
       "      <td>crspls</td>\n",
       "    </tr>\n",
       "    <tr>\n",
       "      <th>33</th>\n",
       "      <td>qlim</td>\n",
       "      <td></td>\n",
       "      <td>0</td>\n",
       "      <td>qlim</td>\n",
       "      <td>2017-03-09 01:34:19</td>\n",
       "      <td>V.03.02M0P03082017</td>\n",
       "      <td>crsqlim</td>\n",
       "    </tr>\n",
       "    <tr>\n",
       "      <th>34</th>\n",
       "      <td>quantreg</td>\n",
       "      <td></td>\n",
       "      <td>0</td>\n",
       "      <td>rqscas</td>\n",
       "      <td>2017-03-09 01:05:38</td>\n",
       "      <td>V.03.02M0P03082017</td>\n",
       "      <td>crsquantreg</td>\n",
       "    </tr>\n",
       "    <tr>\n",
       "      <th>35</th>\n",
       "      <td>recommend</td>\n",
       "      <td></td>\n",
       "      <td>0</td>\n",
       "      <td>tkrecom</td>\n",
       "      <td>2017-03-09 02:02:46</td>\n",
       "      <td>V.03.02M0P03082017</td>\n",
       "      <td>crsrecommend</td>\n",
       "    </tr>\n",
       "    <tr>\n",
       "      <th>36</th>\n",
       "      <td>regression</td>\n",
       "      <td></td>\n",
       "      <td>0</td>\n",
       "      <td>regcas</td>\n",
       "      <td>2017-03-09 01:05:42</td>\n",
       "      <td>V.03.02M0P03082017</td>\n",
       "      <td>crsregressn</td>\n",
       "    </tr>\n",
       "    <tr>\n",
       "      <th>37</th>\n",
       "      <td>robustPca</td>\n",
       "      <td></td>\n",
       "      <td>0</td>\n",
       "      <td>tkrpca</td>\n",
       "      <td>2017-03-09 01:05:39</td>\n",
       "      <td>V.03.02M0P03082017</td>\n",
       "      <td>crsrpca</td>\n",
       "    </tr>\n",
       "    <tr>\n",
       "      <th>38</th>\n",
       "      <td>sampling</td>\n",
       "      <td></td>\n",
       "      <td>0</td>\n",
       "      <td>tkcassamp</td>\n",
       "      <td>2017-03-09 01:05:41</td>\n",
       "      <td>V.03.02M0P03082017</td>\n",
       "      <td>crssampling</td>\n",
       "    </tr>\n",
       "    <tr>\n",
       "      <th>39</th>\n",
       "      <td>search</td>\n",
       "      <td>Search</td>\n",
       "      <td>1</td>\n",
       "      <td>casidx</td>\n",
       "      <td>2017-03-09 01:34:42</td>\n",
       "      <td>V.03.02M0P03082017</td>\n",
       "      <td>crssearch</td>\n",
       "    </tr>\n",
       "    <tr>\n",
       "      <th>40</th>\n",
       "      <td>sentimentAnalysis</td>\n",
       "      <td></td>\n",
       "      <td>0</td>\n",
       "      <td>cassent</td>\n",
       "      <td>2017-03-09 01:34:42</td>\n",
       "      <td>V.03.02M0P03082017</td>\n",
       "      <td>crssentiment</td>\n",
       "    </tr>\n",
       "    <tr>\n",
       "      <th>41</th>\n",
       "      <td>sequence</td>\n",
       "      <td></td>\n",
       "      <td>0</td>\n",
       "      <td>tksequ</td>\n",
       "      <td>2017-03-09 02:02:41</td>\n",
       "      <td>V.03.02M0P03082017</td>\n",
       "      <td>crssequence</td>\n",
       "    </tr>\n",
       "    <tr>\n",
       "      <th>42</th>\n",
       "      <td>session</td>\n",
       "      <td>Session Methods</td>\n",
       "      <td>1</td>\n",
       "      <td>tkcsessn</td>\n",
       "      <td>2017-03-09 02:02:46</td>\n",
       "      <td>V.03.02M0P03082017</td>\n",
       "      <td>tkcas</td>\n",
       "    </tr>\n",
       "    <tr>\n",
       "      <th>43</th>\n",
       "      <td>sessionProp</td>\n",
       "      <td>Session Properties</td>\n",
       "      <td>1</td>\n",
       "      <td>tkcstate</td>\n",
       "      <td>2017-03-09 02:02:46</td>\n",
       "      <td>V.03.02M0P03082017</td>\n",
       "      <td>tkcas</td>\n",
       "    </tr>\n",
       "    <tr>\n",
       "      <th>44</th>\n",
       "      <td>severity</td>\n",
       "      <td></td>\n",
       "      <td>0</td>\n",
       "      <td>severity</td>\n",
       "      <td>2017-03-09 01:05:44</td>\n",
       "      <td>V.03.02M0P03082017</td>\n",
       "      <td>crsseverity</td>\n",
       "    </tr>\n",
       "    <tr>\n",
       "      <th>45</th>\n",
       "      <td>sgComp</td>\n",
       "      <td></td>\n",
       "      <td>0</td>\n",
       "      <td>sgcomp</td>\n",
       "      <td>2017-03-09 01:05:36</td>\n",
       "      <td>V.03.02M0P03082017</td>\n",
       "      <td>crssgcomp</td>\n",
       "    </tr>\n",
       "    <tr>\n",
       "      <th>46</th>\n",
       "      <td>simple</td>\n",
       "      <td>Simple Analytics</td>\n",
       "      <td>1</td>\n",
       "      <td>tkimstat</td>\n",
       "      <td>2017-03-09 02:02:46</td>\n",
       "      <td>V.03.02M0P03082017</td>\n",
       "      <td>crsstat</td>\n",
       "    </tr>\n",
       "    <tr>\n",
       "      <th>47</th>\n",
       "      <td>simpleForecast</td>\n",
       "      <td></td>\n",
       "      <td>0</td>\n",
       "      <td>casfors</td>\n",
       "      <td>2017-03-09 01:05:43</td>\n",
       "      <td>V.03.02M0P03082017</td>\n",
       "      <td>crsforecast</td>\n",
       "    </tr>\n",
       "    <tr>\n",
       "      <th>48</th>\n",
       "      <td>svDataDescription</td>\n",
       "      <td></td>\n",
       "      <td>0</td>\n",
       "      <td>svdd</td>\n",
       "      <td>2017-03-09 01:05:35</td>\n",
       "      <td>V.03.02M0P03082017</td>\n",
       "      <td>crssvdd</td>\n",
       "    </tr>\n",
       "    <tr>\n",
       "      <th>49</th>\n",
       "      <td>svm</td>\n",
       "      <td></td>\n",
       "      <td>0</td>\n",
       "      <td>tkaasvm</td>\n",
       "      <td>2017-03-09 01:05:41</td>\n",
       "      <td>V.03.02M0P03082017</td>\n",
       "      <td>crssvm</td>\n",
       "    </tr>\n",
       "    <tr>\n",
       "      <th>50</th>\n",
       "      <td>table</td>\n",
       "      <td>Tables</td>\n",
       "      <td>1</td>\n",
       "      <td>tkcastab</td>\n",
       "      <td>2017-03-09 02:02:46</td>\n",
       "      <td>V.03.02M0P03082017</td>\n",
       "      <td>tkcas</td>\n",
       "    </tr>\n",
       "    <tr>\n",
       "      <th>51</th>\n",
       "      <td>textMining</td>\n",
       "      <td></td>\n",
       "      <td>0</td>\n",
       "      <td>castmine</td>\n",
       "      <td>2017-03-09 02:30:05</td>\n",
       "      <td>V.03.02M0P03082017</td>\n",
       "      <td>crstxtmining</td>\n",
       "    </tr>\n",
       "    <tr>\n",
       "      <th>52</th>\n",
       "      <td>textParse</td>\n",
       "      <td></td>\n",
       "      <td>0</td>\n",
       "      <td>casparse</td>\n",
       "      <td>2017-03-09 01:34:41</td>\n",
       "      <td>V.03.02M0P03082017</td>\n",
       "      <td>crsparse</td>\n",
       "    </tr>\n",
       "    <tr>\n",
       "      <th>53</th>\n",
       "      <td>timeData</td>\n",
       "      <td></td>\n",
       "      <td>0</td>\n",
       "      <td>castide</td>\n",
       "      <td>2017-03-09 01:05:43</td>\n",
       "      <td>V.03.02M0P03082017</td>\n",
       "      <td>crstimedata</td>\n",
       "    </tr>\n",
       "    <tr>\n",
       "      <th>54</th>\n",
       "      <td>timeFrequency</td>\n",
       "      <td></td>\n",
       "      <td>0</td>\n",
       "      <td>tkcastf</td>\n",
       "      <td>2017-03-09 01:05:35</td>\n",
       "      <td>V.03.02M0P03082017</td>\n",
       "      <td>crstimefreq</td>\n",
       "    </tr>\n",
       "    <tr>\n",
       "      <th>55</th>\n",
       "      <td>transpose</td>\n",
       "      <td></td>\n",
       "      <td>0</td>\n",
       "      <td>castranspose</td>\n",
       "      <td>2017-03-09 01:05:32</td>\n",
       "      <td>V.03.02M0P03082017</td>\n",
       "      <td>crstranspose</td>\n",
       "    </tr>\n",
       "    <tr>\n",
       "      <th>56</th>\n",
       "      <td>tsReconcile</td>\n",
       "      <td></td>\n",
       "      <td>0</td>\n",
       "      <td>tkrecfor</td>\n",
       "      <td>2017-03-09 01:05:36</td>\n",
       "      <td>V.03.02M0P03082017</td>\n",
       "      <td>crsreconcile</td>\n",
       "    </tr>\n",
       "    <tr>\n",
       "      <th>57</th>\n",
       "      <td>varReduce</td>\n",
       "      <td></td>\n",
       "      <td>0</td>\n",
       "      <td>tkaareduce</td>\n",
       "      <td>2017-03-09 01:05:40</td>\n",
       "      <td>V.03.02M0P03082017</td>\n",
       "      <td>crsvarreduce</td>\n",
       "    </tr>\n",
       "  </tbody>\n",
       "</table>\n",
       "</div>\n",
       "</div>\n",
       "<div class=\"cas-output-area\"></div>\n",
       "<p class=\"cas-results-performance\"><small><span class=\"cas-elapsed\">elapsed 36.6s</span> &#183; <span class=\"cas-user\">user 1.62s</span> &#183; <span class=\"cas-sys\">sys 3.93s</span> &#183; <span class=\"cas-memory\">mem 0.813MB</span></small></p>"
      ],
      "text/plain": [
       "[setinfo]\n",
       "\n",
       " Action set information\n",
       " \n",
       "               actionset               label  loaded            extension  \\\n",
       " 0                access                           0               tkacon   \n",
       " 1         accessControl     Access Controls       1              casmeta   \n",
       " 2           aggregation                           0             tkcasagg   \n",
       " 3                astore                           0               astore   \n",
       " 4              autotune                           0             optminer   \n",
       " 5              boolRule                           0               casblr   \n",
       " 6              builtins            Builtins       1            tkcasablt   \n",
       " 7           cardinality                           0          cardinality   \n",
       " 8            clustering                           0           tkcaskclus   \n",
       " 9         configuration   Server Properties       1             tkcascfg   \n",
       " 10               copula                           0               copula   \n",
       " 11             countreg                           0             countreg   \n",
       " 12       dataPreprocess     Data Preprocess       1              tktrans   \n",
       " 13             dataStep           DATA Step       1             datastep   \n",
       " 14         decisionTree                           0              tkcasdt   \n",
       " 15                  ds2                           0               casds2   \n",
       " 16              factmac                           0            tkfactmac   \n",
       " 17              fcmpact                           0              fcmpact   \n",
       " 18               fedSql                           0            casfedsql   \n",
       " 19           hyperGroup                           0             tkhypgrp   \n",
       " 20                image                           0              tkimage   \n",
       " 21          loadStreams                           0               espact   \n",
       " 22      midTierServices                           0              mtpsrvc   \n",
       " 23              network             Network       0        networkcommon   \n",
       " 24              network             Network       0        networksocial   \n",
       " 25  networkOptimization                           0  networkoptimization   \n",
       " 26            neuralNet                           0             tkcasann   \n",
       " 27            nonlinear                           0               nlmcas   \n",
       " 28         optimization                           0         optimization   \n",
       " 29                panel                           0                panel   \n",
       " 30                  pca                           0                tkpca   \n",
       " 31           percentile          Percentile       1             tkcasptl   \n",
       " 32                  pls                           0                  pls   \n",
       " 33                 qlim                           0                 qlim   \n",
       " 34             quantreg                           0               rqscas   \n",
       " 35            recommend                           0              tkrecom   \n",
       " 36           regression                           0               regcas   \n",
       " 37            robustPca                           0               tkrpca   \n",
       " 38             sampling                           0            tkcassamp   \n",
       " 39               search              Search       1               casidx   \n",
       " 40    sentimentAnalysis                           0              cassent   \n",
       " 41             sequence                           0               tksequ   \n",
       " 42              session     Session Methods       1             tkcsessn   \n",
       " 43          sessionProp  Session Properties       1             tkcstate   \n",
       " 44             severity                           0             severity   \n",
       " 45               sgComp                           0               sgcomp   \n",
       " 46               simple    Simple Analytics       1             tkimstat   \n",
       " 47       simpleForecast                           0              casfors   \n",
       " 48    svDataDescription                           0                 svdd   \n",
       " 49                  svm                           0              tkaasvm   \n",
       " 50                table              Tables       1             tkcastab   \n",
       " 51           textMining                           0             castmine   \n",
       " 52            textParse                           0             casparse   \n",
       " 53             timeData                           0              castide   \n",
       " 54        timeFrequency                           0              tkcastf   \n",
       " 55            transpose                           0         castranspose   \n",
       " 56          tsReconcile                           0             tkrecfor   \n",
       " 57            varReduce                           0           tkaareduce   \n",
       " \n",
       "              build_time            portdate  product_name  \n",
       " 0   2017-03-09 02:02:47  V.03.02M0P03082017         tkcas  \n",
       " 1   2017-03-09 02:02:47  V.03.02M0P03082017         tkcas  \n",
       " 2   2017-03-09 02:02:42  V.03.02M0P03082017  crsaggregate  \n",
       " 3   2017-03-09 01:05:39  V.03.02M0P03082017     crsastore  \n",
       " 4   2017-03-09 03:15:51  V.03.02M0P03082017   crsoptminer  \n",
       " 5   2017-03-09 02:30:05  V.03.02M0P03082017   crsboolrule  \n",
       " 6   2017-03-09 02:02:47  V.03.02M0P03082017         tkcas  \n",
       " 7   2017-03-09 01:05:40  V.03.02M0P03082017   crscardinal  \n",
       " 8   2017-03-09 01:05:42  V.03.02M0P03082017     crskmeans  \n",
       " 9   2017-03-09 02:02:41  V.03.02M0P03082017         tkcas  \n",
       " 10  2017-03-09 01:05:36  V.03.02M0P03082017     crscopula  \n",
       " 11  2017-03-09 01:05:38  V.03.02M0P03082017   crscountreg  \n",
       " 12  2017-03-09 02:02:46  V.03.02M0P03082017       crsstat  \n",
       " 13  2017-03-09 02:02:20  V.03.02M0P03082017         tkcas  \n",
       " 14  2017-03-09 02:02:46  V.03.02M0P03082017      crsdtree  \n",
       " 15  2017-03-09 03:08:17  V.03.02M0P03082017        crsds2  \n",
       " 16  2017-03-09 01:05:40  V.03.02M0P03082017  crstkfactmac  \n",
       " 17  2017-03-09 02:09:28  V.03.02M0P03082017    crsfcmpact  \n",
       " 18  2017-03-09 03:08:17  V.03.02M0P03082017     crsfedsql  \n",
       " 19  2017-03-09 02:02:42  V.03.02M0P03082017    crsmlrning  \n",
       " 20  2017-03-09 01:05:30  V.03.02M0P03082017   crscmptrvsn  \n",
       " 21  2017-03-09 02:02:45  V.03.02M0P03082017  crsloadstrms  \n",
       " 22  2017-03-09 01:34:36  V.03.02M0P03082017    crsmtpsrvc  \n",
       " 23  2017-03-09 03:08:12  V.03.02M0P03082017  crsnetcommon  \n",
       " 24  2017-03-09 03:08:12  V.03.02M0P03082017     crsnetsoc  \n",
       " 25  2017-03-09 03:08:12  V.03.02M0P03082017     crsnetopt  \n",
       " 26  2017-03-09 02:02:46  V.03.02M0P03082017  crsneuralnet  \n",
       " 27  2017-03-09 01:05:40  V.03.02M0P03082017        crsnlm  \n",
       " 28  2017-03-09 03:15:51  V.03.02M0P03082017   crsoptimztn  \n",
       " 29  2017-03-09 01:05:37  V.03.02M0P03082017      crspanel  \n",
       " 30  2017-03-09 01:05:43  V.03.02M0P03082017        crspca  \n",
       " 31  2017-03-09 02:02:46  V.03.02M0P03082017       crsstat  \n",
       " 32  2017-03-09 01:05:36  V.03.02M0P03082017        crspls  \n",
       " 33  2017-03-09 01:34:19  V.03.02M0P03082017       crsqlim  \n",
       " 34  2017-03-09 01:05:38  V.03.02M0P03082017   crsquantreg  \n",
       " 35  2017-03-09 02:02:46  V.03.02M0P03082017  crsrecommend  \n",
       " 36  2017-03-09 01:05:42  V.03.02M0P03082017   crsregressn  \n",
       " 37  2017-03-09 01:05:39  V.03.02M0P03082017       crsrpca  \n",
       " 38  2017-03-09 01:05:41  V.03.02M0P03082017   crssampling  \n",
       " 39  2017-03-09 01:34:42  V.03.02M0P03082017     crssearch  \n",
       " 40  2017-03-09 01:34:42  V.03.02M0P03082017  crssentiment  \n",
       " 41  2017-03-09 02:02:41  V.03.02M0P03082017   crssequence  \n",
       " 42  2017-03-09 02:02:46  V.03.02M0P03082017         tkcas  \n",
       " 43  2017-03-09 02:02:46  V.03.02M0P03082017         tkcas  \n",
       " 44  2017-03-09 01:05:44  V.03.02M0P03082017   crsseverity  \n",
       " 45  2017-03-09 01:05:36  V.03.02M0P03082017     crssgcomp  \n",
       " 46  2017-03-09 02:02:46  V.03.02M0P03082017       crsstat  \n",
       " 47  2017-03-09 01:05:43  V.03.02M0P03082017   crsforecast  \n",
       " 48  2017-03-09 01:05:35  V.03.02M0P03082017       crssvdd  \n",
       " 49  2017-03-09 01:05:41  V.03.02M0P03082017        crssvm  \n",
       " 50  2017-03-09 02:02:46  V.03.02M0P03082017         tkcas  \n",
       " 51  2017-03-09 02:30:05  V.03.02M0P03082017  crstxtmining  \n",
       " 52  2017-03-09 01:34:41  V.03.02M0P03082017      crsparse  \n",
       " 53  2017-03-09 01:05:43  V.03.02M0P03082017   crstimedata  \n",
       " 54  2017-03-09 01:05:35  V.03.02M0P03082017   crstimefreq  \n",
       " 55  2017-03-09 01:05:32  V.03.02M0P03082017  crstranspose  \n",
       " 56  2017-03-09 01:05:36  V.03.02M0P03082017  crsreconcile  \n",
       " 57  2017-03-09 01:05:40  V.03.02M0P03082017  crsvarreduce  \n",
       "\n",
       "+ Elapsed: 36.6s, user: 1.62s, sys: 3.93s, mem: 0.813mb"
      ]
     },
     "execution_count": 65,
     "metadata": {},
     "output_type": "execute_result"
    }
   ],
   "source": [
    "asinfo"
   ]
  },
  {
   "cell_type": "markdown",
   "metadata": {},
   "source": [
    "Pozostawienie tylko tych CAS Action Sets, któe nie są załadowane"
   ]
  },
  {
   "cell_type": "code",
   "execution_count": 66,
   "metadata": {
    "collapsed": true
   },
   "outputs": [],
   "source": [
    "asinfo = asinfo.setinfo[asinfo.setinfo.loaded == 0]"
   ]
  },
  {
   "cell_type": "code",
   "execution_count": 67,
   "metadata": {},
   "outputs": [
    {
     "data": {
      "text/html": [
       "<div>\n",
       "<style>\n",
       "    .dataframe thead tr:only-child th {\n",
       "        text-align: right;\n",
       "    }\n",
       "\n",
       "    .dataframe thead th {\n",
       "        text-align: left;\n",
       "    }\n",
       "\n",
       "    .dataframe tbody tr th {\n",
       "        vertical-align: top;\n",
       "    }\n",
       "</style>\n",
       "<table border=\"1\" class=\"dataframe\"><caption>Action set information</caption>\n",
       "  <thead>\n",
       "    <tr style=\"text-align: right;\">\n",
       "      <th title=\"\"></th>\n",
       "      <th title=\"actionset\">actionset</th>\n",
       "      <th title=\"label\">label</th>\n",
       "      <th title=\"loaded\">loaded</th>\n",
       "      <th title=\"extension\">extension</th>\n",
       "      <th title=\"build_time\">build_time</th>\n",
       "      <th title=\"portdate\">portdate</th>\n",
       "      <th title=\"product_name\">product_name</th>\n",
       "    </tr>\n",
       "  </thead>\n",
       "  <tbody>\n",
       "    <tr>\n",
       "      <th>0</th>\n",
       "      <td>access</td>\n",
       "      <td></td>\n",
       "      <td>0</td>\n",
       "      <td>tkacon</td>\n",
       "      <td>2017-03-09 02:02:47</td>\n",
       "      <td>V.03.02M0P03082017</td>\n",
       "      <td>tkcas</td>\n",
       "    </tr>\n",
       "    <tr>\n",
       "      <th>2</th>\n",
       "      <td>aggregation</td>\n",
       "      <td></td>\n",
       "      <td>0</td>\n",
       "      <td>tkcasagg</td>\n",
       "      <td>2017-03-09 02:02:42</td>\n",
       "      <td>V.03.02M0P03082017</td>\n",
       "      <td>crsaggregate</td>\n",
       "    </tr>\n",
       "    <tr>\n",
       "      <th>3</th>\n",
       "      <td>astore</td>\n",
       "      <td></td>\n",
       "      <td>0</td>\n",
       "      <td>astore</td>\n",
       "      <td>2017-03-09 01:05:39</td>\n",
       "      <td>V.03.02M0P03082017</td>\n",
       "      <td>crsastore</td>\n",
       "    </tr>\n",
       "    <tr>\n",
       "      <th>4</th>\n",
       "      <td>autotune</td>\n",
       "      <td></td>\n",
       "      <td>0</td>\n",
       "      <td>optminer</td>\n",
       "      <td>2017-03-09 03:15:51</td>\n",
       "      <td>V.03.02M0P03082017</td>\n",
       "      <td>crsoptminer</td>\n",
       "    </tr>\n",
       "    <tr>\n",
       "      <th>5</th>\n",
       "      <td>boolRule</td>\n",
       "      <td></td>\n",
       "      <td>0</td>\n",
       "      <td>casblr</td>\n",
       "      <td>2017-03-09 02:30:05</td>\n",
       "      <td>V.03.02M0P03082017</td>\n",
       "      <td>crsboolrule</td>\n",
       "    </tr>\n",
       "    <tr>\n",
       "      <th>7</th>\n",
       "      <td>cardinality</td>\n",
       "      <td></td>\n",
       "      <td>0</td>\n",
       "      <td>cardinality</td>\n",
       "      <td>2017-03-09 01:05:40</td>\n",
       "      <td>V.03.02M0P03082017</td>\n",
       "      <td>crscardinal</td>\n",
       "    </tr>\n",
       "    <tr>\n",
       "      <th>8</th>\n",
       "      <td>clustering</td>\n",
       "      <td></td>\n",
       "      <td>0</td>\n",
       "      <td>tkcaskclus</td>\n",
       "      <td>2017-03-09 01:05:42</td>\n",
       "      <td>V.03.02M0P03082017</td>\n",
       "      <td>crskmeans</td>\n",
       "    </tr>\n",
       "    <tr>\n",
       "      <th>10</th>\n",
       "      <td>copula</td>\n",
       "      <td></td>\n",
       "      <td>0</td>\n",
       "      <td>copula</td>\n",
       "      <td>2017-03-09 01:05:36</td>\n",
       "      <td>V.03.02M0P03082017</td>\n",
       "      <td>crscopula</td>\n",
       "    </tr>\n",
       "    <tr>\n",
       "      <th>11</th>\n",
       "      <td>countreg</td>\n",
       "      <td></td>\n",
       "      <td>0</td>\n",
       "      <td>countreg</td>\n",
       "      <td>2017-03-09 01:05:38</td>\n",
       "      <td>V.03.02M0P03082017</td>\n",
       "      <td>crscountreg</td>\n",
       "    </tr>\n",
       "    <tr>\n",
       "      <th>14</th>\n",
       "      <td>decisionTree</td>\n",
       "      <td></td>\n",
       "      <td>0</td>\n",
       "      <td>tkcasdt</td>\n",
       "      <td>2017-03-09 02:02:46</td>\n",
       "      <td>V.03.02M0P03082017</td>\n",
       "      <td>crsdtree</td>\n",
       "    </tr>\n",
       "    <tr>\n",
       "      <th>15</th>\n",
       "      <td>ds2</td>\n",
       "      <td></td>\n",
       "      <td>0</td>\n",
       "      <td>casds2</td>\n",
       "      <td>2017-03-09 03:08:17</td>\n",
       "      <td>V.03.02M0P03082017</td>\n",
       "      <td>crsds2</td>\n",
       "    </tr>\n",
       "    <tr>\n",
       "      <th>16</th>\n",
       "      <td>factmac</td>\n",
       "      <td></td>\n",
       "      <td>0</td>\n",
       "      <td>tkfactmac</td>\n",
       "      <td>2017-03-09 01:05:40</td>\n",
       "      <td>V.03.02M0P03082017</td>\n",
       "      <td>crstkfactmac</td>\n",
       "    </tr>\n",
       "    <tr>\n",
       "      <th>17</th>\n",
       "      <td>fcmpact</td>\n",
       "      <td></td>\n",
       "      <td>0</td>\n",
       "      <td>fcmpact</td>\n",
       "      <td>2017-03-09 02:09:28</td>\n",
       "      <td>V.03.02M0P03082017</td>\n",
       "      <td>crsfcmpact</td>\n",
       "    </tr>\n",
       "    <tr>\n",
       "      <th>18</th>\n",
       "      <td>fedSql</td>\n",
       "      <td></td>\n",
       "      <td>0</td>\n",
       "      <td>casfedsql</td>\n",
       "      <td>2017-03-09 03:08:17</td>\n",
       "      <td>V.03.02M0P03082017</td>\n",
       "      <td>crsfedsql</td>\n",
       "    </tr>\n",
       "    <tr>\n",
       "      <th>19</th>\n",
       "      <td>hyperGroup</td>\n",
       "      <td></td>\n",
       "      <td>0</td>\n",
       "      <td>tkhypgrp</td>\n",
       "      <td>2017-03-09 02:02:42</td>\n",
       "      <td>V.03.02M0P03082017</td>\n",
       "      <td>crsmlrning</td>\n",
       "    </tr>\n",
       "    <tr>\n",
       "      <th>20</th>\n",
       "      <td>image</td>\n",
       "      <td></td>\n",
       "      <td>0</td>\n",
       "      <td>tkimage</td>\n",
       "      <td>2017-03-09 01:05:30</td>\n",
       "      <td>V.03.02M0P03082017</td>\n",
       "      <td>crscmptrvsn</td>\n",
       "    </tr>\n",
       "    <tr>\n",
       "      <th>21</th>\n",
       "      <td>loadStreams</td>\n",
       "      <td></td>\n",
       "      <td>0</td>\n",
       "      <td>espact</td>\n",
       "      <td>2017-03-09 02:02:45</td>\n",
       "      <td>V.03.02M0P03082017</td>\n",
       "      <td>crsloadstrms</td>\n",
       "    </tr>\n",
       "    <tr>\n",
       "      <th>22</th>\n",
       "      <td>midTierServices</td>\n",
       "      <td></td>\n",
       "      <td>0</td>\n",
       "      <td>mtpsrvc</td>\n",
       "      <td>2017-03-09 01:34:36</td>\n",
       "      <td>V.03.02M0P03082017</td>\n",
       "      <td>crsmtpsrvc</td>\n",
       "    </tr>\n",
       "    <tr>\n",
       "      <th>23</th>\n",
       "      <td>network</td>\n",
       "      <td>Network</td>\n",
       "      <td>0</td>\n",
       "      <td>networkcommon</td>\n",
       "      <td>2017-03-09 03:08:12</td>\n",
       "      <td>V.03.02M0P03082017</td>\n",
       "      <td>crsnetcommon</td>\n",
       "    </tr>\n",
       "    <tr>\n",
       "      <th>24</th>\n",
       "      <td>network</td>\n",
       "      <td>Network</td>\n",
       "      <td>0</td>\n",
       "      <td>networksocial</td>\n",
       "      <td>2017-03-09 03:08:12</td>\n",
       "      <td>V.03.02M0P03082017</td>\n",
       "      <td>crsnetsoc</td>\n",
       "    </tr>\n",
       "    <tr>\n",
       "      <th>25</th>\n",
       "      <td>networkOptimization</td>\n",
       "      <td></td>\n",
       "      <td>0</td>\n",
       "      <td>networkoptimization</td>\n",
       "      <td>2017-03-09 03:08:12</td>\n",
       "      <td>V.03.02M0P03082017</td>\n",
       "      <td>crsnetopt</td>\n",
       "    </tr>\n",
       "    <tr>\n",
       "      <th>26</th>\n",
       "      <td>neuralNet</td>\n",
       "      <td></td>\n",
       "      <td>0</td>\n",
       "      <td>tkcasann</td>\n",
       "      <td>2017-03-09 02:02:46</td>\n",
       "      <td>V.03.02M0P03082017</td>\n",
       "      <td>crsneuralnet</td>\n",
       "    </tr>\n",
       "    <tr>\n",
       "      <th>27</th>\n",
       "      <td>nonlinear</td>\n",
       "      <td></td>\n",
       "      <td>0</td>\n",
       "      <td>nlmcas</td>\n",
       "      <td>2017-03-09 01:05:40</td>\n",
       "      <td>V.03.02M0P03082017</td>\n",
       "      <td>crsnlm</td>\n",
       "    </tr>\n",
       "    <tr>\n",
       "      <th>28</th>\n",
       "      <td>optimization</td>\n",
       "      <td></td>\n",
       "      <td>0</td>\n",
       "      <td>optimization</td>\n",
       "      <td>2017-03-09 03:15:51</td>\n",
       "      <td>V.03.02M0P03082017</td>\n",
       "      <td>crsoptimztn</td>\n",
       "    </tr>\n",
       "    <tr>\n",
       "      <th>29</th>\n",
       "      <td>panel</td>\n",
       "      <td></td>\n",
       "      <td>0</td>\n",
       "      <td>panel</td>\n",
       "      <td>2017-03-09 01:05:37</td>\n",
       "      <td>V.03.02M0P03082017</td>\n",
       "      <td>crspanel</td>\n",
       "    </tr>\n",
       "    <tr>\n",
       "      <th>30</th>\n",
       "      <td>pca</td>\n",
       "      <td></td>\n",
       "      <td>0</td>\n",
       "      <td>tkpca</td>\n",
       "      <td>2017-03-09 01:05:43</td>\n",
       "      <td>V.03.02M0P03082017</td>\n",
       "      <td>crspca</td>\n",
       "    </tr>\n",
       "    <tr>\n",
       "      <th>32</th>\n",
       "      <td>pls</td>\n",
       "      <td></td>\n",
       "      <td>0</td>\n",
       "      <td>pls</td>\n",
       "      <td>2017-03-09 01:05:36</td>\n",
       "      <td>V.03.02M0P03082017</td>\n",
       "      <td>crspls</td>\n",
       "    </tr>\n",
       "    <tr>\n",
       "      <th>33</th>\n",
       "      <td>qlim</td>\n",
       "      <td></td>\n",
       "      <td>0</td>\n",
       "      <td>qlim</td>\n",
       "      <td>2017-03-09 01:34:19</td>\n",
       "      <td>V.03.02M0P03082017</td>\n",
       "      <td>crsqlim</td>\n",
       "    </tr>\n",
       "    <tr>\n",
       "      <th>34</th>\n",
       "      <td>quantreg</td>\n",
       "      <td></td>\n",
       "      <td>0</td>\n",
       "      <td>rqscas</td>\n",
       "      <td>2017-03-09 01:05:38</td>\n",
       "      <td>V.03.02M0P03082017</td>\n",
       "      <td>crsquantreg</td>\n",
       "    </tr>\n",
       "    <tr>\n",
       "      <th>35</th>\n",
       "      <td>recommend</td>\n",
       "      <td></td>\n",
       "      <td>0</td>\n",
       "      <td>tkrecom</td>\n",
       "      <td>2017-03-09 02:02:46</td>\n",
       "      <td>V.03.02M0P03082017</td>\n",
       "      <td>crsrecommend</td>\n",
       "    </tr>\n",
       "    <tr>\n",
       "      <th>36</th>\n",
       "      <td>regression</td>\n",
       "      <td></td>\n",
       "      <td>0</td>\n",
       "      <td>regcas</td>\n",
       "      <td>2017-03-09 01:05:42</td>\n",
       "      <td>V.03.02M0P03082017</td>\n",
       "      <td>crsregressn</td>\n",
       "    </tr>\n",
       "    <tr>\n",
       "      <th>37</th>\n",
       "      <td>robustPca</td>\n",
       "      <td></td>\n",
       "      <td>0</td>\n",
       "      <td>tkrpca</td>\n",
       "      <td>2017-03-09 01:05:39</td>\n",
       "      <td>V.03.02M0P03082017</td>\n",
       "      <td>crsrpca</td>\n",
       "    </tr>\n",
       "    <tr>\n",
       "      <th>38</th>\n",
       "      <td>sampling</td>\n",
       "      <td></td>\n",
       "      <td>0</td>\n",
       "      <td>tkcassamp</td>\n",
       "      <td>2017-03-09 01:05:41</td>\n",
       "      <td>V.03.02M0P03082017</td>\n",
       "      <td>crssampling</td>\n",
       "    </tr>\n",
       "    <tr>\n",
       "      <th>40</th>\n",
       "      <td>sentimentAnalysis</td>\n",
       "      <td></td>\n",
       "      <td>0</td>\n",
       "      <td>cassent</td>\n",
       "      <td>2017-03-09 01:34:42</td>\n",
       "      <td>V.03.02M0P03082017</td>\n",
       "      <td>crssentiment</td>\n",
       "    </tr>\n",
       "    <tr>\n",
       "      <th>41</th>\n",
       "      <td>sequence</td>\n",
       "      <td></td>\n",
       "      <td>0</td>\n",
       "      <td>tksequ</td>\n",
       "      <td>2017-03-09 02:02:41</td>\n",
       "      <td>V.03.02M0P03082017</td>\n",
       "      <td>crssequence</td>\n",
       "    </tr>\n",
       "    <tr>\n",
       "      <th>44</th>\n",
       "      <td>severity</td>\n",
       "      <td></td>\n",
       "      <td>0</td>\n",
       "      <td>severity</td>\n",
       "      <td>2017-03-09 01:05:44</td>\n",
       "      <td>V.03.02M0P03082017</td>\n",
       "      <td>crsseverity</td>\n",
       "    </tr>\n",
       "    <tr>\n",
       "      <th>45</th>\n",
       "      <td>sgComp</td>\n",
       "      <td></td>\n",
       "      <td>0</td>\n",
       "      <td>sgcomp</td>\n",
       "      <td>2017-03-09 01:05:36</td>\n",
       "      <td>V.03.02M0P03082017</td>\n",
       "      <td>crssgcomp</td>\n",
       "    </tr>\n",
       "    <tr>\n",
       "      <th>47</th>\n",
       "      <td>simpleForecast</td>\n",
       "      <td></td>\n",
       "      <td>0</td>\n",
       "      <td>casfors</td>\n",
       "      <td>2017-03-09 01:05:43</td>\n",
       "      <td>V.03.02M0P03082017</td>\n",
       "      <td>crsforecast</td>\n",
       "    </tr>\n",
       "    <tr>\n",
       "      <th>48</th>\n",
       "      <td>svDataDescription</td>\n",
       "      <td></td>\n",
       "      <td>0</td>\n",
       "      <td>svdd</td>\n",
       "      <td>2017-03-09 01:05:35</td>\n",
       "      <td>V.03.02M0P03082017</td>\n",
       "      <td>crssvdd</td>\n",
       "    </tr>\n",
       "    <tr>\n",
       "      <th>49</th>\n",
       "      <td>svm</td>\n",
       "      <td></td>\n",
       "      <td>0</td>\n",
       "      <td>tkaasvm</td>\n",
       "      <td>2017-03-09 01:05:41</td>\n",
       "      <td>V.03.02M0P03082017</td>\n",
       "      <td>crssvm</td>\n",
       "    </tr>\n",
       "    <tr>\n",
       "      <th>51</th>\n",
       "      <td>textMining</td>\n",
       "      <td></td>\n",
       "      <td>0</td>\n",
       "      <td>castmine</td>\n",
       "      <td>2017-03-09 02:30:05</td>\n",
       "      <td>V.03.02M0P03082017</td>\n",
       "      <td>crstxtmining</td>\n",
       "    </tr>\n",
       "    <tr>\n",
       "      <th>52</th>\n",
       "      <td>textParse</td>\n",
       "      <td></td>\n",
       "      <td>0</td>\n",
       "      <td>casparse</td>\n",
       "      <td>2017-03-09 01:34:41</td>\n",
       "      <td>V.03.02M0P03082017</td>\n",
       "      <td>crsparse</td>\n",
       "    </tr>\n",
       "    <tr>\n",
       "      <th>53</th>\n",
       "      <td>timeData</td>\n",
       "      <td></td>\n",
       "      <td>0</td>\n",
       "      <td>castide</td>\n",
       "      <td>2017-03-09 01:05:43</td>\n",
       "      <td>V.03.02M0P03082017</td>\n",
       "      <td>crstimedata</td>\n",
       "    </tr>\n",
       "    <tr>\n",
       "      <th>54</th>\n",
       "      <td>timeFrequency</td>\n",
       "      <td></td>\n",
       "      <td>0</td>\n",
       "      <td>tkcastf</td>\n",
       "      <td>2017-03-09 01:05:35</td>\n",
       "      <td>V.03.02M0P03082017</td>\n",
       "      <td>crstimefreq</td>\n",
       "    </tr>\n",
       "    <tr>\n",
       "      <th>55</th>\n",
       "      <td>transpose</td>\n",
       "      <td></td>\n",
       "      <td>0</td>\n",
       "      <td>castranspose</td>\n",
       "      <td>2017-03-09 01:05:32</td>\n",
       "      <td>V.03.02M0P03082017</td>\n",
       "      <td>crstranspose</td>\n",
       "    </tr>\n",
       "    <tr>\n",
       "      <th>56</th>\n",
       "      <td>tsReconcile</td>\n",
       "      <td></td>\n",
       "      <td>0</td>\n",
       "      <td>tkrecfor</td>\n",
       "      <td>2017-03-09 01:05:36</td>\n",
       "      <td>V.03.02M0P03082017</td>\n",
       "      <td>crsreconcile</td>\n",
       "    </tr>\n",
       "    <tr>\n",
       "      <th>57</th>\n",
       "      <td>varReduce</td>\n",
       "      <td></td>\n",
       "      <td>0</td>\n",
       "      <td>tkaareduce</td>\n",
       "      <td>2017-03-09 01:05:40</td>\n",
       "      <td>V.03.02M0P03082017</td>\n",
       "      <td>crsvarreduce</td>\n",
       "    </tr>\n",
       "  </tbody>\n",
       "</table>\n",
       "</div>"
      ],
      "text/plain": [
       "Action set information\n",
       "\n",
       "              actionset    label  loaded            extension  \\\n",
       "0                access                0               tkacon   \n",
       "2           aggregation                0             tkcasagg   \n",
       "3                astore                0               astore   \n",
       "4              autotune                0             optminer   \n",
       "5              boolRule                0               casblr   \n",
       "7           cardinality                0          cardinality   \n",
       "8            clustering                0           tkcaskclus   \n",
       "10               copula                0               copula   \n",
       "11             countreg                0             countreg   \n",
       "14         decisionTree                0              tkcasdt   \n",
       "15                  ds2                0               casds2   \n",
       "16              factmac                0            tkfactmac   \n",
       "17              fcmpact                0              fcmpact   \n",
       "18               fedSql                0            casfedsql   \n",
       "19           hyperGroup                0             tkhypgrp   \n",
       "20                image                0              tkimage   \n",
       "21          loadStreams                0               espact   \n",
       "22      midTierServices                0              mtpsrvc   \n",
       "23              network  Network       0        networkcommon   \n",
       "24              network  Network       0        networksocial   \n",
       "25  networkOptimization                0  networkoptimization   \n",
       "26            neuralNet                0             tkcasann   \n",
       "27            nonlinear                0               nlmcas   \n",
       "28         optimization                0         optimization   \n",
       "29                panel                0                panel   \n",
       "30                  pca                0                tkpca   \n",
       "32                  pls                0                  pls   \n",
       "33                 qlim                0                 qlim   \n",
       "34             quantreg                0               rqscas   \n",
       "35            recommend                0              tkrecom   \n",
       "36           regression                0               regcas   \n",
       "37            robustPca                0               tkrpca   \n",
       "38             sampling                0            tkcassamp   \n",
       "40    sentimentAnalysis                0              cassent   \n",
       "41             sequence                0               tksequ   \n",
       "44             severity                0             severity   \n",
       "45               sgComp                0               sgcomp   \n",
       "47       simpleForecast                0              casfors   \n",
       "48    svDataDescription                0                 svdd   \n",
       "49                  svm                0              tkaasvm   \n",
       "51           textMining                0             castmine   \n",
       "52            textParse                0             casparse   \n",
       "53             timeData                0              castide   \n",
       "54        timeFrequency                0              tkcastf   \n",
       "55            transpose                0         castranspose   \n",
       "56          tsReconcile                0             tkrecfor   \n",
       "57            varReduce                0           tkaareduce   \n",
       "\n",
       "             build_time            portdate  product_name  \n",
       "0   2017-03-09 02:02:47  V.03.02M0P03082017         tkcas  \n",
       "2   2017-03-09 02:02:42  V.03.02M0P03082017  crsaggregate  \n",
       "3   2017-03-09 01:05:39  V.03.02M0P03082017     crsastore  \n",
       "4   2017-03-09 03:15:51  V.03.02M0P03082017   crsoptminer  \n",
       "5   2017-03-09 02:30:05  V.03.02M0P03082017   crsboolrule  \n",
       "7   2017-03-09 01:05:40  V.03.02M0P03082017   crscardinal  \n",
       "8   2017-03-09 01:05:42  V.03.02M0P03082017     crskmeans  \n",
       "10  2017-03-09 01:05:36  V.03.02M0P03082017     crscopula  \n",
       "11  2017-03-09 01:05:38  V.03.02M0P03082017   crscountreg  \n",
       "14  2017-03-09 02:02:46  V.03.02M0P03082017      crsdtree  \n",
       "15  2017-03-09 03:08:17  V.03.02M0P03082017        crsds2  \n",
       "16  2017-03-09 01:05:40  V.03.02M0P03082017  crstkfactmac  \n",
       "17  2017-03-09 02:09:28  V.03.02M0P03082017    crsfcmpact  \n",
       "18  2017-03-09 03:08:17  V.03.02M0P03082017     crsfedsql  \n",
       "19  2017-03-09 02:02:42  V.03.02M0P03082017    crsmlrning  \n",
       "20  2017-03-09 01:05:30  V.03.02M0P03082017   crscmptrvsn  \n",
       "21  2017-03-09 02:02:45  V.03.02M0P03082017  crsloadstrms  \n",
       "22  2017-03-09 01:34:36  V.03.02M0P03082017    crsmtpsrvc  \n",
       "23  2017-03-09 03:08:12  V.03.02M0P03082017  crsnetcommon  \n",
       "24  2017-03-09 03:08:12  V.03.02M0P03082017     crsnetsoc  \n",
       "25  2017-03-09 03:08:12  V.03.02M0P03082017     crsnetopt  \n",
       "26  2017-03-09 02:02:46  V.03.02M0P03082017  crsneuralnet  \n",
       "27  2017-03-09 01:05:40  V.03.02M0P03082017        crsnlm  \n",
       "28  2017-03-09 03:15:51  V.03.02M0P03082017   crsoptimztn  \n",
       "29  2017-03-09 01:05:37  V.03.02M0P03082017      crspanel  \n",
       "30  2017-03-09 01:05:43  V.03.02M0P03082017        crspca  \n",
       "32  2017-03-09 01:05:36  V.03.02M0P03082017        crspls  \n",
       "33  2017-03-09 01:34:19  V.03.02M0P03082017       crsqlim  \n",
       "34  2017-03-09 01:05:38  V.03.02M0P03082017   crsquantreg  \n",
       "35  2017-03-09 02:02:46  V.03.02M0P03082017  crsrecommend  \n",
       "36  2017-03-09 01:05:42  V.03.02M0P03082017   crsregressn  \n",
       "37  2017-03-09 01:05:39  V.03.02M0P03082017       crsrpca  \n",
       "38  2017-03-09 01:05:41  V.03.02M0P03082017   crssampling  \n",
       "40  2017-03-09 01:34:42  V.03.02M0P03082017  crssentiment  \n",
       "41  2017-03-09 02:02:41  V.03.02M0P03082017   crssequence  \n",
       "44  2017-03-09 01:05:44  V.03.02M0P03082017   crsseverity  \n",
       "45  2017-03-09 01:05:36  V.03.02M0P03082017     crssgcomp  \n",
       "47  2017-03-09 01:05:43  V.03.02M0P03082017   crsforecast  \n",
       "48  2017-03-09 01:05:35  V.03.02M0P03082017       crssvdd  \n",
       "49  2017-03-09 01:05:41  V.03.02M0P03082017        crssvm  \n",
       "51  2017-03-09 02:30:05  V.03.02M0P03082017  crstxtmining  \n",
       "52  2017-03-09 01:34:41  V.03.02M0P03082017      crsparse  \n",
       "53  2017-03-09 01:05:43  V.03.02M0P03082017   crstimedata  \n",
       "54  2017-03-09 01:05:35  V.03.02M0P03082017   crstimefreq  \n",
       "55  2017-03-09 01:05:32  V.03.02M0P03082017  crstranspose  \n",
       "56  2017-03-09 01:05:36  V.03.02M0P03082017  crsreconcile  \n",
       "57  2017-03-09 01:05:40  V.03.02M0P03082017  crsvarreduce  "
      ]
     },
     "execution_count": 67,
     "metadata": {},
     "output_type": "execute_result"
    }
   ],
   "source": [
    "asinfo"
   ]
  },
  {
   "cell_type": "markdown",
   "metadata": {},
   "source": [
    "Wybranie kolumn z nazwą i etykietą"
   ]
  },
  {
   "cell_type": "code",
   "execution_count": 69,
   "metadata": {
    "collapsed": true
   },
   "outputs": [],
   "source": [
    "asinfo = asinfo.loc[:, 'actionset':'label']"
   ]
  },
  {
   "cell_type": "code",
   "execution_count": 71,
   "metadata": {},
   "outputs": [
    {
     "data": {
      "text/html": [
       "<div>\n",
       "<style>\n",
       "    .dataframe thead tr:only-child th {\n",
       "        text-align: right;\n",
       "    }\n",
       "\n",
       "    .dataframe thead th {\n",
       "        text-align: left;\n",
       "    }\n",
       "\n",
       "    .dataframe tbody tr th {\n",
       "        vertical-align: top;\n",
       "    }\n",
       "</style>\n",
       "<table border=\"1\" class=\"dataframe\"><caption>Action set information</caption>\n",
       "  <thead>\n",
       "    <tr style=\"text-align: right;\">\n",
       "      <th title=\"\"></th>\n",
       "      <th title=\"actionset\">actionset</th>\n",
       "      <th title=\"label\">label</th>\n",
       "    </tr>\n",
       "  </thead>\n",
       "  <tbody>\n",
       "    <tr>\n",
       "      <th>0</th>\n",
       "      <td>access</td>\n",
       "      <td></td>\n",
       "    </tr>\n",
       "    <tr>\n",
       "      <th>2</th>\n",
       "      <td>aggregation</td>\n",
       "      <td></td>\n",
       "    </tr>\n",
       "    <tr>\n",
       "      <th>3</th>\n",
       "      <td>astore</td>\n",
       "      <td></td>\n",
       "    </tr>\n",
       "    <tr>\n",
       "      <th>4</th>\n",
       "      <td>autotune</td>\n",
       "      <td></td>\n",
       "    </tr>\n",
       "    <tr>\n",
       "      <th>5</th>\n",
       "      <td>boolRule</td>\n",
       "      <td></td>\n",
       "    </tr>\n",
       "    <tr>\n",
       "      <th>7</th>\n",
       "      <td>cardinality</td>\n",
       "      <td></td>\n",
       "    </tr>\n",
       "    <tr>\n",
       "      <th>8</th>\n",
       "      <td>clustering</td>\n",
       "      <td></td>\n",
       "    </tr>\n",
       "    <tr>\n",
       "      <th>10</th>\n",
       "      <td>copula</td>\n",
       "      <td></td>\n",
       "    </tr>\n",
       "    <tr>\n",
       "      <th>11</th>\n",
       "      <td>countreg</td>\n",
       "      <td></td>\n",
       "    </tr>\n",
       "    <tr>\n",
       "      <th>14</th>\n",
       "      <td>decisionTree</td>\n",
       "      <td></td>\n",
       "    </tr>\n",
       "    <tr>\n",
       "      <th>15</th>\n",
       "      <td>ds2</td>\n",
       "      <td></td>\n",
       "    </tr>\n",
       "    <tr>\n",
       "      <th>16</th>\n",
       "      <td>factmac</td>\n",
       "      <td></td>\n",
       "    </tr>\n",
       "    <tr>\n",
       "      <th>17</th>\n",
       "      <td>fcmpact</td>\n",
       "      <td></td>\n",
       "    </tr>\n",
       "    <tr>\n",
       "      <th>18</th>\n",
       "      <td>fedSql</td>\n",
       "      <td></td>\n",
       "    </tr>\n",
       "    <tr>\n",
       "      <th>19</th>\n",
       "      <td>hyperGroup</td>\n",
       "      <td></td>\n",
       "    </tr>\n",
       "    <tr>\n",
       "      <th>20</th>\n",
       "      <td>image</td>\n",
       "      <td></td>\n",
       "    </tr>\n",
       "    <tr>\n",
       "      <th>21</th>\n",
       "      <td>loadStreams</td>\n",
       "      <td></td>\n",
       "    </tr>\n",
       "    <tr>\n",
       "      <th>22</th>\n",
       "      <td>midTierServices</td>\n",
       "      <td></td>\n",
       "    </tr>\n",
       "    <tr>\n",
       "      <th>23</th>\n",
       "      <td>network</td>\n",
       "      <td>Network</td>\n",
       "    </tr>\n",
       "    <tr>\n",
       "      <th>24</th>\n",
       "      <td>network</td>\n",
       "      <td>Network</td>\n",
       "    </tr>\n",
       "    <tr>\n",
       "      <th>25</th>\n",
       "      <td>networkOptimization</td>\n",
       "      <td></td>\n",
       "    </tr>\n",
       "    <tr>\n",
       "      <th>26</th>\n",
       "      <td>neuralNet</td>\n",
       "      <td></td>\n",
       "    </tr>\n",
       "    <tr>\n",
       "      <th>27</th>\n",
       "      <td>nonlinear</td>\n",
       "      <td></td>\n",
       "    </tr>\n",
       "    <tr>\n",
       "      <th>28</th>\n",
       "      <td>optimization</td>\n",
       "      <td></td>\n",
       "    </tr>\n",
       "    <tr>\n",
       "      <th>29</th>\n",
       "      <td>panel</td>\n",
       "      <td></td>\n",
       "    </tr>\n",
       "    <tr>\n",
       "      <th>30</th>\n",
       "      <td>pca</td>\n",
       "      <td></td>\n",
       "    </tr>\n",
       "    <tr>\n",
       "      <th>32</th>\n",
       "      <td>pls</td>\n",
       "      <td></td>\n",
       "    </tr>\n",
       "    <tr>\n",
       "      <th>33</th>\n",
       "      <td>qlim</td>\n",
       "      <td></td>\n",
       "    </tr>\n",
       "    <tr>\n",
       "      <th>34</th>\n",
       "      <td>quantreg</td>\n",
       "      <td></td>\n",
       "    </tr>\n",
       "    <tr>\n",
       "      <th>35</th>\n",
       "      <td>recommend</td>\n",
       "      <td></td>\n",
       "    </tr>\n",
       "    <tr>\n",
       "      <th>36</th>\n",
       "      <td>regression</td>\n",
       "      <td></td>\n",
       "    </tr>\n",
       "    <tr>\n",
       "      <th>37</th>\n",
       "      <td>robustPca</td>\n",
       "      <td></td>\n",
       "    </tr>\n",
       "    <tr>\n",
       "      <th>38</th>\n",
       "      <td>sampling</td>\n",
       "      <td></td>\n",
       "    </tr>\n",
       "    <tr>\n",
       "      <th>40</th>\n",
       "      <td>sentimentAnalysis</td>\n",
       "      <td></td>\n",
       "    </tr>\n",
       "    <tr>\n",
       "      <th>41</th>\n",
       "      <td>sequence</td>\n",
       "      <td></td>\n",
       "    </tr>\n",
       "    <tr>\n",
       "      <th>44</th>\n",
       "      <td>severity</td>\n",
       "      <td></td>\n",
       "    </tr>\n",
       "    <tr>\n",
       "      <th>45</th>\n",
       "      <td>sgComp</td>\n",
       "      <td></td>\n",
       "    </tr>\n",
       "    <tr>\n",
       "      <th>47</th>\n",
       "      <td>simpleForecast</td>\n",
       "      <td></td>\n",
       "    </tr>\n",
       "    <tr>\n",
       "      <th>48</th>\n",
       "      <td>svDataDescription</td>\n",
       "      <td></td>\n",
       "    </tr>\n",
       "    <tr>\n",
       "      <th>49</th>\n",
       "      <td>svm</td>\n",
       "      <td></td>\n",
       "    </tr>\n",
       "    <tr>\n",
       "      <th>51</th>\n",
       "      <td>textMining</td>\n",
       "      <td></td>\n",
       "    </tr>\n",
       "    <tr>\n",
       "      <th>52</th>\n",
       "      <td>textParse</td>\n",
       "      <td></td>\n",
       "    </tr>\n",
       "    <tr>\n",
       "      <th>53</th>\n",
       "      <td>timeData</td>\n",
       "      <td></td>\n",
       "    </tr>\n",
       "    <tr>\n",
       "      <th>54</th>\n",
       "      <td>timeFrequency</td>\n",
       "      <td></td>\n",
       "    </tr>\n",
       "    <tr>\n",
       "      <th>55</th>\n",
       "      <td>transpose</td>\n",
       "      <td></td>\n",
       "    </tr>\n",
       "    <tr>\n",
       "      <th>56</th>\n",
       "      <td>tsReconcile</td>\n",
       "      <td></td>\n",
       "    </tr>\n",
       "    <tr>\n",
       "      <th>57</th>\n",
       "      <td>varReduce</td>\n",
       "      <td></td>\n",
       "    </tr>\n",
       "  </tbody>\n",
       "</table>\n",
       "</div>"
      ],
      "text/plain": [
       "Action set information\n",
       "\n",
       "              actionset    label\n",
       "0                access         \n",
       "2           aggregation         \n",
       "3                astore         \n",
       "4              autotune         \n",
       "5              boolRule         \n",
       "7           cardinality         \n",
       "8            clustering         \n",
       "10               copula         \n",
       "11             countreg         \n",
       "14         decisionTree         \n",
       "15                  ds2         \n",
       "16              factmac         \n",
       "17              fcmpact         \n",
       "18               fedSql         \n",
       "19           hyperGroup         \n",
       "20                image         \n",
       "21          loadStreams         \n",
       "22      midTierServices         \n",
       "23              network  Network\n",
       "24              network  Network\n",
       "25  networkOptimization         \n",
       "26            neuralNet         \n",
       "27            nonlinear         \n",
       "28         optimization         \n",
       "29                panel         \n",
       "30                  pca         \n",
       "32                  pls         \n",
       "33                 qlim         \n",
       "34             quantreg         \n",
       "35            recommend         \n",
       "36           regression         \n",
       "37            robustPca         \n",
       "38             sampling         \n",
       "40    sentimentAnalysis         \n",
       "41             sequence         \n",
       "44             severity         \n",
       "45               sgComp         \n",
       "47       simpleForecast         \n",
       "48    svDataDescription         \n",
       "49                  svm         \n",
       "51           textMining         \n",
       "52            textParse         \n",
       "53             timeData         \n",
       "54        timeFrequency         \n",
       "55            transpose         \n",
       "56          tsReconcile         \n",
       "57            varReduce         "
      ]
     },
     "execution_count": 71,
     "metadata": {},
     "output_type": "execute_result"
    }
   ],
   "source": [
    "asinfo"
   ]
  },
  {
   "cell_type": "markdown",
   "metadata": {},
   "source": [
    "Aby załadować wybrany zestaw akcji użyj akcji **loadactionset**."
   ]
  },
  {
   "cell_type": "code",
   "execution_count": 73,
   "metadata": {},
   "outputs": [
    {
     "name": "stdout",
     "output_type": "stream",
     "text": [
      "NOTE: Added action set 'simple'.\n"
     ]
    },
    {
     "data": {
      "text/html": [
       "<div class=\"cas-results-key\"><b>&#167; actionset</b></div>\n",
       "<div class=\"cas-results-body\">\n",
       "<div>simple</div>\n",
       "</div>\n",
       "<div class=\"cas-output-area\"></div>\n",
       "<p class=\"cas-results-performance\"><small><span class=\"cas-elapsed\">elapsed 0.0112s</span> &#183; <span class=\"cas-user\">user 0.00394s</span> &#183; <span class=\"cas-sys\">sys 0.00791s</span> &#183; <span class=\"cas-memory\">mem 0.15MB</span></small></p>"
      ],
      "text/plain": [
       "[actionset]\n",
       "\n",
       " 'simple'\n",
       "\n",
       "+ Elapsed: 0.0112s, user: 0.00394s, sys: 0.00791s, mem: 0.15mb"
      ]
     },
     "execution_count": 73,
     "metadata": {},
     "output_type": "execute_result"
    }
   ],
   "source": [
    "conn.loadactionset('simple')"
   ]
  },
  {
   "cell_type": "markdown",
   "metadata": {},
   "source": [
    "Pomoc dla zestawu akcji **simple**."
   ]
  },
  {
   "cell_type": "code",
   "execution_count": 74,
   "metadata": {
    "collapsed": true
   },
   "outputs": [],
   "source": [
    "conn.simple?"
   ]
  },
  {
   "cell_type": "markdown",
   "metadata": {},
   "source": [
    "## Szczegóły"
   ]
  },
  {
   "cell_type": "markdown",
   "metadata": {},
   "source": [
    "## Rozwiązywanie problemów"
   ]
  },
  {
   "cell_type": "code",
   "execution_count": 76,
   "metadata": {
    "collapsed": true
   },
   "outputs": [],
   "source": [
    "# This is equivalent to swat.set_option('cas.exception_on_severity', 2)\n",
    "\n",
    "swat.options.cas.exception_on_severity = 2"
   ]
  },
  {
   "cell_type": "code",
   "execution_count": 77,
   "metadata": {},
   "outputs": [
    {
     "name": "stdout",
     "output_type": "stream",
     "text": [
      "The specified action was not found.\n"
     ]
    },
    {
     "name": "stderr",
     "output_type": "stream",
     "text": [
      "ERROR: Action 'nonexistent' was not found.\n",
      "ERROR: The action stopped due to errors.\n"
     ]
    }
   ],
   "source": [
    "try:\n",
    "    out = conn.help(action='nonexistent')\n",
    "except swat.SWATCASActionError as err:\n",
    "    print(err.message)"
   ]
  },
  {
   "cell_type": "markdown",
   "metadata": {},
   "source": [
    "### Rozwiązywanie problemów z parametrami"
   ]
  },
  {
   "cell_type": "code",
   "execution_count": 78,
   "metadata": {},
   "outputs": [
    {
     "name": "stdout",
     "output_type": "stream",
     "text": [
      "NOTE: Added action set 'simple'.\n"
     ]
    }
   ],
   "source": [
    "out = conn.loadactionset('simple')"
   ]
  },
  {
   "cell_type": "code",
   "execution_count": 79,
   "metadata": {},
   "outputs": [
    {
     "name": "stderr",
     "output_type": "stream",
     "text": [
      "ERROR: An attempt was made to convert parameter 'table.groupby[2]' from int64 to parameter list, but the conversion failed.\n",
      "ERROR: The action stopped due to errors.\n"
     ]
    },
    {
     "ename": "SWATCASActionError",
     "evalue": "A parameter was the wrong type and could not be converted.",
     "output_type": "error",
     "traceback": [
      "\u001b[0;31m---------------------------------------------------------------------------\u001b[0m",
      "\u001b[0;31mSWATCASActionError\u001b[0m                        Traceback (most recent call last)",
      "\u001b[0;32m<ipython-input-79-8c739c3d1819>\u001b[0m in \u001b[0;36m<module>\u001b[0;34m()\u001b[0m\n\u001b[1;32m      1\u001b[0m out = conn.summary(table=dict(name='test',\n\u001b[0;32m----> 2\u001b[0;31m                               groupby=['var1', 'var2', 3]))\n\u001b[0m",
      "\u001b[0;32m/usr/lib/python3.4/site-packages/swat/cas/actions.py\u001b[0m in \u001b[0;36m__call__\u001b[0;34m(_self_, table, groupbytable, attributes, inputs, groupbylimit, orderby, orderbyagg, orderbydesc, orderbygbyraw, resultlimit, casout, repeat, freq, cialpha, citype, subset, weight, **kwargs)\u001b[0m\n",
      "\u001b[0;32m/usr/lib/python3.4/site-packages/swat/cas/actions.py\u001b[0m in \u001b[0;36m__call__\u001b[0;34m(self, **kwargs)\u001b[0m\n\u001b[1;32m    838\u001b[0m         return type(self).get_connection().retrieve(type(self).__name__.lower(),\n\u001b[1;32m    839\u001b[0m                                                     **mergedefined(self.to_params(),\n\u001b[0;32m--> 840\u001b[0;31m                                                     kwargs))\n\u001b[0m\u001b[1;32m    841\u001b[0m \u001b[0;34m\u001b[0m\u001b[0m\n\u001b[1;32m    842\u001b[0m     \u001b[0mretrieve\u001b[0m \u001b[0;34m=\u001b[0m \u001b[0m__call__\u001b[0m\u001b[0;34m\u001b[0m\u001b[0m\n",
      "\u001b[0;32m/usr/lib/python3.4/site-packages/swat/cas/connection.py\u001b[0m in \u001b[0;36mretrieve\u001b[0;34m(self, _name_, **kwargs)\u001b[0m\n\u001b[1;32m   1470\u001b[0m \u001b[0;34m\u001b[0m\u001b[0m\n\u001b[1;32m   1471\u001b[0m         results = self._get_results(getnext(self, datamsghandler=datamsghandler),\n\u001b[0;32m-> 1472\u001b[0;31m                                     responsefunc=responsefunc, resultfunc=resultfunc)\n\u001b[0m\u001b[1;32m   1473\u001b[0m \u001b[0;34m\u001b[0m\u001b[0m\n\u001b[1;32m   1474\u001b[0m         \u001b[0;31m# Return raw data if a function was supplied\u001b[0m\u001b[0;34m\u001b[0m\u001b[0;34m\u001b[0m\u001b[0m\n",
      "\u001b[0;32m/usr/lib/python3.4/site-packages/swat/cas/connection.py\u001b[0m in \u001b[0;36m_get_results\u001b[0;34m(self, riter, responsefunc, resultfunc)\u001b[0m\n\u001b[1;32m   1583\u001b[0m                 \u001b[0merr\u001b[0m\u001b[0;34m.\u001b[0m\u001b[0mresults\u001b[0m \u001b[0;34m=\u001b[0m \u001b[0mresults\u001b[0m\u001b[0;34m\u001b[0m\u001b[0m\n\u001b[1;32m   1584\u001b[0m                 \u001b[0merr\u001b[0m\u001b[0;34m.\u001b[0m\u001b[0mevents\u001b[0m \u001b[0;34m=\u001b[0m \u001b[0mevents\u001b[0m\u001b[0;34m\u001b[0m\u001b[0m\n\u001b[0;32m-> 1585\u001b[0;31m             \u001b[0;32mraise\u001b[0m \u001b[0merr\u001b[0m\u001b[0;34m\u001b[0m\u001b[0m\n\u001b[0m\u001b[1;32m   1586\u001b[0m \u001b[0;34m\u001b[0m\u001b[0m\n\u001b[1;32m   1587\u001b[0m         \u001b[0;32mif\u001b[0m \u001b[0mresponsefunc\u001b[0m \u001b[0;32mis\u001b[0m \u001b[0;32mnot\u001b[0m \u001b[0;32mNone\u001b[0m\u001b[0;34m:\u001b[0m\u001b[0;34m\u001b[0m\u001b[0m\n",
      "\u001b[0;32m/usr/lib/python3.4/site-packages/swat/cas/connection.py\u001b[0m in \u001b[0;36m_get_results\u001b[0;34m(self, riter, responsefunc, resultfunc)\u001b[0m\n\u001b[1;32m   1519\u001b[0m \u001b[0;34m\u001b[0m\u001b[0m\n\u001b[1;32m   1520\u001b[0m         \u001b[0;32mtry\u001b[0m\u001b[0;34m:\u001b[0m\u001b[0;34m\u001b[0m\u001b[0m\n\u001b[0;32m-> 1521\u001b[0;31m             \u001b[0;32mfor\u001b[0m \u001b[0mresponse\u001b[0m\u001b[0;34m,\u001b[0m \u001b[0mconn\u001b[0m \u001b[0;32min\u001b[0m \u001b[0mriter\u001b[0m\u001b[0;34m:\u001b[0m\u001b[0;34m\u001b[0m\u001b[0m\n\u001b[0m\u001b[1;32m   1522\u001b[0m \u001b[0;34m\u001b[0m\u001b[0m\n\u001b[1;32m   1523\u001b[0m                 \u001b[0;32mif\u001b[0m \u001b[0mresponsefunc\u001b[0m \u001b[0;32mis\u001b[0m \u001b[0;32mnot\u001b[0m \u001b[0;32mNone\u001b[0m\u001b[0;34m:\u001b[0m\u001b[0;34m\u001b[0m\u001b[0m\n",
      "\u001b[0;32m/usr/lib/python3.4/site-packages/swat/cas/connection.py\u001b[0m in \u001b[0;36mgetnext\u001b[0;34m(*objs, **kwargs)\u001b[0m\n\u001b[1;32m   2949\u001b[0m                 \u001b[0;32myield\u001b[0m \u001b[0;34m[\u001b[0m\u001b[0;34m]\u001b[0m\u001b[0;34m,\u001b[0m \u001b[0;32mNone\u001b[0m\u001b[0;34m\u001b[0m\u001b[0m\n\u001b[1;32m   2950\u001b[0m \u001b[0;34m\u001b[0m\u001b[0m\n\u001b[0;32m-> 2951\u001b[0;31m             \u001b[0;32myield\u001b[0m \u001b[0mgetone\u001b[0m\u001b[0;34m(\u001b[0m\u001b[0mconnections\u001b[0m\u001b[0;34m[\u001b[0m\u001b[0mi\u001b[0m\u001b[0;34m]\u001b[0m\u001b[0;34m,\u001b[0m \u001b[0mdatamsghandler\u001b[0m\u001b[0;34m=\u001b[0m\u001b[0mdatamsghandler\u001b[0m\u001b[0;34m)\u001b[0m\u001b[0;34m\u001b[0m\u001b[0m\n\u001b[0m\u001b[1;32m   2952\u001b[0m \u001b[0;34m\u001b[0m\u001b[0m\n\u001b[1;32m   2953\u001b[0m     \u001b[0;32mexcept\u001b[0m \u001b[0;34m(\u001b[0m\u001b[0mKeyboardInterrupt\u001b[0m\u001b[0;34m,\u001b[0m \u001b[0mSystemExit\u001b[0m\u001b[0;34m)\u001b[0m\u001b[0;34m:\u001b[0m\u001b[0;34m\u001b[0m\u001b[0m\n",
      "\u001b[0;32m/usr/lib/python3.4/site-packages/swat/cas/connection.py\u001b[0m in \u001b[0;36mgetone\u001b[0;34m(connection, datamsghandler)\u001b[0m\n\u001b[1;32m   2870\u001b[0m         \u001b[0;32mif\u001b[0m \u001b[0mexception_on_severity\u001b[0m \u001b[0;32mis\u001b[0m \u001b[0;32mnot\u001b[0m \u001b[0;32mNone\u001b[0m \u001b[0;32mand\u001b[0m\u001b[0;31m \u001b[0m\u001b[0;31m\\\u001b[0m\u001b[0;34m\u001b[0m\u001b[0m\n\u001b[1;32m   2871\u001b[0m                 \u001b[0moutput\u001b[0m\u001b[0;34m[\u001b[0m\u001b[0;36m0\u001b[0m\u001b[0;34m]\u001b[0m\u001b[0;34m.\u001b[0m\u001b[0mdisposition\u001b[0m\u001b[0;34m.\u001b[0m\u001b[0mseverity\u001b[0m \u001b[0;34m>=\u001b[0m \u001b[0mexception_on_severity\u001b[0m\u001b[0;34m:\u001b[0m\u001b[0;34m\u001b[0m\u001b[0m\n\u001b[0;32m-> 2872\u001b[0;31m             \u001b[0;32mraise\u001b[0m \u001b[0mSWATCASActionError\u001b[0m\u001b[0;34m(\u001b[0m\u001b[0moutput\u001b[0m\u001b[0;34m[\u001b[0m\u001b[0;36m0\u001b[0m\u001b[0;34m]\u001b[0m\u001b[0;34m.\u001b[0m\u001b[0mdisposition\u001b[0m\u001b[0;34m.\u001b[0m\u001b[0mstatus\u001b[0m\u001b[0;34m,\u001b[0m \u001b[0moutput\u001b[0m\u001b[0;34m[\u001b[0m\u001b[0;36m0\u001b[0m\u001b[0;34m]\u001b[0m\u001b[0;34m,\u001b[0m \u001b[0moutput\u001b[0m\u001b[0;34m[\u001b[0m\u001b[0;36m1\u001b[0m\u001b[0;34m]\u001b[0m\u001b[0;34m)\u001b[0m\u001b[0;34m\u001b[0m\u001b[0m\n\u001b[0m\u001b[1;32m   2873\u001b[0m \u001b[0;34m\u001b[0m\u001b[0m\n\u001b[1;32m   2874\u001b[0m     \u001b[0;32mreturn\u001b[0m \u001b[0moutput\u001b[0m\u001b[0;34m\u001b[0m\u001b[0m\n",
      "\u001b[0;31mSWATCASActionError\u001b[0m: A parameter was the wrong type and could not be converted."
     ]
    }
   ],
   "source": [
    "out = conn.summary(table=dict(name='test',\n",
    "                              groupby=['var1', 'var2', 3]))"
   ]
  },
  {
   "cell_type": "markdown",
   "metadata": {},
   "source": [
    "Włączmy śledzenie akcji aby sprawdzić szczegółówo co dokładnie jest wywoływane."
   ]
  },
  {
   "cell_type": "code",
   "execution_count": 80,
   "metadata": {
    "collapsed": true
   },
   "outputs": [],
   "source": [
    "swat.set_option('cas.trace_actions', True)"
   ]
  },
  {
   "cell_type": "code",
   "execution_count": 81,
   "metadata": {},
   "outputs": [
    {
     "name": "stdout",
     "output_type": "stream",
     "text": [
      "[simple.summary]\n",
      "   table.groupby[0] = \"var1\" (string)\n",
      "   table.groupby[1] = \"var2\" (string)\n",
      "   table.groupby[2] = 3 (int64)\n",
      "   table.name    = \"test\" (string)\n",
      "\n"
     ]
    },
    {
     "name": "stderr",
     "output_type": "stream",
     "text": [
      "ERROR: An attempt was made to convert parameter 'table.groupby[2]' from int64 to parameter list, but the conversion failed.\n",
      "ERROR: The action stopped due to errors.\n"
     ]
    },
    {
     "ename": "SWATCASActionError",
     "evalue": "A parameter was the wrong type and could not be converted.",
     "output_type": "error",
     "traceback": [
      "\u001b[0;31m---------------------------------------------------------------------------\u001b[0m",
      "\u001b[0;31mSWATCASActionError\u001b[0m                        Traceback (most recent call last)",
      "\u001b[0;32m<ipython-input-81-e90c2c6fc905>\u001b[0m in \u001b[0;36m<module>\u001b[0;34m()\u001b[0m\n\u001b[0;32m----> 1\u001b[0;31m \u001b[0mout\u001b[0m \u001b[0;34m=\u001b[0m \u001b[0mconn\u001b[0m\u001b[0;34m.\u001b[0m\u001b[0msummary\u001b[0m\u001b[0;34m(\u001b[0m\u001b[0mtable\u001b[0m\u001b[0;34m=\u001b[0m\u001b[0mdict\u001b[0m\u001b[0;34m(\u001b[0m\u001b[0mname\u001b[0m\u001b[0;34m=\u001b[0m\u001b[0;34m'test'\u001b[0m\u001b[0;34m,\u001b[0m \u001b[0mgroupby\u001b[0m\u001b[0;34m=\u001b[0m\u001b[0;34m[\u001b[0m\u001b[0;34m'var1'\u001b[0m\u001b[0;34m,\u001b[0m \u001b[0;34m'var2'\u001b[0m\u001b[0;34m,\u001b[0m \u001b[0;36m3\u001b[0m\u001b[0;34m]\u001b[0m\u001b[0;34m)\u001b[0m\u001b[0;34m)\u001b[0m\u001b[0;34m\u001b[0m\u001b[0m\n\u001b[0m",
      "\u001b[0;32m/usr/lib/python3.4/site-packages/swat/cas/actions.py\u001b[0m in \u001b[0;36m__call__\u001b[0;34m(_self_, table, groupbytable, attributes, inputs, groupbylimit, orderby, orderbyagg, orderbydesc, orderbygbyraw, resultlimit, casout, repeat, freq, cialpha, citype, subset, weight, **kwargs)\u001b[0m\n",
      "\u001b[0;32m/usr/lib/python3.4/site-packages/swat/cas/actions.py\u001b[0m in \u001b[0;36m__call__\u001b[0;34m(self, **kwargs)\u001b[0m\n\u001b[1;32m    838\u001b[0m         return type(self).get_connection().retrieve(type(self).__name__.lower(),\n\u001b[1;32m    839\u001b[0m                                                     **mergedefined(self.to_params(),\n\u001b[0;32m--> 840\u001b[0;31m                                                     kwargs))\n\u001b[0m\u001b[1;32m    841\u001b[0m \u001b[0;34m\u001b[0m\u001b[0m\n\u001b[1;32m    842\u001b[0m     \u001b[0mretrieve\u001b[0m \u001b[0;34m=\u001b[0m \u001b[0m__call__\u001b[0m\u001b[0;34m\u001b[0m\u001b[0m\n",
      "\u001b[0;32m/usr/lib/python3.4/site-packages/swat/cas/connection.py\u001b[0m in \u001b[0;36mretrieve\u001b[0;34m(self, _name_, **kwargs)\u001b[0m\n\u001b[1;32m   1470\u001b[0m \u001b[0;34m\u001b[0m\u001b[0m\n\u001b[1;32m   1471\u001b[0m         results = self._get_results(getnext(self, datamsghandler=datamsghandler),\n\u001b[0;32m-> 1472\u001b[0;31m                                     responsefunc=responsefunc, resultfunc=resultfunc)\n\u001b[0m\u001b[1;32m   1473\u001b[0m \u001b[0;34m\u001b[0m\u001b[0m\n\u001b[1;32m   1474\u001b[0m         \u001b[0;31m# Return raw data if a function was supplied\u001b[0m\u001b[0;34m\u001b[0m\u001b[0;34m\u001b[0m\u001b[0m\n",
      "\u001b[0;32m/usr/lib/python3.4/site-packages/swat/cas/connection.py\u001b[0m in \u001b[0;36m_get_results\u001b[0;34m(self, riter, responsefunc, resultfunc)\u001b[0m\n\u001b[1;32m   1583\u001b[0m                 \u001b[0merr\u001b[0m\u001b[0;34m.\u001b[0m\u001b[0mresults\u001b[0m \u001b[0;34m=\u001b[0m \u001b[0mresults\u001b[0m\u001b[0;34m\u001b[0m\u001b[0m\n\u001b[1;32m   1584\u001b[0m                 \u001b[0merr\u001b[0m\u001b[0;34m.\u001b[0m\u001b[0mevents\u001b[0m \u001b[0;34m=\u001b[0m \u001b[0mevents\u001b[0m\u001b[0;34m\u001b[0m\u001b[0m\n\u001b[0;32m-> 1585\u001b[0;31m             \u001b[0;32mraise\u001b[0m \u001b[0merr\u001b[0m\u001b[0;34m\u001b[0m\u001b[0m\n\u001b[0m\u001b[1;32m   1586\u001b[0m \u001b[0;34m\u001b[0m\u001b[0m\n\u001b[1;32m   1587\u001b[0m         \u001b[0;32mif\u001b[0m \u001b[0mresponsefunc\u001b[0m \u001b[0;32mis\u001b[0m \u001b[0;32mnot\u001b[0m \u001b[0;32mNone\u001b[0m\u001b[0;34m:\u001b[0m\u001b[0;34m\u001b[0m\u001b[0m\n",
      "\u001b[0;32m/usr/lib/python3.4/site-packages/swat/cas/connection.py\u001b[0m in \u001b[0;36m_get_results\u001b[0;34m(self, riter, responsefunc, resultfunc)\u001b[0m\n\u001b[1;32m   1519\u001b[0m \u001b[0;34m\u001b[0m\u001b[0m\n\u001b[1;32m   1520\u001b[0m         \u001b[0;32mtry\u001b[0m\u001b[0;34m:\u001b[0m\u001b[0;34m\u001b[0m\u001b[0m\n\u001b[0;32m-> 1521\u001b[0;31m             \u001b[0;32mfor\u001b[0m \u001b[0mresponse\u001b[0m\u001b[0;34m,\u001b[0m \u001b[0mconn\u001b[0m \u001b[0;32min\u001b[0m \u001b[0mriter\u001b[0m\u001b[0;34m:\u001b[0m\u001b[0;34m\u001b[0m\u001b[0m\n\u001b[0m\u001b[1;32m   1522\u001b[0m \u001b[0;34m\u001b[0m\u001b[0m\n\u001b[1;32m   1523\u001b[0m                 \u001b[0;32mif\u001b[0m \u001b[0mresponsefunc\u001b[0m \u001b[0;32mis\u001b[0m \u001b[0;32mnot\u001b[0m \u001b[0;32mNone\u001b[0m\u001b[0;34m:\u001b[0m\u001b[0;34m\u001b[0m\u001b[0m\n",
      "\u001b[0;32m/usr/lib/python3.4/site-packages/swat/cas/connection.py\u001b[0m in \u001b[0;36mgetnext\u001b[0;34m(*objs, **kwargs)\u001b[0m\n\u001b[1;32m   2949\u001b[0m                 \u001b[0;32myield\u001b[0m \u001b[0;34m[\u001b[0m\u001b[0;34m]\u001b[0m\u001b[0;34m,\u001b[0m \u001b[0;32mNone\u001b[0m\u001b[0;34m\u001b[0m\u001b[0m\n\u001b[1;32m   2950\u001b[0m \u001b[0;34m\u001b[0m\u001b[0m\n\u001b[0;32m-> 2951\u001b[0;31m             \u001b[0;32myield\u001b[0m \u001b[0mgetone\u001b[0m\u001b[0;34m(\u001b[0m\u001b[0mconnections\u001b[0m\u001b[0;34m[\u001b[0m\u001b[0mi\u001b[0m\u001b[0;34m]\u001b[0m\u001b[0;34m,\u001b[0m \u001b[0mdatamsghandler\u001b[0m\u001b[0;34m=\u001b[0m\u001b[0mdatamsghandler\u001b[0m\u001b[0;34m)\u001b[0m\u001b[0;34m\u001b[0m\u001b[0m\n\u001b[0m\u001b[1;32m   2952\u001b[0m \u001b[0;34m\u001b[0m\u001b[0m\n\u001b[1;32m   2953\u001b[0m     \u001b[0;32mexcept\u001b[0m \u001b[0;34m(\u001b[0m\u001b[0mKeyboardInterrupt\u001b[0m\u001b[0;34m,\u001b[0m \u001b[0mSystemExit\u001b[0m\u001b[0;34m)\u001b[0m\u001b[0;34m:\u001b[0m\u001b[0;34m\u001b[0m\u001b[0m\n",
      "\u001b[0;32m/usr/lib/python3.4/site-packages/swat/cas/connection.py\u001b[0m in \u001b[0;36mgetone\u001b[0;34m(connection, datamsghandler)\u001b[0m\n\u001b[1;32m   2870\u001b[0m         \u001b[0;32mif\u001b[0m \u001b[0mexception_on_severity\u001b[0m \u001b[0;32mis\u001b[0m \u001b[0;32mnot\u001b[0m \u001b[0;32mNone\u001b[0m \u001b[0;32mand\u001b[0m\u001b[0;31m \u001b[0m\u001b[0;31m\\\u001b[0m\u001b[0;34m\u001b[0m\u001b[0m\n\u001b[1;32m   2871\u001b[0m                 \u001b[0moutput\u001b[0m\u001b[0;34m[\u001b[0m\u001b[0;36m0\u001b[0m\u001b[0;34m]\u001b[0m\u001b[0;34m.\u001b[0m\u001b[0mdisposition\u001b[0m\u001b[0;34m.\u001b[0m\u001b[0mseverity\u001b[0m \u001b[0;34m>=\u001b[0m \u001b[0mexception_on_severity\u001b[0m\u001b[0;34m:\u001b[0m\u001b[0;34m\u001b[0m\u001b[0m\n\u001b[0;32m-> 2872\u001b[0;31m             \u001b[0;32mraise\u001b[0m \u001b[0mSWATCASActionError\u001b[0m\u001b[0;34m(\u001b[0m\u001b[0moutput\u001b[0m\u001b[0;34m[\u001b[0m\u001b[0;36m0\u001b[0m\u001b[0;34m]\u001b[0m\u001b[0;34m.\u001b[0m\u001b[0mdisposition\u001b[0m\u001b[0;34m.\u001b[0m\u001b[0mstatus\u001b[0m\u001b[0;34m,\u001b[0m \u001b[0moutput\u001b[0m\u001b[0;34m[\u001b[0m\u001b[0;36m0\u001b[0m\u001b[0;34m]\u001b[0m\u001b[0;34m,\u001b[0m \u001b[0moutput\u001b[0m\u001b[0;34m[\u001b[0m\u001b[0;36m1\u001b[0m\u001b[0;34m]\u001b[0m\u001b[0;34m)\u001b[0m\u001b[0;34m\u001b[0m\u001b[0m\n\u001b[0m\u001b[1;32m   2873\u001b[0m \u001b[0;34m\u001b[0m\u001b[0m\n\u001b[1;32m   2874\u001b[0m     \u001b[0;32mreturn\u001b[0m \u001b[0moutput\u001b[0m\u001b[0;34m\u001b[0m\u001b[0m\n",
      "\u001b[0;31mSWATCASActionError\u001b[0m: A parameter was the wrong type and could not be converted."
     ]
    }
   ],
   "source": [
    "out = conn.summary(table=dict(name='test', groupby=['var1', 'var2', 3]))"
   ]
  },
  {
   "cell_type": "markdown",
   "metadata": {},
   "source": [
    "## Opcje SWAT"
   ]
  },
  {
   "cell_type": "markdown",
   "metadata": {},
   "source": [
    "Wyświetlenie wszystkich dostępnych opcji."
   ]
  },
  {
   "cell_type": "code",
   "execution_count": 82,
   "metadata": {},
   "outputs": [
    {
     "name": "stdout",
     "output_type": "stream",
     "text": [
      "cas.dataset.auto_castable : boolean\n",
      "    Should a column of CASTable objects be automatically\n",
      "    created if a CASLib and CAS table name are columns in the data?\n",
      "    NOTE: This applies to all except the 'tuples' format.\n",
      "    [default: True] [currently: True]\n",
      "\n",
      "\n",
      "cas.dataset.bygroup_as_index : boolean\n",
      "    If True, any by group columns are set as the DataFrame index.\n",
      "    [default: True] [currently: True]\n",
      "\n",
      "\n",
      "cas.dataset.bygroup_collision_suffix : string\n",
      "    Suffix to use on the By group column name when a By group column\n",
      "    is also included as a data column.\n",
      "    [default: _by] [currently: _by]\n",
      "\n",
      "\n",
      "cas.dataset.bygroup_columns : string\n",
      "    CAS returns by grouping information as metadata on a table.\n",
      "    This metadata can be used to construct columns in the output table.\n",
      "    The possible values of this option are:\n",
      "        none : Do not convert metadata to columns\n",
      "        raw  : Use the raw (i.e., unformatted) values\n",
      "        formatted : Use the formatted value.  This is the actual value\n",
      "                    used to do the grouping\n",
      "        both : Add columns for both raw and formatted\n",
      "    [default: formatted] [currently: formatted]\n",
      "\n",
      "\n",
      "cas.dataset.bygroup_formatted_suffix : string\n",
      "    Suffix to use on the formatted column name when both raw and\n",
      "    formatted by group colunms are added.\n",
      "    [default: _f] [currently: _f]\n",
      "\n",
      "\n",
      "cas.dataset.drop_index_name : boolean\n",
      "    If True, the name of the index is set to None.\n",
      "    [default: True] [currently: True]\n",
      "\n",
      "\n",
      "cas.dataset.format : string\n",
      "    Data structure for tabular data returned from CAS.  The following\n",
      "    formats are supported.\n",
      "    dataframe:sas : Pandas Dataframe extended with SAS metadata such as\n",
      "        SAS data formats, titles, labels, etc.\n",
      "    dataframe : Standard Pandas Dataframe\n",
      "    dict : Dictionary like {column => {index => value}}\n",
      "    dict:list : Dictionary like {column => [values]}\n",
      "    dict:series : Dictionary like {column => pandas.Series(values)\n",
      "    dict:split : Dictionary like {index => [index],\n",
      "                                  columns => [columns],\n",
      "                                  data => [values]}\n",
      "    dict:records : List like [{column => value}, ... ,\n",
      "                              {column => value}]\n",
      "    tuple : A tuple where each element is a tuple of the data values only.\n",
      "    [default: dataframe:sas] [currently: dataframe:sas]\n",
      "\n",
      "\n",
      "cas.dataset.index_adjustment : int\n",
      "    Adjustment to the index specified by cas.dataset.index.\n",
      "    This can be used to adjust SAS 1-based index data sets to\n",
      "    0-based Pandas DataFrames.\n",
      "    [default: -1] [currently: -1]\n",
      "\n",
      "\n",
      "cas.dataset.index_name : string or list of strings\n",
      "    The name or names of the columns to be automatically converted\n",
      "    to the index.\n",
      "    [default: _Index_] [currently: _Index_]\n",
      "\n",
      "\n",
      "cas.dataset.max_rows_fetched : int\n",
      "    The maximum number of rows to fetch with methods that use\n",
      "    the table.fetch action in the background (i.e. the head, tail,\n",
      "    values, etc. of CASTable).\n",
      "    [default: 10000] [currently: 10000]\n",
      "\n",
      "\n",
      "cas.exception_on_severity : int or None\n",
      "    Indicates the CAS action severity level at which an exception\n",
      "    should be raised.  None means that no exception should be raised.\n",
      "    1 would raise exceptions on warnings.  2 would raise exceptions\n",
      "    on errors.\n",
      "    [default: None] [currently: 2]\n",
      "\n",
      "\n",
      "cas.hostname : string\n",
      "    Specifies the hostname for the CAS server.\n",
      "    [default: localhost] [currently: localhost]\n",
      "\n",
      "\n",
      "cas.missing.date : int\n",
      "    Sets substitution value for date missing values.\n",
      "    [default: -2147483648] [currently: -2147483648]\n",
      "\n",
      "\n",
      "cas.missing.datetime : int\n",
      "    Sets substitution value for datetime missing values.\n",
      "    [default: -9223372036854775808] [currently: -9223372036854775808]\n",
      "\n",
      "\n",
      "cas.missing.int32 : int\n",
      "    Sets substitution value for int32 missing values.\n",
      "    [default: -2147483648] [currently: -2147483648]\n",
      "\n",
      "\n",
      "cas.missing.int64 : int\n",
      "    Sets substitution value for int64 missing values.\n",
      "    [default: -9223372036854775808] [currently: -9223372036854775808]\n",
      "\n",
      "\n",
      "cas.missing.time : int\n",
      "    Sets substitution value for time missing values.\n",
      "    [default: -9223372036854775808] [currently: -9223372036854775808]\n",
      "\n",
      "\n",
      "cas.port : int\n",
      "    Sets the port number for the CAS server.\n",
      "    [default: 0] [currently: 0]\n",
      "\n",
      "\n",
      "cas.print_messages : boolean\n",
      "    Indicates whether or not CAS response messages should be printed.\n",
      "    [default: True] [currently: True]\n",
      "\n",
      "\n",
      "cas.protocol : string\n",
      "    Communication protocol for talking to CAS server.\n",
      "    The value of \"auto\" will try to auto-detect the type.\n",
      "    Using \"http\" or \"https\" will use the REST interface.\n",
      "    [default: auto] [currently: auto]\n",
      "\n",
      "\n",
      "cas.trace_actions : boolean\n",
      "    Indicates whether or not CAS action names and parameters should\n",
      "    be printed.  This can be helpful in debugging incorrect action\n",
      "    parameters.\n",
      "    [default: False] [currently: True]\n",
      "\n",
      "\n",
      "cas.trace_ui_actions : boolean\n",
      "    Indicates whether or not CAS action names and parameters from\n",
      "    actions invoked by the interface itself. should be printed.\n",
      "    This option is only honored if cas.trace_actions is also enabled.\n",
      "    [default: False] [currently: False]\n",
      "\n",
      "\n",
      "encoding_errors : string\n",
      "    Specifies the error handler for encoding and decoding errors in\n",
      "    handling strings.  Possible values are given in the Python\n",
      "    documentation.  Typical values are strict, ignore, replace, or\n",
      "    xmlcharrefreplace.\n",
      "    [default: strict] [currently: strict]\n",
      "\n",
      "\n",
      "interactive_mode : boolean\n",
      "    Indicates whether all interactive mode features should be enabled.\n",
      "    Interactive features include things like generating formatted help\n",
      "    strings for objects automatically generated from information from\n",
      "    the server.  This may give a performance improvement in batch jobs\n",
      "    that don't need interactive features.\n",
      "    [default: True] [currently: True]\n",
      "\n",
      "\n",
      "tkpath : string\n",
      "    Displays the path for SAS TK components.  This is determined\n",
      "    when SWAT is imported.  By default, it points to the platform\n",
      "    directory under the swat.lib module.  It can be overridden by\n",
      "    setting a TKPATH environment variable.\n",
      "    [default: /usr/lib/python3.4/site-packages/swat/lib/linux]\n",
      "    [currently: /usr/lib/python3.4/site-packages/swat/lib/linux]\n",
      "\n",
      "\n"
     ]
    }
   ],
   "source": [
    "swat.describe_option()"
   ]
  },
  {
   "cell_type": "markdown",
   "metadata": {},
   "source": [
    "Wyświetlenie pomocy dla konkretnej akcji."
   ]
  },
  {
   "cell_type": "code",
   "execution_count": 83,
   "metadata": {},
   "outputs": [
    {
     "name": "stdout",
     "output_type": "stream",
     "text": [
      "cas.exception_on_severity : int or None\n",
      "    Indicates the CAS action severity level at which an exception\n",
      "    should be raised.  None means that no exception should be raised.\n",
      "    1 would raise exceptions on warnings.  2 would raise exceptions\n",
      "    on errors.\n",
      "    [default: None] [currently: 2]\n",
      "\n",
      "\n"
     ]
    }
   ],
   "source": [
    "swat.describe_option('cas.exception_on_severity')"
   ]
  },
  {
   "cell_type": "markdown",
   "metadata": {},
   "source": [
    "Pobranie wartości dla konkretnej akcji."
   ]
  },
  {
   "cell_type": "code",
   "execution_count": 84,
   "metadata": {},
   "outputs": [
    {
     "data": {
      "text/plain": [
       "2"
      ]
     },
     "execution_count": 84,
     "metadata": {},
     "output_type": "execute_result"
    }
   ],
   "source": [
    "swat.get_option('cas.exception_on_severity')"
   ]
  },
  {
   "cell_type": "markdown",
   "metadata": {},
   "source": [
    "Ustawienie wartości opcji za pomocą **set_option**."
   ]
  },
  {
   "cell_type": "code",
   "execution_count": 85,
   "metadata": {
    "collapsed": true
   },
   "outputs": [],
   "source": [
    "swat.set_option('cas.exception_on_severity', 2)"
   ]
  },
  {
   "cell_type": "markdown",
   "metadata": {},
   "source": [
    "Można też użyć parametru klucza."
   ]
  },
  {
   "cell_type": "code",
   "execution_count": 86,
   "metadata": {
    "collapsed": true
   },
   "outputs": [],
   "source": [
    "swat.set_option(exception_on_severity=2)"
   ]
  },
  {
   "cell_type": "markdown",
   "metadata": {},
   "source": [
    "Ustawianie wielu wartości opcji na raz."
   ]
  },
  {
   "cell_type": "code",
   "execution_count": 87,
   "metadata": {
    "collapsed": true
   },
   "outputs": [],
   "source": [
    "swat.set_option('cas.dataset.index_name', 'Variable', \n",
    "                'cas.dataset.format', 'dataframe',\n",
    "                exception_on_severity=2,     \n",
    "                print_messages=False)"
   ]
  },
  {
   "cell_type": "markdown",
   "metadata": {},
   "source": [
    "Przywrócenie opcji do stanu początkowego."
   ]
  },
  {
   "cell_type": "code",
   "execution_count": 88,
   "metadata": {
    "collapsed": true
   },
   "outputs": [],
   "source": [
    "swat.reset_option('cas.exception_on_severity')"
   ]
  },
  {
   "cell_type": "code",
   "execution_count": 89,
   "metadata": {},
   "outputs": [
    {
     "name": "stdout",
     "output_type": "stream",
     "text": [
      "None\n"
     ]
    }
   ],
   "source": [
    "print(swat.get_option('cas.exception_on_severity'))"
   ]
  },
  {
   "cell_type": "markdown",
   "metadata": {},
   "source": [
    "Python's context managers can be used to scope option settings."
   ]
  },
  {
   "cell_type": "code",
   "execution_count": 95,
   "metadata": {},
   "outputs": [
    {
     "data": {
      "text/plain": [
       "False"
      ]
     },
     "execution_count": 95,
     "metadata": {},
     "output_type": "execute_result"
    }
   ],
   "source": [
    "swat.reset_option('cas.trace_actions')\n",
    "swat.get_option('cas.trace_actions')"
   ]
  },
  {
   "cell_type": "code",
   "execution_count": 96,
   "metadata": {},
   "outputs": [
    {
     "name": "stdout",
     "output_type": "stream",
     "text": [
      "True\n"
     ]
    }
   ],
   "source": [
    "with swat.option_context('cas.trace_actions', True):\n",
    "    print(swat.get_option('cas.trace_actions'))"
   ]
  },
  {
   "cell_type": "code",
   "execution_count": 97,
   "metadata": {},
   "outputs": [
    {
     "data": {
      "text/plain": [
       "False"
      ]
     },
     "execution_count": 97,
     "metadata": {},
     "output_type": "execute_result"
    }
   ],
   "source": [
    "swat.get_option('cas.trace_actions')"
   ]
  },
  {
   "cell_type": "markdown",
   "metadata": {},
   "source": [
    "### Obiekt swat.options\n",
    "\n",
    "Opcje można modyfikować również za pomocą interfejsu obiektu."
   ]
  },
  {
   "cell_type": "code",
   "execution_count": 103,
   "metadata": {
    "collapsed": true
   },
   "outputs": [],
   "source": [
    "swat.options?"
   ]
  },
  {
   "cell_type": "code",
   "execution_count": null,
   "metadata": {
    "collapsed": true
   },
   "outputs": [],
   "source": [
    "swat.options."
   ]
  },
  {
   "cell_type": "code",
   "execution_count": 105,
   "metadata": {},
   "outputs": [
    {
     "data": {
      "text/plain": [
       "False"
      ]
     },
     "execution_count": 105,
     "metadata": {},
     "output_type": "execute_result"
    }
   ],
   "source": [
    "swat.options.cas.trace_actions"
   ]
  },
  {
   "cell_type": "code",
   "execution_count": 106,
   "metadata": {
    "collapsed": true
   },
   "outputs": [],
   "source": [
    "swat.options.cas.trace_actions = True"
   ]
  },
  {
   "cell_type": "code",
   "execution_count": 107,
   "metadata": {
    "collapsed": true
   },
   "outputs": [],
   "source": [
    "swat.options.trace_actions = False"
   ]
  },
  {
   "cell_type": "markdown",
   "metadata": {},
   "source": [
    "## Opcje sesji CAS\n",
    "\n",
    "Oprócz opcji SWAT są również opcje sesji CAS."
   ]
  },
  {
   "cell_type": "code",
   "execution_count": 1,
   "metadata": {},
   "outputs": [
    {
     "name": "stdout",
     "output_type": "stream",
     "text": [
      "Object `conn.setsessopt` not found.\n"
     ]
    }
   ],
   "source": [
    "conn.setsessopt?"
   ]
  },
  {
   "cell_type": "markdown",
   "metadata": {},
   "source": [
    "PObranie wartośći opcji sesji za pomocą akcji **getsessopt**."
   ]
  },
  {
   "cell_type": "code",
   "execution_count": 110,
   "metadata": {},
   "outputs": [
    {
     "data": {
      "text/html": [
       "<div class=\"cas-results-key\"><b>&#167; metrics</b></div>\n",
       "<div class=\"cas-results-body\">\n",
       "<div>0</div>\n",
       "</div>\n",
       "<div class=\"cas-output-area\"></div>\n",
       "<p class=\"cas-results-performance\"><small><span class=\"cas-elapsed\">elapsed 0.000274s</span> &#183; <span class=\"cas-memory\">mem 0.0477MB</span></small></p>"
      ],
      "text/plain": [
       "CASResults([('metrics', 0)])"
      ]
     },
     "execution_count": 110,
     "metadata": {},
     "output_type": "execute_result"
    }
   ],
   "source": [
    "out = conn.getsessopt('metrics')\n",
    "out"
   ]
  },
  {
   "cell_type": "code",
   "execution_count": 111,
   "metadata": {},
   "outputs": [
    {
     "data": {
      "text/plain": [
       "0"
      ]
     },
     "execution_count": 111,
     "metadata": {},
     "output_type": "execute_result"
    }
   ],
   "source": [
    "out.metrics"
   ]
  },
  {
   "cell_type": "markdown",
   "metadata": {},
   "source": [
    "Akcja **setsessopt** pozwala na ustawienie jednej bądź wielu wartości sesji za jednym razem."
   ]
  },
  {
   "cell_type": "code",
   "execution_count": 112,
   "metadata": {},
   "outputs": [
    {
     "data": {
      "text/html": [
       "<div class=\"cas-output-area\"></div>\n",
       "<p class=\"cas-results-performance\"><small><span class=\"cas-elapsed\">elapsed 0.000337s</span> &#183; <span class=\"cas-memory\">mem 0.0976MB</span></small></p>"
      ],
      "text/plain": [
       "CASResults()"
      ]
     },
     "execution_count": 112,
     "metadata": {},
     "output_type": "execute_result"
    }
   ],
   "source": [
    "conn.setsessopt(metrics=True, collate='MVA')"
   ]
  },
  {
   "cell_type": "code",
   "execution_count": 113,
   "metadata": {},
   "outputs": [
    {
     "data": {
      "text/plain": [
       "'MVA'"
      ]
     },
     "execution_count": 113,
     "metadata": {},
     "output_type": "execute_result"
    }
   ],
   "source": [
    "conn.getsessopt('collate').collate"
   ]
  },
  {
   "cell_type": "markdown",
   "metadata": {},
   "source": [
    "# Zamknięcie połączenia albo zakończenie sesji"
   ]
  },
  {
   "cell_type": "code",
   "execution_count": null,
   "metadata": {
    "collapsed": true
   },
   "outputs": [],
   "source": [
    "conn.close()"
   ]
  },
  {
   "cell_type": "code",
   "execution_count": 3,
   "metadata": {},
   "outputs": [
    {
     "data": {
      "text/html": [
       "<div class=\"cas-output-area\"></div>\n",
       "<p class=\"cas-results-performance\"><small><span class=\"cas-elapsed\">elapsed 0.00847s</span> &#183; <span class=\"cas-user\">user 0.00358s</span> &#183; <span class=\"cas-sys\">sys 0.00407s</span> &#183; <span class=\"cas-memory\">mem 0.155MB</span></small></p>"
      ],
      "text/plain": [
       "+ Elapsed: 0.00847s, user: 0.00358s, sys: 0.00407s, mem: 0.155mb"
      ]
     },
     "execution_count": 3,
     "metadata": {},
     "output_type": "execute_result"
    }
   ],
   "source": [
    "conn.endSession()"
   ]
  },
  {
   "cell_type": "code",
   "execution_count": null,
   "metadata": {
    "collapsed": true
   },
   "outputs": [],
   "source": []
  }
 ],
 "metadata": {
  "kernelspec": {
   "display_name": "Python 3",
   "language": "python",
   "name": "python3"
  },
  "language_info": {
   "codemirror_mode": {
    "name": "ipython",
    "version": 3
   },
   "file_extension": ".py",
   "mimetype": "text/x-python",
   "name": "python",
   "nbconvert_exporter": "python",
   "pygments_lexer": "ipython3",
   "version": "3.4.5"
  }
 },
 "nbformat": 4,
 "nbformat_minor": 2
}
